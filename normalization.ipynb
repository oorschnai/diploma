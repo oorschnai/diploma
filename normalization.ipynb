{
 "cells": [
  {
   "cell_type": "code",
   "execution_count": 1,
   "id": "eef27653",
   "metadata": {},
   "outputs": [],
   "source": [
    "import csv\n",
    "\n",
    "words_only = []\n",
    "\n",
    "with open('words_only.csv', newline='\\n') as csvfile:\n",
    "    reader = csv.reader(csvfile, delimiter=\"'\", quotechar='|')\n",
    "    words_only = [row for row in reader]\n",
    "\n",
    "#words_only"
   ]
  },
  {
   "cell_type": "code",
   "execution_count": 2,
   "id": "a94dedb1",
   "metadata": {},
   "outputs": [
    {
     "data": {
      "text/plain": [
       "[[],\n",
       " [],\n",
       " ['Ляпунова', 'Ляпунова', 'Ляпунова', 'Ляпунову', 'Михайлова', 'Ляпунова'],\n",
       " ['MATLAB', 'Нелдера-Мида', 'Коши'],\n",
       " ['Дисциплина', 'Дисциплина'],\n",
       " ['MATLAB', 'Нелдера-Мида', 'Коши'],\n",
       " ['Производственная'],\n",
       " ['компьютером'],\n",
       " [],\n",
       " ['Data Science',\n",
       "  'Data Science',\n",
       "  'CUDA',\n",
       "  'GPU',\n",
       "  'FPGA',\n",
       "  'SoC',\n",
       "  'MATLAB',\n",
       "  'Python',\n",
       "  'R',\n",
       "  'GPU'],\n",
       " [],\n",
       " [],\n",
       " [],\n",
       " ['Robot Operating System', 'ROS'],\n",
       " [],\n",
       " [],\n",
       " ['Java', 'Java'],\n",
       " ['publisher\\\\xadsubscriber', 'RTI Connext DDS', 'OpenSplice', 'ROS', 'ROS2'],\n",
       " [],\n",
       " ['Agile',\n",
       "  'Agile',\n",
       "  'SCRUM',\n",
       "  'User Story',\n",
       "  'Задачи',\n",
       "  'Tasks',\n",
       "  'Спринт',\n",
       "  'Sprint',\n",
       "  'Бэклог',\n",
       "  'Backlog',\n",
       "  'Sprint Burndown Chart',\n",
       "  'SCRUM',\n",
       "  'Product Owner',\n",
       "  'Scrum Master',\n",
       "  'Команда',\n",
       "  'Team',\n",
       "  'Estimate Activity Durations',\n",
       "  'Estimate Activity Resources'],\n",
       " ['Семантического Web',\n",
       "  'Семантического Web',\n",
       "  'интеллектуальных',\n",
       "  'интеллектуальных',\n",
       "  'Семантического Web',\n",
       "  'Семантического Web',\n",
       "  'Семантического Web',\n",
       "  'Семантического Web',\n",
       "  'Семантического Web',\n",
       "  'Семантическом Web',\n",
       "  'Семантического Web',\n",
       "  'Семантического Web',\n",
       "  'Семантическом Web'],\n",
       " [],\n",
       " ['Logtalk', 'Logtalk', 'Logtalk', 'Logtalk'],\n",
       " [],\n",
       " ['ASP', 'ASP', 'ASP', 'ASP', 'ASP', 'ASP', 'ASP', 'ASP', 'ASP'],\n",
       " ['Visual Prolog', 'Visual Prolog'],\n",
       " [],\n",
       " [],\n",
       " [],\n",
       " ['SOL', 'NoSQL', 'NewSQL'],\n",
       " ['Интернет Вещей',\n",
       "  'IoT',\n",
       "  'IoT-устройств',\n",
       "  'IoT',\n",
       "  'Интернета Вещей',\n",
       "  'IoT',\n",
       "  'IoT',\n",
       "  'IoT',\n",
       "  'IoT-устройств',\n",
       "  'IoT-устройств',\n",
       "  'IoT-устройств'],\n",
       " [],\n",
       " ['Network Science',\n",
       "  'Интернет',\n",
       "  'Pajek',\n",
       "  'Gephi',\n",
       "  'Network Science',\n",
       "  'Pajek',\n",
       "  'Gephi',\n",
       "  'Pajek',\n",
       "  'Gephi',\n",
       "  'Cytoscape',\n",
       "  'igraph',\n",
       "  'R',\n",
       "  'Pajek',\n",
       "  'Gephi',\n",
       "  'igraph',\n",
       "  'Ленина'],\n",
       " [],\n",
       " ['Пальма'],\n",
       " ['Intranet-сети', 'Message Passing Interface', 'MPP'],\n",
       " ['Agile',\n",
       "  'Agile',\n",
       "  'User Story',\n",
       "  'Tasks',\n",
       "  'Спринт',\n",
       "  'Sprint',\n",
       "  'Бэклог',\n",
       "  'Backlog',\n",
       "  'Sprint Burndown'],\n",
       " ['OpenCV', 'OpenCV', 'OpenCV'],\n",
       " [],\n",
       " ['Computational Geometry',\n",
       "  'Вороного',\n",
       "  'Делоне',\n",
       "  'Computational Geometry',\n",
       "  'Вороного',\n",
       "  'Делоне',\n",
       "  'Джарвиса'],\n",
       " [],\n",
       " [],\n",
       " ['ЭВМ'],\n",
       " ['Ленина'],\n",
       " ['Ленина', 'М.Ю.\\\\xa0Шестопалов'],\n",
       " ['Data Mining', 'Data Mining'],\n",
       " ['SQL', 'ЭВМ', 'T-SQL', 'PL/', 'SQL'],\n",
       " [],\n",
       " ['Matlab/Simulink'],\n",
       " ['Билет'],\n",
       " ['Больших данных', 'реального времени', 'Больших данных'],\n",
       " ['ANSI PMI PMBOK 4th Edition'],\n",
       " [],\n",
       " ['Билет'],\n",
       " [],\n",
       " ['С++14',\n",
       "  'STL',\n",
       "  'PlantUML',\n",
       "  'C++14',\n",
       "  'С++',\n",
       "  'С++14',\n",
       "  'STL',\n",
       "  'STL',\n",
       "  'С++14',\n",
       "  'STL'],\n",
       " ['ИТ'],\n",
       " ['Петри', 'Data Mining', 'AnyLogic', 'RStudio', 'Orange'],\n",
       " ['AUTOSAR Adap-tive',\n",
       "  'AUTOSAR Adaptive',\n",
       "  'AUTOSAR Adaptive Platform',\n",
       "  'AUTOSAR Adaptive',\n",
       "  'AUTOSAR Adaptive',\n",
       "  'AUTOSAR Adaptive',\n",
       "  'AUTOSAR Adaptive',\n",
       "  'AUTOSAR Adaptive',\n",
       "  'AUTOSAP Adaptive Platform',\n",
       "  'Service-Oriented Architecture',\n",
       "  'ARXML',\n",
       "  'К. В.\\\\xa0Кринкин',\n",
       "  'AUTOSAR Adaptive Platform',\n",
       "  'Service-Oriented Architecture'],\n",
       " [],\n",
       " [],\n",
       " ['Деминга-Шухарта'],\n",
       " ['Business Intelligence',\n",
       "  'DeepSee',\n",
       "  'DeepSee',\n",
       "  'Business Intelligence',\n",
       "  'DeepSee',\n",
       "  'DeepSee',\n",
       "  'DeepSee',\n",
       "  'DeepSee',\n",
       "  'MDX',\n",
       "  'ВСЕ',\n",
       "  'SQL'],\n",
       " ['Data Mining', 'Data Mining', 'Махалонобиса'],\n",
       " ['Constraint Programming', 'Петри', 'Data Mining'],\n",
       " [],\n",
       " ['AnyLogic',\n",
       "  'Rstudio',\n",
       "  'R',\n",
       "  'Python',\n",
       "  'AnyLogic',\n",
       "  'Rstudio',\n",
       "  'R',\n",
       "  'Python',\n",
       "  'Python',\n",
       "  'R',\n",
       "  'Python',\n",
       "  'R',\n",
       "  'Сети',\n",
       "  'Петри'],\n",
       " ['Системный'],\n",
       " [],\n",
       " [],\n",
       " [],\n",
       " [],\n",
       " ['российского'],\n",
       " ['Java', 'UML', 'UML', 'Java', 'UML', 'UML', 'Ленина'],\n",
       " ['Нет', 'SVM/Sotfmax', 'SVM', 'Softmax', 'SVM', 'Softmax'],\n",
       " [],\n",
       " [],\n",
       " [],\n",
       " ['Simultaneous Localization And Mapping', 'Лидар'],\n",
       " ['SVM', 'K-Means', 'EM'],\n",
       " ['Ленина'],\n",
       " [],\n",
       " [],\n",
       " [],\n",
       " [],\n",
       " ['Интернет'],\n",
       " [],\n",
       " ['Нистрома', 'Лапласа'],\n",
       " ['python', 'Numpy', 'PyTorch', 'PyTorch', 'PyTorch'],\n",
       " ['Государственная', 'Государственная'],\n",
       " ['R'],\n",
       " ['Байесовский', 'Андерсона-Дарлинга', 'Андерсона-Дарлинга'],\n",
       " ['Фурье', 'Карацубы', 'Рачинского', 'Рачинского', 'Рачинского'],\n",
       " [],\n",
       " ['Винера-Хопфа'],\n",
       " [],\n",
       " [],\n",
       " ['DQN', 'TensorFlow', 'Actor Critic'],\n",
       " ['SVM/Sotfmax', 'SVM', 'Softmax', 'SVM', 'Softmax'],\n",
       " [],\n",
       " ['TensorFlow Federated',\n",
       "  'TFF',\n",
       "  'Google Inc',\n",
       "  'USA',\n",
       "  'Federated AI Technology Enabler',\n",
       "  'FATE'],\n",
       " [],\n",
       " ['CMake', 'OpenCV', 'OpenCV', 'CMake', 'OpenCV', 'OpenCV'],\n",
       " [],\n",
       " [],\n",
       " ['Robot Operating System',\n",
       "  'ROS',\n",
       "  'Duckietown',\n",
       "  'Duckietown',\n",
       "  'Robot Operating System',\n",
       "  'ROS',\n",
       "  'Duckietown',\n",
       "  'Duckietown',\n",
       "  'С++',\n",
       "  'python',\n",
       "  'Robot Operating System',\n",
       "  'ROS'],\n",
       " ['Ethereum'],\n",
       " ['Rational Unified Process',\n",
       "  'Microsoft Solutions Framework',\n",
       "  'Team Foundation Server',\n",
       "  'Java',\n",
       "  '/.Net',\n",
       "  'Rational Unified Process',\n",
       "  'Microsoft Solutions Framework',\n",
       "  'Team Foundation Server'],\n",
       " [],\n",
       " ['Ленина'],\n",
       " ['Государственная', 'Государственная'],\n",
       " ['Кибернетика'],\n",
       " ['Simultaneous Localization and Mapping', 'Лидар'],\n",
       " [],\n",
       " [],\n",
       " [],\n",
       " ['Индустрия', 'Индустрии', 'Индустрии', 'Индустрии', 'Индустрии'],\n",
       " ['российского'],\n",
       " ['российского'],\n",
       " ['Индустрия', 'Индустрии', 'Индустрии', 'Индустрии', 'Индустрии'],\n",
       " ['российского'],\n",
       " [],\n",
       " [],\n",
       " ['российского'],\n",
       " ['ЖКХ', 'Киотский протокол'],\n",
       " [],\n",
       " [],\n",
       " ['российского'],\n",
       " ['российского'],\n",
       " ['российского'],\n",
       " ['российского'],\n",
       " ['российского'],\n",
       " ['российского'],\n",
       " ['российского'],\n",
       " ['российского'],\n",
       " [],\n",
       " [],\n",
       " ['CAD/CAM/CAE'],\n",
       " [],\n",
       " [],\n",
       " [],\n",
       " ['SCADA', 'Matlab'],\n",
       " [],\n",
       " ['Fuzzy–', 'Neuro-Fuzzy'],\n",
       " [],\n",
       " ['Флинну'],\n",
       " [],\n",
       " ['Российской Федерации',\n",
       "  'Российской Федерации',\n",
       "  'Российской Федерации',\n",
       "  'Российской Федерации',\n",
       "  'Российской Федерации'],\n",
       " [],\n",
       " ['Нейросетевое'],\n",
       " ['Neuro-технологий', 'Neuro-технологий', 'Ленина'],\n",
       " ['OLAP',\n",
       "  'OLAP',\n",
       "  'OLTP',\n",
       "  'OLTP',\n",
       "  'ETL',\n",
       "  'OLAP',\n",
       "  'OLAP',\n",
       "  'OLAP',\n",
       "  'OLAP',\n",
       "  'OLAP'],\n",
       " ['Ляпунова', 'Ляпунова', 'Ляпунова'],\n",
       " [],\n",
       " ['Государственная', 'Государственная'],\n",
       " ['ТП'],\n",
       " [],\n",
       " ['Преддипломная'],\n",
       " []]"
      ]
     },
     "execution_count": 2,
     "metadata": {},
     "output_type": "execute_result"
    }
   ],
   "source": [
    "#print(words_only)\n",
    "words = []\n",
    "\n",
    "for i in words_only:\n",
    "    arr = []\n",
    "    for j in i:\n",
    "        if j != '' and j != ', ' and j != '[]' and j != '[' and j != ']':\n",
    "            arr.append(j)\n",
    "    #arr = [j  for j in i]\n",
    "    words.append(arr)\n",
    "    \n",
    "words\n"
   ]
  },
  {
   "cell_type": "code",
   "execution_count": 3,
   "id": "6f7ca102",
   "metadata": {},
   "outputs": [],
   "source": [
    "words_no_repeat = []\n",
    "\n",
    "for i in words:\n",
    "    words_no_repeat.append(list(set(i)))"
   ]
  },
  {
   "cell_type": "code",
   "execution_count": 4,
   "id": "f4fdabc5",
   "metadata": {},
   "outputs": [
    {
     "name": "stderr",
     "output_type": "stream",
     "text": [
      "2023-02-05 20:43:35.006683: I tensorflow/core/platform/cpu_feature_guard.cc:193] This TensorFlow binary is optimized with oneAPI Deep Neural Network Library (oneDNN) to use the following CPU instructions in performance-critical operations:  AVX2 AVX512F AVX512_VNNI FMA\n",
      "To enable them in other operations, rebuild TensorFlow with the appropriate compiler flags.\n",
      "2023-02-05 20:43:35.298658: I tensorflow/core/util/util.cc:169] oneDNN custom operations are on. You may see slightly different numerical results due to floating-point round-off errors from different computation orders. To turn them off, set the environment variable `TF_ENABLE_ONEDNN_OPTS=0`.\n",
      "2023-02-05 20:43:35.374436: W tensorflow/stream_executor/platform/default/dso_loader.cc:64] Could not load dynamic library 'libcudart.so.11.0'; dlerror: libcudart.so.11.0: cannot open shared object file: No such file or directory\n",
      "2023-02-05 20:43:35.374453: I tensorflow/stream_executor/cuda/cudart_stub.cc:29] Ignore above cudart dlerror if you do not have a GPU set up on your machine.\n",
      "2023-02-05 20:43:35.420267: E tensorflow/stream_executor/cuda/cuda_blas.cc:2981] Unable to register cuBLAS factory: Attempting to register factory for plugin cuBLAS when one has already been registered\n",
      "2023-02-05 20:43:36.227250: W tensorflow/stream_executor/platform/default/dso_loader.cc:64] Could not load dynamic library 'libnvinfer.so.7'; dlerror: libnvinfer.so.7: cannot open shared object file: No such file or directory\n",
      "2023-02-05 20:43:36.227379: W tensorflow/stream_executor/platform/default/dso_loader.cc:64] Could not load dynamic library 'libnvinfer_plugin.so.7'; dlerror: libnvinfer_plugin.so.7: cannot open shared object file: No such file or directory\n",
      "2023-02-05 20:43:36.227383: W tensorflow/compiler/tf2tensorrt/utils/py_utils.cc:38] TF-TRT Warning: Cannot dlopen some TensorRT libraries. If you would like to use Nvidia GPU with TensorRT, please make sure the missing libraries mentioned above are installed properly.\n"
     ]
    }
   ],
   "source": [
    "from transformers import GPT2LMHeadModel, GPT2Tokenizer\n",
    "\n",
    "\n",
    "model_name_or_path = \"sberbank-ai/rugpt3large_based_on_gpt2\"\n",
    "tokenizer = GPT2Tokenizer.from_pretrained(model_name_or_path)\n",
    "model = GPT2LMHeadModel.from_pretrained(model_name_or_path)\n"
   ]
  },
  {
   "cell_type": "code",
   "execution_count": 28,
   "id": "bf7bc9e5",
   "metadata": {},
   "outputs": [
    {
     "name": "stderr",
     "output_type": "stream",
     "text": [
      "The attention mask and the pad token id were not set. As a consequence, you may observe unexpected behavior. Please pass your input's `attention_mask` to obtain reliable results.\n",
      "Setting `pad_token_id` to `eos_token_id`:50256 for open-end generation.\n"
     ]
    },
    {
     "name": "stdout",
     "output_type": "stream",
     "text": [
      "магазины приложений -> магазин приложений\n",
      "человеко-машинного интерфейса -> человеко-машинный интерфейс\n",
      "принципах взаимодействия нейронов -> принципы взаимодействия нейронов\n",
      "отладки приложений -> отладка приложений\n",
      "содержанием дисциплины -> содержание дисциплины\n",
      "смелости ->  смелость\n",
      "\n"
     ]
    }
   ],
   "source": [
    "template = '''магазины приложений -> магазин приложений\n",
    "человеко-машинного интерфейса -> человеко-машинный интерфейс\n",
    "принципах взаимодействия нейронов -> принципы взаимодействия нейронов\n",
    "отладки приложений -> отладка приложений\n",
    "содержанием дисциплины -> содержание дисциплины\n",
    "'''\n",
    "\n",
    "#шаблонных действий -> шаблонные действия\n",
    "#потраченного времени -> потраченное время\n",
    "#российского -> российский\n",
    "\n",
    "# практических навыков разработки -> практические навыки разработки\n",
    "\n",
    "#text = template + '''практических навыков разработки -> '''\n",
    "\n",
    "text = template + '''смелости -> '''\n",
    "input_ids = tokenizer.encode(text, return_tensors=\"pt\")\n",
    "out = model.generate(input_ids, max_new_tokens=2)\n",
    "generated_text = list(map(tokenizer.decode, out))[0]\n",
    "print(generated_text)"
   ]
  },
  {
   "cell_type": "code",
   "execution_count": 21,
   "id": "687c057f",
   "metadata": {},
   "outputs": [
    {
     "data": {
      "text/plain": [
       "5"
      ]
     },
     "execution_count": 21,
     "metadata": {},
     "output_type": "execute_result"
    }
   ],
   "source": [
    "new_lines_count = template.count('\\n')\n",
    "new_lines_count"
   ]
  },
  {
   "cell_type": "code",
   "execution_count": 22,
   "id": "3bdb63d1",
   "metadata": {},
   "outputs": [
    {
     "name": "stderr",
     "output_type": "stream",
     "text": [
      "The attention mask and the pad token id were not set. As a consequence, you may observe unexpected behavior. Please pass your input's `attention_mask` to obtain reliable results.\n",
      "Setting `pad_token_id` to `eos_token_id`:50256 for open-end generation.\n",
      "The attention mask and the pad token id were not set. As a consequence, you may observe unexpected behavior. Please pass your input's `attention_mask` to obtain reliable results.\n",
      "Setting `pad_token_id` to `eos_token_id`:50256 for open-end generation.\n",
      "The attention mask and the pad token id were not set. As a consequence, you may observe unexpected behavior. Please pass your input's `attention_mask` to obtain reliable results.\n",
      "Setting `pad_token_id` to `eos_token_id`:50256 for open-end generation.\n"
     ]
    },
    {
     "name": "stdout",
     "output_type": "stream",
     "text": [
      "магазины приложений -> магазин приложений\n",
      "человеко-машинного интерфейса -> человеко-машинный интерфейс\n",
      "принципах взаимодействия нейронов -> принципы взаимодействия нейронов\n",
      "отладки приложений -> отладка приложений\n",
      "содержанием дисциплины -> содержание дисциплины\n",
      "Ляпунову -> \n",
      "Ляпу\n"
     ]
    },
    {
     "name": "stderr",
     "output_type": "stream",
     "text": [
      "The attention mask and the pad token id were not set. As a consequence, you may observe unexpected behavior. Please pass your input's `attention_mask` to obtain reliable results.\n",
      "Setting `pad_token_id` to `eos_token_id`:50256 for open-end generation.\n"
     ]
    },
    {
     "name": "stdout",
     "output_type": "stream",
     "text": [
      "магазины приложений -> магазин приложений\n",
      "человеко-машинного интерфейса -> человеко-машинный интерфейс\n",
      "принципах взаимодействия нейронов -> принципы взаимодействия нейронов\n",
      "отладки приложений -> отладка приложений\n",
      "содержанием дисциплины -> содержание дисциплины\n",
      "Ляпунову -> \n",
      "Ляпунову -\n"
     ]
    },
    {
     "name": "stderr",
     "output_type": "stream",
     "text": [
      "The attention mask and the pad token id were not set. As a consequence, you may observe unexpected behavior. Please pass your input's `attention_mask` to obtain reliable results.\n",
      "Setting `pad_token_id` to `eos_token_id`:50256 for open-end generation.\n"
     ]
    },
    {
     "name": "stdout",
     "output_type": "stream",
     "text": [
      "магазины приложений -> магазин приложений\n",
      "человеко-машинного интерфейса -> человеко-машинный интерфейс\n",
      "принципах взаимодействия нейронов -> принципы взаимодействия нейронов\n",
      "отладки приложений -> отладка приложений\n",
      "содержанием дисциплины -> содержание дисциплины\n",
      "Ляпунову -> \n",
      "Ляпунову -> \n"
     ]
    },
    {
     "name": "stderr",
     "output_type": "stream",
     "text": [
      "The attention mask and the pad token id were not set. As a consequence, you may observe unexpected behavior. Please pass your input's `attention_mask` to obtain reliable results.\n",
      "Setting `pad_token_id` to `eos_token_id`:50256 for open-end generation.\n"
     ]
    },
    {
     "name": "stdout",
     "output_type": "stream",
     "text": [
      "магазины приложений -> магазин приложений\n",
      "человеко-машинного интерфейса -> человеко-машинный интерфейс\n",
      "принципах взаимодействия нейронов -> принципы взаимодействия нейронов\n",
      "отладки приложений -> отладка приложений\n",
      "содержанием дисциплины -> содержание дисциплины\n",
      "Ляпунову -> \n",
      "Ляпунову -> \n",
      "Л\n"
     ]
    },
    {
     "name": "stderr",
     "output_type": "stream",
     "text": [
      "The attention mask and the pad token id were not set. As a consequence, you may observe unexpected behavior. Please pass your input's `attention_mask` to obtain reliable results.\n",
      "Setting `pad_token_id` to `eos_token_id`:50256 for open-end generation.\n",
      "The attention mask and the pad token id were not set. As a consequence, you may observe unexpected behavior. Please pass your input's `attention_mask` to obtain reliable results.\n",
      "Setting `pad_token_id` to `eos_token_id`:50256 for open-end generation.\n"
     ]
    },
    {
     "name": "stdout",
     "output_type": "stream",
     "text": [
      "магазины приложений -> магазин приложений\n",
      "человеко-машинного интерфейса -> человеко-машинный интерфейс\n",
      "принципах взаимодействия нейронов -> принципы взаимодействия нейронов\n",
      "отладки приложений -> отладка приложений\n",
      "содержанием дисциплины -> содержание дисциплины\n",
      "Ляпунова -> \n",
      "Ляпу\n"
     ]
    },
    {
     "name": "stderr",
     "output_type": "stream",
     "text": [
      "The attention mask and the pad token id were not set. As a consequence, you may observe unexpected behavior. Please pass your input's `attention_mask` to obtain reliable results.\n",
      "Setting `pad_token_id` to `eos_token_id`:50256 for open-end generation.\n"
     ]
    },
    {
     "name": "stdout",
     "output_type": "stream",
     "text": [
      "магазины приложений -> магазин приложений\n",
      "человеко-машинного интерфейса -> человеко-машинный интерфейс\n",
      "принципах взаимодействия нейронов -> принципы взаимодействия нейронов\n",
      "отладки приложений -> отладка приложений\n",
      "содержанием дисциплины -> содержание дисциплины\n",
      "Ляпунова -> \n",
      "Ляпунова -\n"
     ]
    },
    {
     "name": "stderr",
     "output_type": "stream",
     "text": [
      "The attention mask and the pad token id were not set. As a consequence, you may observe unexpected behavior. Please pass your input's `attention_mask` to obtain reliable results.\n",
      "Setting `pad_token_id` to `eos_token_id`:50256 for open-end generation.\n"
     ]
    },
    {
     "name": "stdout",
     "output_type": "stream",
     "text": [
      "магазины приложений -> магазин приложений\n",
      "человеко-машинного интерфейса -> человеко-машинный интерфейс\n",
      "принципах взаимодействия нейронов -> принципы взаимодействия нейронов\n",
      "отладки приложений -> отладка приложений\n",
      "содержанием дисциплины -> содержание дисциплины\n",
      "Ляпунова -> \n",
      "Ляпунова -> \n"
     ]
    },
    {
     "name": "stderr",
     "output_type": "stream",
     "text": [
      "The attention mask and the pad token id were not set. As a consequence, you may observe unexpected behavior. Please pass your input's `attention_mask` to obtain reliable results.\n",
      "Setting `pad_token_id` to `eos_token_id`:50256 for open-end generation.\n"
     ]
    },
    {
     "name": "stdout",
     "output_type": "stream",
     "text": [
      "магазины приложений -> магазин приложений\n",
      "человеко-машинного интерфейса -> человеко-машинный интерфейс\n",
      "принципах взаимодействия нейронов -> принципы взаимодействия нейронов\n",
      "отладки приложений -> отладка приложений\n",
      "содержанием дисциплины -> содержание дисциплины\n",
      "Ляпунова -> \n",
      "Ляпунова -> \n",
      "Л\n"
     ]
    },
    {
     "name": "stderr",
     "output_type": "stream",
     "text": [
      "The attention mask and the pad token id were not set. As a consequence, you may observe unexpected behavior. Please pass your input's `attention_mask` to obtain reliable results.\n",
      "Setting `pad_token_id` to `eos_token_id`:50256 for open-end generation.\n",
      "The attention mask and the pad token id were not set. As a consequence, you may observe unexpected behavior. Please pass your input's `attention_mask` to obtain reliable results.\n",
      "Setting `pad_token_id` to `eos_token_id`:50256 for open-end generation.\n"
     ]
    },
    {
     "name": "stdout",
     "output_type": "stream",
     "text": [
      "магазины приложений -> магазин приложений\n",
      "человеко-машинного интерфейса -> человеко-машинный интерфейс\n",
      "принципах взаимодействия нейронов -> принципы взаимодействия нейронов\n",
      "отладки приложений -> отладка приложений\n",
      "содержанием дисциплины -> содержание дисциплины\n",
      "Михайлова -> \n",
      "Михай\n"
     ]
    },
    {
     "name": "stderr",
     "output_type": "stream",
     "text": [
      "The attention mask and the pad token id were not set. As a consequence, you may observe unexpected behavior. Please pass your input's `attention_mask` to obtain reliable results.\n",
      "Setting `pad_token_id` to `eos_token_id`:50256 for open-end generation.\n"
     ]
    },
    {
     "name": "stdout",
     "output_type": "stream",
     "text": [
      "магазины приложений -> магазин приложений\n",
      "человеко-машинного интерфейса -> человеко-машинный интерфейс\n",
      "принципах взаимодействия нейронов -> принципы взаимодействия нейронов\n",
      "отладки приложений -> отладка приложений\n",
      "содержанием дисциплины -> содержание дисциплины\n",
      "Михайлова -> \n",
      "Михайлова -\n"
     ]
    },
    {
     "name": "stderr",
     "output_type": "stream",
     "text": [
      "The attention mask and the pad token id were not set. As a consequence, you may observe unexpected behavior. Please pass your input's `attention_mask` to obtain reliable results.\n",
      "Setting `pad_token_id` to `eos_token_id`:50256 for open-end generation.\n"
     ]
    },
    {
     "name": "stdout",
     "output_type": "stream",
     "text": [
      "магазины приложений -> магазин приложений\n",
      "человеко-машинного интерфейса -> человеко-машинный интерфейс\n",
      "принципах взаимодействия нейронов -> принципы взаимодействия нейронов\n",
      "отладки приложений -> отладка приложений\n",
      "содержанием дисциплины -> содержание дисциплины\n",
      "Михайлова -> \n",
      "Михайлова -> \n"
     ]
    },
    {
     "name": "stderr",
     "output_type": "stream",
     "text": [
      "The attention mask and the pad token id were not set. As a consequence, you may observe unexpected behavior. Please pass your input's `attention_mask` to obtain reliable results.\n",
      "Setting `pad_token_id` to `eos_token_id`:50256 for open-end generation.\n"
     ]
    },
    {
     "name": "stdout",
     "output_type": "stream",
     "text": [
      "магазины приложений -> магазин приложений\n",
      "человеко-машинного интерфейса -> человеко-машинный интерфейс\n",
      "принципах взаимодействия нейронов -> принципы взаимодействия нейронов\n",
      "отладки приложений -> отладка приложений\n",
      "содержанием дисциплины -> содержание дисциплины\n",
      "Михайлова -> \n",
      "Михайлова -> \n",
      "М\n"
     ]
    },
    {
     "name": "stderr",
     "output_type": "stream",
     "text": [
      "The attention mask and the pad token id were not set. As a consequence, you may observe unexpected behavior. Please pass your input's `attention_mask` to obtain reliable results.\n",
      "Setting `pad_token_id` to `eos_token_id`:50256 for open-end generation.\n",
      "The attention mask and the pad token id were not set. As a consequence, you may observe unexpected behavior. Please pass your input's `attention_mask` to obtain reliable results.\n",
      "Setting `pad_token_id` to `eos_token_id`:50256 for open-end generation.\n"
     ]
    },
    {
     "name": "stdout",
     "output_type": "stream",
     "text": [
      "магазины приложений -> магазин приложений\n",
      "человеко-машинного интерфейса -> человеко-машинный интерфейс\n",
      "принципах взаимодействия нейронов -> принципы взаимодействия нейронов\n",
      "отладки приложений -> отладка приложений\n",
      "содержанием дисциплины -> содержание дисциплины\n",
      "Коши -> \n",
      "Коши -\n"
     ]
    },
    {
     "name": "stderr",
     "output_type": "stream",
     "text": [
      "The attention mask and the pad token id were not set. As a consequence, you may observe unexpected behavior. Please pass your input's `attention_mask` to obtain reliable results.\n",
      "Setting `pad_token_id` to `eos_token_id`:50256 for open-end generation.\n"
     ]
    },
    {
     "name": "stdout",
     "output_type": "stream",
     "text": [
      "магазины приложений -> магазин приложений\n",
      "человеко-машинного интерфейса -> человеко-машинный интерфейс\n",
      "принципах взаимодействия нейронов -> принципы взаимодействия нейронов\n",
      "отладки приложений -> отладка приложений\n",
      "содержанием дисциплины -> содержание дисциплины\n",
      "Коши -> \n",
      "Коши -> \n"
     ]
    },
    {
     "name": "stderr",
     "output_type": "stream",
     "text": [
      "The attention mask and the pad token id were not set. As a consequence, you may observe unexpected behavior. Please pass your input's `attention_mask` to obtain reliable results.\n",
      "Setting `pad_token_id` to `eos_token_id`:50256 for open-end generation.\n"
     ]
    },
    {
     "name": "stdout",
     "output_type": "stream",
     "text": [
      "магазины приложений -> магазин приложений\n",
      "человеко-машинного интерфейса -> человеко-машинный интерфейс\n",
      "принципах взаимодействия нейронов -> принципы взаимодействия нейронов\n",
      "отладки приложений -> отладка приложений\n",
      "содержанием дисциплины -> содержание дисциплины\n",
      "Коши -> \n",
      "Коши -> \n",
      "Ко\n"
     ]
    },
    {
     "name": "stderr",
     "output_type": "stream",
     "text": [
      "The attention mask and the pad token id were not set. As a consequence, you may observe unexpected behavior. Please pass your input's `attention_mask` to obtain reliable results.\n",
      "Setting `pad_token_id` to `eos_token_id`:50256 for open-end generation.\n",
      "The attention mask and the pad token id were not set. As a consequence, you may observe unexpected behavior. Please pass your input's `attention_mask` to obtain reliable results.\n",
      "Setting `pad_token_id` to `eos_token_id`:50256 for open-end generation.\n"
     ]
    },
    {
     "name": "stdout",
     "output_type": "stream",
     "text": [
      "магазины приложений -> магазин приложений\n",
      "человеко-машинного интерфейса -> человеко-машинный интерфейс\n",
      "принципах взаимодействия нейронов -> принципы взаимодействия нейронов\n",
      "отладки приложений -> отладка приложений\n",
      "содержанием дисциплины -> содержание дисциплины\n",
      "Нелдера-Мида -> \n",
      "Нелдера\n"
     ]
    },
    {
     "name": "stderr",
     "output_type": "stream",
     "text": [
      "The attention mask and the pad token id were not set. As a consequence, you may observe unexpected behavior. Please pass your input's `attention_mask` to obtain reliable results.\n",
      "Setting `pad_token_id` to `eos_token_id`:50256 for open-end generation.\n"
     ]
    },
    {
     "name": "stdout",
     "output_type": "stream",
     "text": [
      "магазины приложений -> магазин приложений\n",
      "человеко-машинного интерфейса -> человеко-машинный интерфейс\n",
      "принципах взаимодействия нейронов -> принципы взаимодействия нейронов\n",
      "отладки приложений -> отладка приложений\n",
      "содержанием дисциплины -> содержание дисциплины\n",
      "Нелдера-Мида -> \n",
      "Нелдера-М\n"
     ]
    },
    {
     "name": "stderr",
     "output_type": "stream",
     "text": [
      "The attention mask and the pad token id were not set. As a consequence, you may observe unexpected behavior. Please pass your input's `attention_mask` to obtain reliable results.\n",
      "Setting `pad_token_id` to `eos_token_id`:50256 for open-end generation.\n"
     ]
    },
    {
     "name": "stdout",
     "output_type": "stream",
     "text": [
      "магазины приложений -> магазин приложений\n",
      "человеко-машинного интерфейса -> человеко-машинный интерфейс\n",
      "принципах взаимодействия нейронов -> принципы взаимодействия нейронов\n",
      "отладки приложений -> отладка приложений\n",
      "содержанием дисциплины -> содержание дисциплины\n",
      "Нелдера-Мида -> \n",
      "Нелдера-Мида -\n"
     ]
    },
    {
     "name": "stderr",
     "output_type": "stream",
     "text": [
      "The attention mask and the pad token id were not set. As a consequence, you may observe unexpected behavior. Please pass your input's `attention_mask` to obtain reliable results.\n",
      "Setting `pad_token_id` to `eos_token_id`:50256 for open-end generation.\n"
     ]
    },
    {
     "name": "stdout",
     "output_type": "stream",
     "text": [
      "магазины приложений -> магазин приложений\n",
      "человеко-машинного интерфейса -> человеко-машинный интерфейс\n",
      "принципах взаимодействия нейронов -> принципы взаимодействия нейронов\n",
      "отладки приложений -> отладка приложений\n",
      "содержанием дисциплины -> содержание дисциплины\n",
      "Нелдера-Мида -> \n",
      "Нелдера-Мида -> \n"
     ]
    },
    {
     "name": "stderr",
     "output_type": "stream",
     "text": [
      "The attention mask and the pad token id were not set. As a consequence, you may observe unexpected behavior. Please pass your input's `attention_mask` to obtain reliable results.\n",
      "Setting `pad_token_id` to `eos_token_id`:50256 for open-end generation.\n"
     ]
    },
    {
     "name": "stdout",
     "output_type": "stream",
     "text": [
      "магазины приложений -> магазин приложений\n",
      "человеко-машинного интерфейса -> человеко-машинный интерфейс\n",
      "принципах взаимодействия нейронов -> принципы взаимодействия нейронов\n",
      "отладки приложений -> отладка приложений\n",
      "содержанием дисциплины -> содержание дисциплины\n",
      "Нелдера-Мида -> \n",
      "Нелдера-Мида -> \n",
      "Н\n"
     ]
    },
    {
     "name": "stderr",
     "output_type": "stream",
     "text": [
      "The attention mask and the pad token id were not set. As a consequence, you may observe unexpected behavior. Please pass your input's `attention_mask` to obtain reliable results.\n",
      "Setting `pad_token_id` to `eos_token_id`:50256 for open-end generation.\n",
      "The attention mask and the pad token id were not set. As a consequence, you may observe unexpected behavior. Please pass your input's `attention_mask` to obtain reliable results.\n",
      "Setting `pad_token_id` to `eos_token_id`:50256 for open-end generation.\n"
     ]
    },
    {
     "name": "stdout",
     "output_type": "stream",
     "text": [
      "магазины приложений -> магазин приложений\n",
      "человеко-машинного интерфейса -> человеко-машинный интерфейс\n",
      "принципах взаимодействия нейронов -> принципы взаимодействия нейронов\n",
      "отладки приложений -> отладка приложений\n",
      "содержанием дисциплины -> содержание дисциплины\n",
      "MATLAB -> \n",
      "MATLA\n"
     ]
    },
    {
     "name": "stderr",
     "output_type": "stream",
     "text": [
      "The attention mask and the pad token id were not set. As a consequence, you may observe unexpected behavior. Please pass your input's `attention_mask` to obtain reliable results.\n",
      "Setting `pad_token_id` to `eos_token_id`:50256 for open-end generation.\n"
     ]
    },
    {
     "name": "stdout",
     "output_type": "stream",
     "text": [
      "магазины приложений -> магазин приложений\n",
      "человеко-машинного интерфейса -> человеко-машинный интерфейс\n",
      "принципах взаимодействия нейронов -> принципы взаимодействия нейронов\n",
      "отладки приложений -> отладка приложений\n",
      "содержанием дисциплины -> содержание дисциплины\n",
      "MATLAB -> \n",
      "MATLAB -\n"
     ]
    },
    {
     "name": "stderr",
     "output_type": "stream",
     "text": [
      "The attention mask and the pad token id were not set. As a consequence, you may observe unexpected behavior. Please pass your input's `attention_mask` to obtain reliable results.\n",
      "Setting `pad_token_id` to `eos_token_id`:50256 for open-end generation.\n"
     ]
    },
    {
     "name": "stdout",
     "output_type": "stream",
     "text": [
      "магазины приложений -> магазин приложений\n",
      "человеко-машинного интерфейса -> человеко-машинный интерфейс\n",
      "принципах взаимодействия нейронов -> принципы взаимодействия нейронов\n",
      "отладки приложений -> отладка приложений\n",
      "содержанием дисциплины -> содержание дисциплины\n",
      "MATLAB -> \n",
      "MATLAB -> \n"
     ]
    },
    {
     "name": "stderr",
     "output_type": "stream",
     "text": [
      "The attention mask and the pad token id were not set. As a consequence, you may observe unexpected behavior. Please pass your input's `attention_mask` to obtain reliable results.\n",
      "Setting `pad_token_id` to `eos_token_id`:50256 for open-end generation.\n"
     ]
    },
    {
     "name": "stdout",
     "output_type": "stream",
     "text": [
      "магазины приложений -> магазин приложений\n",
      "человеко-машинного интерфейса -> человеко-машинный интерфейс\n",
      "принципах взаимодействия нейронов -> принципы взаимодействия нейронов\n",
      "отладки приложений -> отладка приложений\n",
      "содержанием дисциплины -> содержание дисциплины\n",
      "MATLAB -> \n",
      "MATLAB -> \n",
      "M\n"
     ]
    },
    {
     "name": "stderr",
     "output_type": "stream",
     "text": [
      "The attention mask and the pad token id were not set. As a consequence, you may observe unexpected behavior. Please pass your input's `attention_mask` to obtain reliable results.\n",
      "Setting `pad_token_id` to `eos_token_id`:50256 for open-end generation.\n",
      "The attention mask and the pad token id were not set. As a consequence, you may observe unexpected behavior. Please pass your input's `attention_mask` to obtain reliable results.\n",
      "Setting `pad_token_id` to `eos_token_id`:50256 for open-end generation.\n"
     ]
    },
    {
     "name": "stdout",
     "output_type": "stream",
     "text": [
      "магазины приложений -> магазин приложений\n",
      "человеко-машинного интерфейса -> человеко-машинный интерфейс\n",
      "принципах взаимодействия нейронов -> принципы взаимодействия нейронов\n",
      "отладки приложений -> отладка приложений\n",
      "содержанием дисциплины -> содержание дисциплины\n",
      "Дисциплина -> \n",
      "Дисцип\n"
     ]
    },
    {
     "name": "stderr",
     "output_type": "stream",
     "text": [
      "The attention mask and the pad token id were not set. As a consequence, you may observe unexpected behavior. Please pass your input's `attention_mask` to obtain reliable results.\n",
      "Setting `pad_token_id` to `eos_token_id`:50256 for open-end generation.\n"
     ]
    },
    {
     "name": "stdout",
     "output_type": "stream",
     "text": [
      "магазины приложений -> магазин приложений\n",
      "человеко-машинного интерфейса -> человеко-машинный интерфейс\n",
      "принципах взаимодействия нейронов -> принципы взаимодействия нейронов\n",
      "отладки приложений -> отладка приложений\n",
      "содержанием дисциплины -> содержание дисциплины\n",
      "Дисциплина -> \n",
      "Дисциплина -\n"
     ]
    },
    {
     "name": "stderr",
     "output_type": "stream",
     "text": [
      "The attention mask and the pad token id were not set. As a consequence, you may observe unexpected behavior. Please pass your input's `attention_mask` to obtain reliable results.\n",
      "Setting `pad_token_id` to `eos_token_id`:50256 for open-end generation.\n"
     ]
    },
    {
     "name": "stdout",
     "output_type": "stream",
     "text": [
      "магазины приложений -> магазин приложений\n",
      "человеко-машинного интерфейса -> человеко-машинный интерфейс\n",
      "принципах взаимодействия нейронов -> принципы взаимодействия нейронов\n",
      "отладки приложений -> отладка приложений\n",
      "содержанием дисциплины -> содержание дисциплины\n",
      "Дисциплина -> \n",
      "Дисциплина -> \n"
     ]
    },
    {
     "name": "stderr",
     "output_type": "stream",
     "text": [
      "The attention mask and the pad token id were not set. As a consequence, you may observe unexpected behavior. Please pass your input's `attention_mask` to obtain reliable results.\n",
      "Setting `pad_token_id` to `eos_token_id`:50256 for open-end generation.\n"
     ]
    },
    {
     "name": "stdout",
     "output_type": "stream",
     "text": [
      "магазины приложений -> магазин приложений\n",
      "человеко-машинного интерфейса -> человеко-машинный интерфейс\n",
      "принципах взаимодействия нейронов -> принципы взаимодействия нейронов\n",
      "отладки приложений -> отладка приложений\n",
      "содержанием дисциплины -> содержание дисциплины\n",
      "Дисциплина -> \n",
      "Дисциплина -> \n",
      "Д\n"
     ]
    },
    {
     "name": "stderr",
     "output_type": "stream",
     "text": [
      "The attention mask and the pad token id were not set. As a consequence, you may observe unexpected behavior. Please pass your input's `attention_mask` to obtain reliable results.\n",
      "Setting `pad_token_id` to `eos_token_id`:50256 for open-end generation.\n",
      "The attention mask and the pad token id were not set. As a consequence, you may observe unexpected behavior. Please pass your input's `attention_mask` to obtain reliable results.\n",
      "Setting `pad_token_id` to `eos_token_id`:50256 for open-end generation.\n"
     ]
    },
    {
     "name": "stdout",
     "output_type": "stream",
     "text": [
      "магазины приложений -> магазин приложений\n",
      "человеко-машинного интерфейса -> человеко-машинный интерфейс\n",
      "принципах взаимодействия нейронов -> принципы взаимодействия нейронов\n",
      "отладки приложений -> отладка приложений\n",
      "содержанием дисциплины -> содержание дисциплины\n",
      "Коши -> \n",
      "Коши -\n"
     ]
    },
    {
     "name": "stderr",
     "output_type": "stream",
     "text": [
      "The attention mask and the pad token id were not set. As a consequence, you may observe unexpected behavior. Please pass your input's `attention_mask` to obtain reliable results.\n",
      "Setting `pad_token_id` to `eos_token_id`:50256 for open-end generation.\n"
     ]
    },
    {
     "name": "stdout",
     "output_type": "stream",
     "text": [
      "магазины приложений -> магазин приложений\n",
      "человеко-машинного интерфейса -> человеко-машинный интерфейс\n",
      "принципах взаимодействия нейронов -> принципы взаимодействия нейронов\n",
      "отладки приложений -> отладка приложений\n",
      "содержанием дисциплины -> содержание дисциплины\n",
      "Коши -> \n",
      "Коши -> \n"
     ]
    },
    {
     "name": "stderr",
     "output_type": "stream",
     "text": [
      "The attention mask and the pad token id were not set. As a consequence, you may observe unexpected behavior. Please pass your input's `attention_mask` to obtain reliable results.\n",
      "Setting `pad_token_id` to `eos_token_id`:50256 for open-end generation.\n"
     ]
    },
    {
     "name": "stdout",
     "output_type": "stream",
     "text": [
      "магазины приложений -> магазин приложений\n",
      "человеко-машинного интерфейса -> человеко-машинный интерфейс\n",
      "принципах взаимодействия нейронов -> принципы взаимодействия нейронов\n",
      "отладки приложений -> отладка приложений\n",
      "содержанием дисциплины -> содержание дисциплины\n",
      "Коши -> \n",
      "Коши -> \n",
      "Ко\n"
     ]
    },
    {
     "name": "stderr",
     "output_type": "stream",
     "text": [
      "The attention mask and the pad token id were not set. As a consequence, you may observe unexpected behavior. Please pass your input's `attention_mask` to obtain reliable results.\n",
      "Setting `pad_token_id` to `eos_token_id`:50256 for open-end generation.\n",
      "The attention mask and the pad token id were not set. As a consequence, you may observe unexpected behavior. Please pass your input's `attention_mask` to obtain reliable results.\n",
      "Setting `pad_token_id` to `eos_token_id`:50256 for open-end generation.\n"
     ]
    },
    {
     "name": "stdout",
     "output_type": "stream",
     "text": [
      "магазины приложений -> магазин приложений\n",
      "человеко-машинного интерфейса -> человеко-машинный интерфейс\n",
      "принципах взаимодействия нейронов -> принципы взаимодействия нейронов\n",
      "отладки приложений -> отладка приложений\n",
      "содержанием дисциплины -> содержание дисциплины\n",
      "Нелдера-Мида -> \n",
      "Нелдера\n"
     ]
    },
    {
     "name": "stderr",
     "output_type": "stream",
     "text": [
      "The attention mask and the pad token id were not set. As a consequence, you may observe unexpected behavior. Please pass your input's `attention_mask` to obtain reliable results.\n",
      "Setting `pad_token_id` to `eos_token_id`:50256 for open-end generation.\n"
     ]
    },
    {
     "name": "stdout",
     "output_type": "stream",
     "text": [
      "магазины приложений -> магазин приложений\n",
      "человеко-машинного интерфейса -> человеко-машинный интерфейс\n",
      "принципах взаимодействия нейронов -> принципы взаимодействия нейронов\n",
      "отладки приложений -> отладка приложений\n",
      "содержанием дисциплины -> содержание дисциплины\n",
      "Нелдера-Мида -> \n",
      "Нелдера-М\n"
     ]
    },
    {
     "name": "stderr",
     "output_type": "stream",
     "text": [
      "The attention mask and the pad token id were not set. As a consequence, you may observe unexpected behavior. Please pass your input's `attention_mask` to obtain reliable results.\n",
      "Setting `pad_token_id` to `eos_token_id`:50256 for open-end generation.\n"
     ]
    },
    {
     "name": "stdout",
     "output_type": "stream",
     "text": [
      "магазины приложений -> магазин приложений\n",
      "человеко-машинного интерфейса -> человеко-машинный интерфейс\n",
      "принципах взаимодействия нейронов -> принципы взаимодействия нейронов\n",
      "отладки приложений -> отладка приложений\n",
      "содержанием дисциплины -> содержание дисциплины\n",
      "Нелдера-Мида -> \n",
      "Нелдера-Мида -\n"
     ]
    },
    {
     "name": "stderr",
     "output_type": "stream",
     "text": [
      "The attention mask and the pad token id were not set. As a consequence, you may observe unexpected behavior. Please pass your input's `attention_mask` to obtain reliable results.\n",
      "Setting `pad_token_id` to `eos_token_id`:50256 for open-end generation.\n"
     ]
    },
    {
     "name": "stdout",
     "output_type": "stream",
     "text": [
      "магазины приложений -> магазин приложений\n",
      "человеко-машинного интерфейса -> человеко-машинный интерфейс\n",
      "принципах взаимодействия нейронов -> принципы взаимодействия нейронов\n",
      "отладки приложений -> отладка приложений\n",
      "содержанием дисциплины -> содержание дисциплины\n",
      "Нелдера-Мида -> \n",
      "Нелдера-Мида -> \n"
     ]
    },
    {
     "name": "stderr",
     "output_type": "stream",
     "text": [
      "The attention mask and the pad token id were not set. As a consequence, you may observe unexpected behavior. Please pass your input's `attention_mask` to obtain reliable results.\n",
      "Setting `pad_token_id` to `eos_token_id`:50256 for open-end generation.\n"
     ]
    },
    {
     "name": "stdout",
     "output_type": "stream",
     "text": [
      "магазины приложений -> магазин приложений\n",
      "человеко-машинного интерфейса -> человеко-машинный интерфейс\n",
      "принципах взаимодействия нейронов -> принципы взаимодействия нейронов\n",
      "отладки приложений -> отладка приложений\n",
      "содержанием дисциплины -> содержание дисциплины\n",
      "Нелдера-Мида -> \n",
      "Нелдера-Мида -> \n",
      "Н\n"
     ]
    },
    {
     "name": "stderr",
     "output_type": "stream",
     "text": [
      "The attention mask and the pad token id were not set. As a consequence, you may observe unexpected behavior. Please pass your input's `attention_mask` to obtain reliable results.\n",
      "Setting `pad_token_id` to `eos_token_id`:50256 for open-end generation.\n",
      "The attention mask and the pad token id were not set. As a consequence, you may observe unexpected behavior. Please pass your input's `attention_mask` to obtain reliable results.\n",
      "Setting `pad_token_id` to `eos_token_id`:50256 for open-end generation.\n"
     ]
    },
    {
     "name": "stdout",
     "output_type": "stream",
     "text": [
      "магазины приложений -> магазин приложений\n",
      "человеко-машинного интерфейса -> человеко-машинный интерфейс\n",
      "принципах взаимодействия нейронов -> принципы взаимодействия нейронов\n",
      "отладки приложений -> отладка приложений\n",
      "содержанием дисциплины -> содержание дисциплины\n",
      "MATLAB -> \n",
      "MATLA\n"
     ]
    },
    {
     "name": "stderr",
     "output_type": "stream",
     "text": [
      "The attention mask and the pad token id were not set. As a consequence, you may observe unexpected behavior. Please pass your input's `attention_mask` to obtain reliable results.\n",
      "Setting `pad_token_id` to `eos_token_id`:50256 for open-end generation.\n"
     ]
    },
    {
     "name": "stdout",
     "output_type": "stream",
     "text": [
      "магазины приложений -> магазин приложений\n",
      "человеко-машинного интерфейса -> человеко-машинный интерфейс\n",
      "принципах взаимодействия нейронов -> принципы взаимодействия нейронов\n",
      "отладки приложений -> отладка приложений\n",
      "содержанием дисциплины -> содержание дисциплины\n",
      "MATLAB -> \n",
      "MATLAB -\n"
     ]
    },
    {
     "name": "stderr",
     "output_type": "stream",
     "text": [
      "The attention mask and the pad token id were not set. As a consequence, you may observe unexpected behavior. Please pass your input's `attention_mask` to obtain reliable results.\n",
      "Setting `pad_token_id` to `eos_token_id`:50256 for open-end generation.\n"
     ]
    },
    {
     "name": "stdout",
     "output_type": "stream",
     "text": [
      "магазины приложений -> магазин приложений\n",
      "человеко-машинного интерфейса -> человеко-машинный интерфейс\n",
      "принципах взаимодействия нейронов -> принципы взаимодействия нейронов\n",
      "отладки приложений -> отладка приложений\n",
      "содержанием дисциплины -> содержание дисциплины\n",
      "MATLAB -> \n",
      "MATLAB -> \n"
     ]
    },
    {
     "name": "stderr",
     "output_type": "stream",
     "text": [
      "The attention mask and the pad token id were not set. As a consequence, you may observe unexpected behavior. Please pass your input's `attention_mask` to obtain reliable results.\n",
      "Setting `pad_token_id` to `eos_token_id`:50256 for open-end generation.\n"
     ]
    },
    {
     "name": "stdout",
     "output_type": "stream",
     "text": [
      "магазины приложений -> магазин приложений\n",
      "человеко-машинного интерфейса -> человеко-машинный интерфейс\n",
      "принципах взаимодействия нейронов -> принципы взаимодействия нейронов\n",
      "отладки приложений -> отладка приложений\n",
      "содержанием дисциплины -> содержание дисциплины\n",
      "MATLAB -> \n",
      "MATLAB -> \n",
      "M\n"
     ]
    },
    {
     "name": "stderr",
     "output_type": "stream",
     "text": [
      "The attention mask and the pad token id were not set. As a consequence, you may observe unexpected behavior. Please pass your input's `attention_mask` to obtain reliable results.\n",
      "Setting `pad_token_id` to `eos_token_id`:50256 for open-end generation.\n",
      "The attention mask and the pad token id were not set. As a consequence, you may observe unexpected behavior. Please pass your input's `attention_mask` to obtain reliable results.\n",
      "Setting `pad_token_id` to `eos_token_id`:50256 for open-end generation.\n"
     ]
    },
    {
     "name": "stdout",
     "output_type": "stream",
     "text": [
      "магазины приложений -> магазин приложений\n",
      "человеко-машинного интерфейса -> человеко-машинный интерфейс\n",
      "принципах взаимодействия нейронов -> принципы взаимодействия нейронов\n",
      "отладки приложений -> отладка приложений\n",
      "содержанием дисциплины -> содержание дисциплины\n",
      "Производственная -> \n",
      "Производственная\n"
     ]
    },
    {
     "name": "stderr",
     "output_type": "stream",
     "text": [
      "The attention mask and the pad token id were not set. As a consequence, you may observe unexpected behavior. Please pass your input's `attention_mask` to obtain reliable results.\n",
      "Setting `pad_token_id` to `eos_token_id`:50256 for open-end generation.\n"
     ]
    },
    {
     "name": "stdout",
     "output_type": "stream",
     "text": [
      "магазины приложений -> магазин приложений\n",
      "человеко-машинного интерфейса -> человеко-машинный интерфейс\n",
      "принципах взаимодействия нейронов -> принципы взаимодействия нейронов\n",
      "отладки приложений -> отладка приложений\n",
      "содержанием дисциплины -> содержание дисциплины\n",
      "Производственная -> \n",
      "Производственная ->\n"
     ]
    },
    {
     "name": "stderr",
     "output_type": "stream",
     "text": [
      "The attention mask and the pad token id were not set. As a consequence, you may observe unexpected behavior. Please pass your input's `attention_mask` to obtain reliable results.\n",
      "Setting `pad_token_id` to `eos_token_id`:50256 for open-end generation.\n"
     ]
    },
    {
     "name": "stdout",
     "output_type": "stream",
     "text": [
      "магазины приложений -> магазин приложений\n",
      "человеко-машинного интерфейса -> человеко-машинный интерфейс\n",
      "принципах взаимодействия нейронов -> принципы взаимодействия нейронов\n",
      "отладки приложений -> отладка приложений\n",
      "содержанием дисциплины -> содержание дисциплины\n",
      "Производственная -> \n",
      "Производственная -> \n",
      "\n"
     ]
    },
    {
     "name": "stderr",
     "output_type": "stream",
     "text": [
      "The attention mask and the pad token id were not set. As a consequence, you may observe unexpected behavior. Please pass your input's `attention_mask` to obtain reliable results.\n",
      "Setting `pad_token_id` to `eos_token_id`:50256 for open-end generation.\n",
      "The attention mask and the pad token id were not set. As a consequence, you may observe unexpected behavior. Please pass your input's `attention_mask` to obtain reliable results.\n",
      "Setting `pad_token_id` to `eos_token_id`:50256 for open-end generation.\n"
     ]
    },
    {
     "name": "stdout",
     "output_type": "stream",
     "text": [
      "магазины приложений -> магазин приложений\n",
      "человеко-машинного интерфейса -> человеко-машинный интерфейс\n",
      "принципах взаимодействия нейронов -> принципы взаимодействия нейронов\n",
      "отладки приложений -> отладка приложений\n",
      "содержанием дисциплины -> содержание дисциплины\n",
      "компьютером -> \n",
      "компьютером\n"
     ]
    },
    {
     "name": "stderr",
     "output_type": "stream",
     "text": [
      "The attention mask and the pad token id were not set. As a consequence, you may observe unexpected behavior. Please pass your input's `attention_mask` to obtain reliable results.\n",
      "Setting `pad_token_id` to `eos_token_id`:50256 for open-end generation.\n"
     ]
    },
    {
     "name": "stdout",
     "output_type": "stream",
     "text": [
      "магазины приложений -> магазин приложений\n",
      "человеко-машинного интерфейса -> человеко-машинный интерфейс\n",
      "принципах взаимодействия нейронов -> принципы взаимодействия нейронов\n",
      "отладки приложений -> отладка приложений\n",
      "содержанием дисциплины -> содержание дисциплины\n",
      "компьютером -> \n",
      "компьютером\n",
      "програм\n"
     ]
    },
    {
     "name": "stderr",
     "output_type": "stream",
     "text": [
      "The attention mask and the pad token id were not set. As a consequence, you may observe unexpected behavior. Please pass your input's `attention_mask` to obtain reliable results.\n",
      "Setting `pad_token_id` to `eos_token_id`:50256 for open-end generation.\n",
      "The attention mask and the pad token id were not set. As a consequence, you may observe unexpected behavior. Please pass your input's `attention_mask` to obtain reliable results.\n",
      "Setting `pad_token_id` to `eos_token_id`:50256 for open-end generation.\n"
     ]
    },
    {
     "name": "stdout",
     "output_type": "stream",
     "text": [
      "магазины приложений -> магазин приложений\n",
      "человеко-машинного интерфейса -> человеко-машинный интерфейс\n",
      "принципах взаимодействия нейронов -> принципы взаимодействия нейронов\n",
      "отладки приложений -> отладка приложений\n",
      "содержанием дисциплины -> содержание дисциплины\n",
      "Data Science -> \n",
      "Data Science\n"
     ]
    },
    {
     "name": "stderr",
     "output_type": "stream",
     "text": [
      "The attention mask and the pad token id were not set. As a consequence, you may observe unexpected behavior. Please pass your input's `attention_mask` to obtain reliable results.\n",
      "Setting `pad_token_id` to `eos_token_id`:50256 for open-end generation.\n"
     ]
    },
    {
     "name": "stdout",
     "output_type": "stream",
     "text": [
      "магазины приложений -> магазин приложений\n",
      "человеко-машинного интерфейса -> человеко-машинный интерфейс\n",
      "принципах взаимодействия нейронов -> принципы взаимодействия нейронов\n",
      "отладки приложений -> отладка приложений\n",
      "содержанием дисциплины -> содержание дисциплины\n",
      "Data Science -> \n",
      "Data Science ->\n"
     ]
    },
    {
     "name": "stderr",
     "output_type": "stream",
     "text": [
      "The attention mask and the pad token id were not set. As a consequence, you may observe unexpected behavior. Please pass your input's `attention_mask` to obtain reliable results.\n",
      "Setting `pad_token_id` to `eos_token_id`:50256 for open-end generation.\n"
     ]
    },
    {
     "name": "stdout",
     "output_type": "stream",
     "text": [
      "магазины приложений -> магазин приложений\n",
      "человеко-машинного интерфейса -> человеко-машинный интерфейс\n",
      "принципах взаимодействия нейронов -> принципы взаимодействия нейронов\n",
      "отладки приложений -> отладка приложений\n",
      "содержанием дисциплины -> содержание дисциплины\n",
      "Data Science -> \n",
      "Data Science -> \n",
      "\n"
     ]
    },
    {
     "name": "stderr",
     "output_type": "stream",
     "text": [
      "The attention mask and the pad token id were not set. As a consequence, you may observe unexpected behavior. Please pass your input's `attention_mask` to obtain reliable results.\n",
      "Setting `pad_token_id` to `eos_token_id`:50256 for open-end generation.\n",
      "The attention mask and the pad token id were not set. As a consequence, you may observe unexpected behavior. Please pass your input's `attention_mask` to obtain reliable results.\n",
      "Setting `pad_token_id` to `eos_token_id`:50256 for open-end generation.\n"
     ]
    },
    {
     "name": "stdout",
     "output_type": "stream",
     "text": [
      "магазины приложений -> магазин приложений\n",
      "человеко-машинного интерфейса -> человеко-машинный интерфейс\n",
      "принципах взаимодействия нейронов -> принципы взаимодействия нейронов\n",
      "отладки приложений -> отладка приложений\n",
      "содержанием дисциплины -> содержание дисциплины\n",
      "R -> q -> \n"
     ]
    },
    {
     "name": "stderr",
     "output_type": "stream",
     "text": [
      "The attention mask and the pad token id were not set. As a consequence, you may observe unexpected behavior. Please pass your input's `attention_mask` to obtain reliable results.\n",
      "Setting `pad_token_id` to `eos_token_id`:50256 for open-end generation.\n"
     ]
    },
    {
     "name": "stdout",
     "output_type": "stream",
     "text": [
      "магазины приложений -> магазин приложений\n",
      "человеко-машинного интерфейса -> человеко-машинный интерфейс\n",
      "принципах взаимодействия нейронов -> принципы взаимодействия нейронов\n",
      "отладки приложений -> отладка приложений\n",
      "содержанием дисциплины -> содержание дисциплины\n",
      "R -> q -> q -\n"
     ]
    },
    {
     "name": "stderr",
     "output_type": "stream",
     "text": [
      "The attention mask and the pad token id were not set. As a consequence, you may observe unexpected behavior. Please pass your input's `attention_mask` to obtain reliable results.\n",
      "Setting `pad_token_id` to `eos_token_id`:50256 for open-end generation.\n"
     ]
    },
    {
     "name": "stdout",
     "output_type": "stream",
     "text": [
      "магазины приложений -> магазин приложений\n",
      "человеко-машинного интерфейса -> человеко-машинный интерфейс\n",
      "принципах взаимодействия нейронов -> принципы взаимодействия нейронов\n",
      "отладки приложений -> отладка приложений\n",
      "содержанием дисциплины -> содержание дисциплины\n",
      "R -> q -> q -> \n"
     ]
    },
    {
     "name": "stderr",
     "output_type": "stream",
     "text": [
      "The attention mask and the pad token id were not set. As a consequence, you may observe unexpected behavior. Please pass your input's `attention_mask` to obtain reliable results.\n",
      "Setting `pad_token_id` to `eos_token_id`:50256 for open-end generation.\n"
     ]
    },
    {
     "name": "stdout",
     "output_type": "stream",
     "text": [
      "магазины приложений -> магазин приложений\n",
      "человеко-машинного интерфейса -> человеко-машинный интерфейс\n",
      "принципах взаимодействия нейронов -> принципы взаимодействия нейронов\n",
      "отладки приложений -> отладка приложений\n",
      "содержанием дисциплины -> содержание дисциплины\n",
      "R -> q -> q -> q -\n"
     ]
    },
    {
     "name": "stderr",
     "output_type": "stream",
     "text": [
      "The attention mask and the pad token id were not set. As a consequence, you may observe unexpected behavior. Please pass your input's `attention_mask` to obtain reliable results.\n",
      "Setting `pad_token_id` to `eos_token_id`:50256 for open-end generation.\n"
     ]
    },
    {
     "name": "stdout",
     "output_type": "stream",
     "text": [
      "магазины приложений -> магазин приложений\n",
      "человеко-машинного интерфейса -> человеко-машинный интерфейс\n",
      "принципах взаимодействия нейронов -> принципы взаимодействия нейронов\n",
      "отладки приложений -> отладка приложений\n",
      "содержанием дисциплины -> содержание дисциплины\n",
      "R -> q -> q -> q -> \n"
     ]
    },
    {
     "name": "stderr",
     "output_type": "stream",
     "text": [
      "The attention mask and the pad token id were not set. As a consequence, you may observe unexpected behavior. Please pass your input's `attention_mask` to obtain reliable results.\n",
      "Setting `pad_token_id` to `eos_token_id`:50256 for open-end generation.\n"
     ]
    },
    {
     "name": "stdout",
     "output_type": "stream",
     "text": [
      "магазины приложений -> магазин приложений\n",
      "человеко-машинного интерфейса -> человеко-машинный интерфейс\n",
      "принципах взаимодействия нейронов -> принципы взаимодействия нейронов\n",
      "отладки приложений -> отладка приложений\n",
      "содержанием дисциплины -> содержание дисциплины\n",
      "R -> q -> q -> q -> q -\n"
     ]
    },
    {
     "name": "stderr",
     "output_type": "stream",
     "text": [
      "The attention mask and the pad token id were not set. As a consequence, you may observe unexpected behavior. Please pass your input's `attention_mask` to obtain reliable results.\n",
      "Setting `pad_token_id` to `eos_token_id`:50256 for open-end generation.\n"
     ]
    },
    {
     "name": "stdout",
     "output_type": "stream",
     "text": [
      "магазины приложений -> магазин приложений\n",
      "человеко-машинного интерфейса -> человеко-машинный интерфейс\n",
      "принципах взаимодействия нейронов -> принципы взаимодействия нейронов\n",
      "отладки приложений -> отладка приложений\n",
      "содержанием дисциплины -> содержание дисциплины\n",
      "R -> q -> q -> q -> q -> \n"
     ]
    },
    {
     "name": "stderr",
     "output_type": "stream",
     "text": [
      "The attention mask and the pad token id were not set. As a consequence, you may observe unexpected behavior. Please pass your input's `attention_mask` to obtain reliable results.\n",
      "Setting `pad_token_id` to `eos_token_id`:50256 for open-end generation.\n"
     ]
    },
    {
     "name": "stdout",
     "output_type": "stream",
     "text": [
      "магазины приложений -> магазин приложений\n",
      "человеко-машинного интерфейса -> человеко-машинный интерфейс\n",
      "принципах взаимодействия нейронов -> принципы взаимодействия нейронов\n",
      "отладки приложений -> отладка приложений\n",
      "содержанием дисциплины -> содержание дисциплины\n",
      "R -> q -> q -> q -> q -> q -\n"
     ]
    },
    {
     "name": "stderr",
     "output_type": "stream",
     "text": [
      "The attention mask and the pad token id were not set. As a consequence, you may observe unexpected behavior. Please pass your input's `attention_mask` to obtain reliable results.\n",
      "Setting `pad_token_id` to `eos_token_id`:50256 for open-end generation.\n"
     ]
    },
    {
     "name": "stdout",
     "output_type": "stream",
     "text": [
      "магазины приложений -> магазин приложений\n",
      "человеко-машинного интерфейса -> человеко-машинный интерфейс\n",
      "принципах взаимодействия нейронов -> принципы взаимодействия нейронов\n",
      "отладки приложений -> отладка приложений\n",
      "содержанием дисциплины -> содержание дисциплины\n",
      "R -> q -> q -> q -> q -> q -> \n"
     ]
    },
    {
     "name": "stderr",
     "output_type": "stream",
     "text": [
      "The attention mask and the pad token id were not set. As a consequence, you may observe unexpected behavior. Please pass your input's `attention_mask` to obtain reliable results.\n",
      "Setting `pad_token_id` to `eos_token_id`:50256 for open-end generation.\n"
     ]
    },
    {
     "name": "stdout",
     "output_type": "stream",
     "text": [
      "магазины приложений -> магазин приложений\n",
      "человеко-машинного интерфейса -> человеко-машинный интерфейс\n",
      "принципах взаимодействия нейронов -> принципы взаимодействия нейронов\n",
      "отладки приложений -> отладка приложений\n",
      "содержанием дисциплины -> содержание дисциплины\n",
      "R -> q -> q -> q -> q -> q -> q -\n"
     ]
    },
    {
     "name": "stderr",
     "output_type": "stream",
     "text": [
      "The attention mask and the pad token id were not set. As a consequence, you may observe unexpected behavior. Please pass your input's `attention_mask` to obtain reliable results.\n",
      "Setting `pad_token_id` to `eos_token_id`:50256 for open-end generation.\n",
      "The attention mask and the pad token id were not set. As a consequence, you may observe unexpected behavior. Please pass your input's `attention_mask` to obtain reliable results.\n",
      "Setting `pad_token_id` to `eos_token_id`:50256 for open-end generation.\n"
     ]
    },
    {
     "name": "stdout",
     "output_type": "stream",
     "text": [
      "магазины приложений -> магазин приложений\n",
      "человеко-машинного интерфейса -> человеко-машинный интерфейс\n",
      "принципах взаимодействия нейронов -> принципы взаимодействия нейронов\n",
      "отладки приложений -> отладка приложений\n",
      "содержанием дисциплины -> содержание дисциплины\n",
      "MATLAB -> \n",
      "MATLA\n"
     ]
    },
    {
     "name": "stderr",
     "output_type": "stream",
     "text": [
      "The attention mask and the pad token id were not set. As a consequence, you may observe unexpected behavior. Please pass your input's `attention_mask` to obtain reliable results.\n",
      "Setting `pad_token_id` to `eos_token_id`:50256 for open-end generation.\n"
     ]
    },
    {
     "name": "stdout",
     "output_type": "stream",
     "text": [
      "магазины приложений -> магазин приложений\n",
      "человеко-машинного интерфейса -> человеко-машинный интерфейс\n",
      "принципах взаимодействия нейронов -> принципы взаимодействия нейронов\n",
      "отладки приложений -> отладка приложений\n",
      "содержанием дисциплины -> содержание дисциплины\n",
      "MATLAB -> \n",
      "MATLAB -\n"
     ]
    },
    {
     "name": "stderr",
     "output_type": "stream",
     "text": [
      "The attention mask and the pad token id were not set. As a consequence, you may observe unexpected behavior. Please pass your input's `attention_mask` to obtain reliable results.\n",
      "Setting `pad_token_id` to `eos_token_id`:50256 for open-end generation.\n"
     ]
    },
    {
     "name": "stdout",
     "output_type": "stream",
     "text": [
      "магазины приложений -> магазин приложений\n",
      "человеко-машинного интерфейса -> человеко-машинный интерфейс\n",
      "принципах взаимодействия нейронов -> принципы взаимодействия нейронов\n",
      "отладки приложений -> отладка приложений\n",
      "содержанием дисциплины -> содержание дисциплины\n",
      "MATLAB -> \n",
      "MATLAB -> \n"
     ]
    },
    {
     "name": "stderr",
     "output_type": "stream",
     "text": [
      "The attention mask and the pad token id were not set. As a consequence, you may observe unexpected behavior. Please pass your input's `attention_mask` to obtain reliable results.\n",
      "Setting `pad_token_id` to `eos_token_id`:50256 for open-end generation.\n"
     ]
    },
    {
     "name": "stdout",
     "output_type": "stream",
     "text": [
      "магазины приложений -> магазин приложений\n",
      "человеко-машинного интерфейса -> человеко-машинный интерфейс\n",
      "принципах взаимодействия нейронов -> принципы взаимодействия нейронов\n",
      "отладки приложений -> отладка приложений\n",
      "содержанием дисциплины -> содержание дисциплины\n",
      "MATLAB -> \n",
      "MATLAB -> \n",
      "M\n"
     ]
    },
    {
     "name": "stderr",
     "output_type": "stream",
     "text": [
      "The attention mask and the pad token id were not set. As a consequence, you may observe unexpected behavior. Please pass your input's `attention_mask` to obtain reliable results.\n",
      "Setting `pad_token_id` to `eos_token_id`:50256 for open-end generation.\n",
      "The attention mask and the pad token id were not set. As a consequence, you may observe unexpected behavior. Please pass your input's `attention_mask` to obtain reliable results.\n",
      "Setting `pad_token_id` to `eos_token_id`:50256 for open-end generation.\n"
     ]
    },
    {
     "name": "stdout",
     "output_type": "stream",
     "text": [
      "магазины приложений -> магазин приложений\n",
      "человеко-машинного интерфейса -> человеко-машинный интерфейс\n",
      "принципах взаимодействия нейронов -> принципы взаимодействия нейронов\n",
      "отладки приложений -> отладка приложений\n",
      "содержанием дисциплины -> содержание дисциплины\n",
      "CUDA -> \n",
      "CUDA\n"
     ]
    },
    {
     "name": "stderr",
     "output_type": "stream",
     "text": [
      "The attention mask and the pad token id were not set. As a consequence, you may observe unexpected behavior. Please pass your input's `attention_mask` to obtain reliable results.\n",
      "Setting `pad_token_id` to `eos_token_id`:50256 for open-end generation.\n"
     ]
    },
    {
     "name": "stdout",
     "output_type": "stream",
     "text": [
      "магазины приложений -> магазин приложений\n",
      "человеко-машинного интерфейса -> человеко-машинный интерфейс\n",
      "принципах взаимодействия нейронов -> принципы взаимодействия нейронов\n",
      "отладки приложений -> отладка приложений\n",
      "содержанием дисциплины -> содержание дисциплины\n",
      "CUDA -> \n",
      "CUDA ->\n"
     ]
    },
    {
     "name": "stderr",
     "output_type": "stream",
     "text": [
      "The attention mask and the pad token id were not set. As a consequence, you may observe unexpected behavior. Please pass your input's `attention_mask` to obtain reliable results.\n",
      "Setting `pad_token_id` to `eos_token_id`:50256 for open-end generation.\n"
     ]
    },
    {
     "name": "stdout",
     "output_type": "stream",
     "text": [
      "магазины приложений -> магазин приложений\n",
      "человеко-машинного интерфейса -> человеко-машинный интерфейс\n",
      "принципах взаимодействия нейронов -> принципы взаимодействия нейронов\n",
      "отладки приложений -> отладка приложений\n",
      "содержанием дисциплины -> содержание дисциплины\n",
      "CUDA -> \n",
      "CUDA -> \n",
      "\n"
     ]
    },
    {
     "name": "stderr",
     "output_type": "stream",
     "text": [
      "The attention mask and the pad token id were not set. As a consequence, you may observe unexpected behavior. Please pass your input's `attention_mask` to obtain reliable results.\n",
      "Setting `pad_token_id` to `eos_token_id`:50256 for open-end generation.\n",
      "The attention mask and the pad token id were not set. As a consequence, you may observe unexpected behavior. Please pass your input's `attention_mask` to obtain reliable results.\n",
      "Setting `pad_token_id` to `eos_token_id`:50256 for open-end generation.\n"
     ]
    },
    {
     "name": "stdout",
     "output_type": "stream",
     "text": [
      "магазины приложений -> магазин приложений\n",
      "человеко-машинного интерфейса -> человеко-машинный интерфейс\n",
      "принципах взаимодействия нейронов -> принципы взаимодействия нейронов\n",
      "отладки приложений -> отладка приложений\n",
      "содержанием дисциплины -> содержание дисциплины\n",
      "SoC -> \n",
      "SoC\n"
     ]
    },
    {
     "name": "stderr",
     "output_type": "stream",
     "text": [
      "The attention mask and the pad token id were not set. As a consequence, you may observe unexpected behavior. Please pass your input's `attention_mask` to obtain reliable results.\n",
      "Setting `pad_token_id` to `eos_token_id`:50256 for open-end generation.\n"
     ]
    },
    {
     "name": "stdout",
     "output_type": "stream",
     "text": [
      "магазины приложений -> магазин приложений\n",
      "человеко-машинного интерфейса -> человеко-машинный интерфейс\n",
      "принципах взаимодействия нейронов -> принципы взаимодействия нейронов\n",
      "отладки приложений -> отладка приложений\n",
      "содержанием дисциплины -> содержание дисциплины\n",
      "SoC -> \n",
      "SoC ->\n"
     ]
    },
    {
     "name": "stderr",
     "output_type": "stream",
     "text": [
      "The attention mask and the pad token id were not set. As a consequence, you may observe unexpected behavior. Please pass your input's `attention_mask` to obtain reliable results.\n",
      "Setting `pad_token_id` to `eos_token_id`:50256 for open-end generation.\n"
     ]
    },
    {
     "name": "stdout",
     "output_type": "stream",
     "text": [
      "магазины приложений -> магазин приложений\n",
      "человеко-машинного интерфейса -> человеко-машинный интерфейс\n",
      "принципах взаимодействия нейронов -> принципы взаимодействия нейронов\n",
      "отладки приложений -> отладка приложений\n",
      "содержанием дисциплины -> содержание дисциплины\n",
      "SoC -> \n",
      "SoC -> \n",
      "\n"
     ]
    },
    {
     "name": "stderr",
     "output_type": "stream",
     "text": [
      "The attention mask and the pad token id were not set. As a consequence, you may observe unexpected behavior. Please pass your input's `attention_mask` to obtain reliable results.\n",
      "Setting `pad_token_id` to `eos_token_id`:50256 for open-end generation.\n",
      "The attention mask and the pad token id were not set. As a consequence, you may observe unexpected behavior. Please pass your input's `attention_mask` to obtain reliable results.\n",
      "Setting `pad_token_id` to `eos_token_id`:50256 for open-end generation.\n"
     ]
    },
    {
     "name": "stdout",
     "output_type": "stream",
     "text": [
      "магазины приложений -> магазин приложений\n",
      "человеко-машинного интерфейса -> человеко-машинный интерфейс\n",
      "принципах взаимодействия нейронов -> принципы взаимодействия нейронов\n",
      "отладки приложений -> отладка приложений\n",
      "содержанием дисциплины -> содержание дисциплины\n",
      "GPU -> \n",
      "GPU\n"
     ]
    },
    {
     "name": "stderr",
     "output_type": "stream",
     "text": [
      "The attention mask and the pad token id were not set. As a consequence, you may observe unexpected behavior. Please pass your input's `attention_mask` to obtain reliable results.\n",
      "Setting `pad_token_id` to `eos_token_id`:50256 for open-end generation.\n"
     ]
    },
    {
     "name": "stdout",
     "output_type": "stream",
     "text": [
      "магазины приложений -> магазин приложений\n",
      "человеко-машинного интерфейса -> человеко-машинный интерфейс\n",
      "принципах взаимодействия нейронов -> принципы взаимодействия нейронов\n",
      "отладки приложений -> отладка приложений\n",
      "содержанием дисциплины -> содержание дисциплины\n",
      "GPU -> \n",
      "GPU ->\n"
     ]
    },
    {
     "name": "stderr",
     "output_type": "stream",
     "text": [
      "The attention mask and the pad token id were not set. As a consequence, you may observe unexpected behavior. Please pass your input's `attention_mask` to obtain reliable results.\n",
      "Setting `pad_token_id` to `eos_token_id`:50256 for open-end generation.\n"
     ]
    },
    {
     "name": "stdout",
     "output_type": "stream",
     "text": [
      "магазины приложений -> магазин приложений\n",
      "человеко-машинного интерфейса -> человеко-машинный интерфейс\n",
      "принципах взаимодействия нейронов -> принципы взаимодействия нейронов\n",
      "отладки приложений -> отладка приложений\n",
      "содержанием дисциплины -> содержание дисциплины\n",
      "GPU -> \n",
      "GPU -> \n",
      "\n"
     ]
    },
    {
     "name": "stderr",
     "output_type": "stream",
     "text": [
      "The attention mask and the pad token id were not set. As a consequence, you may observe unexpected behavior. Please pass your input's `attention_mask` to obtain reliable results.\n",
      "Setting `pad_token_id` to `eos_token_id`:50256 for open-end generation.\n",
      "The attention mask and the pad token id were not set. As a consequence, you may observe unexpected behavior. Please pass your input's `attention_mask` to obtain reliable results.\n",
      "Setting `pad_token_id` to `eos_token_id`:50256 for open-end generation.\n"
     ]
    },
    {
     "name": "stdout",
     "output_type": "stream",
     "text": [
      "магазины приложений -> магазин приложений\n",
      "человеко-машинного интерфейса -> человеко-машинный интерфейс\n",
      "принципах взаимодействия нейронов -> принципы взаимодействия нейронов\n",
      "отладки приложений -> отладка приложений\n",
      "содержанием дисциплины -> содержание дисциплины\n",
      "FPGA -> \n",
      "FPGA\n"
     ]
    },
    {
     "name": "stderr",
     "output_type": "stream",
     "text": [
      "The attention mask and the pad token id were not set. As a consequence, you may observe unexpected behavior. Please pass your input's `attention_mask` to obtain reliable results.\n",
      "Setting `pad_token_id` to `eos_token_id`:50256 for open-end generation.\n"
     ]
    },
    {
     "name": "stdout",
     "output_type": "stream",
     "text": [
      "магазины приложений -> магазин приложений\n",
      "человеко-машинного интерфейса -> человеко-машинный интерфейс\n",
      "принципах взаимодействия нейронов -> принципы взаимодействия нейронов\n",
      "отладки приложений -> отладка приложений\n",
      "содержанием дисциплины -> содержание дисциплины\n",
      "FPGA -> \n",
      "FPGA ->\n"
     ]
    },
    {
     "name": "stderr",
     "output_type": "stream",
     "text": [
      "The attention mask and the pad token id were not set. As a consequence, you may observe unexpected behavior. Please pass your input's `attention_mask` to obtain reliable results.\n",
      "Setting `pad_token_id` to `eos_token_id`:50256 for open-end generation.\n"
     ]
    },
    {
     "name": "stdout",
     "output_type": "stream",
     "text": [
      "магазины приложений -> магазин приложений\n",
      "человеко-машинного интерфейса -> человеко-машинный интерфейс\n",
      "принципах взаимодействия нейронов -> принципы взаимодействия нейронов\n",
      "отладки приложений -> отладка приложений\n",
      "содержанием дисциплины -> содержание дисциплины\n",
      "FPGA -> \n",
      "FPGA -> \n",
      "\n"
     ]
    },
    {
     "name": "stderr",
     "output_type": "stream",
     "text": [
      "The attention mask and the pad token id were not set. As a consequence, you may observe unexpected behavior. Please pass your input's `attention_mask` to obtain reliable results.\n",
      "Setting `pad_token_id` to `eos_token_id`:50256 for open-end generation.\n",
      "The attention mask and the pad token id were not set. As a consequence, you may observe unexpected behavior. Please pass your input's `attention_mask` to obtain reliable results.\n",
      "Setting `pad_token_id` to `eos_token_id`:50256 for open-end generation.\n"
     ]
    },
    {
     "name": "stdout",
     "output_type": "stream",
     "text": [
      "магазины приложений -> магазин приложений\n",
      "человеко-машинного интерфейса -> человеко-машинный интерфейс\n",
      "принципах взаимодействия нейронов -> принципы взаимодействия нейронов\n",
      "отладки приложений -> отладка приложений\n",
      "содержанием дисциплины -> содержание дисциплины\n",
      "Python -> \n",
      "Python\n"
     ]
    },
    {
     "name": "stderr",
     "output_type": "stream",
     "text": [
      "The attention mask and the pad token id were not set. As a consequence, you may observe unexpected behavior. Please pass your input's `attention_mask` to obtain reliable results.\n",
      "Setting `pad_token_id` to `eos_token_id`:50256 for open-end generation.\n"
     ]
    },
    {
     "name": "stdout",
     "output_type": "stream",
     "text": [
      "магазины приложений -> магазин приложений\n",
      "человеко-машинного интерфейса -> человеко-машинный интерфейс\n",
      "принципах взаимодействия нейронов -> принципы взаимодействия нейронов\n",
      "отладки приложений -> отладка приложений\n",
      "содержанием дисциплины -> содержание дисциплины\n",
      "Python -> \n",
      "Python ->\n"
     ]
    },
    {
     "name": "stderr",
     "output_type": "stream",
     "text": [
      "The attention mask and the pad token id were not set. As a consequence, you may observe unexpected behavior. Please pass your input's `attention_mask` to obtain reliable results.\n",
      "Setting `pad_token_id` to `eos_token_id`:50256 for open-end generation.\n"
     ]
    },
    {
     "name": "stdout",
     "output_type": "stream",
     "text": [
      "магазины приложений -> магазин приложений\n",
      "человеко-машинного интерфейса -> человеко-машинный интерфейс\n",
      "принципах взаимодействия нейронов -> принципы взаимодействия нейронов\n",
      "отладки приложений -> отладка приложений\n",
      "содержанием дисциплины -> содержание дисциплины\n",
      "Python -> \n",
      "Python -> \n",
      "\n"
     ]
    },
    {
     "name": "stderr",
     "output_type": "stream",
     "text": [
      "The attention mask and the pad token id were not set. As a consequence, you may observe unexpected behavior. Please pass your input's `attention_mask` to obtain reliable results.\n",
      "Setting `pad_token_id` to `eos_token_id`:50256 for open-end generation.\n",
      "The attention mask and the pad token id were not set. As a consequence, you may observe unexpected behavior. Please pass your input's `attention_mask` to obtain reliable results.\n",
      "Setting `pad_token_id` to `eos_token_id`:50256 for open-end generation.\n"
     ]
    },
    {
     "name": "stdout",
     "output_type": "stream",
     "text": [
      "магазины приложений -> магазин приложений\n",
      "человеко-машинного интерфейса -> человеко-машинный интерфейс\n",
      "принципах взаимодействия нейронов -> принципы взаимодействия нейронов\n",
      "отладки приложений -> отладка приложений\n",
      "содержанием дисциплины -> содержание дисциплины\n",
      "Robot Operating System -> \n",
      "Robot\n"
     ]
    },
    {
     "name": "stderr",
     "output_type": "stream",
     "text": [
      "The attention mask and the pad token id were not set. As a consequence, you may observe unexpected behavior. Please pass your input's `attention_mask` to obtain reliable results.\n",
      "Setting `pad_token_id` to `eos_token_id`:50256 for open-end generation.\n"
     ]
    },
    {
     "name": "stdout",
     "output_type": "stream",
     "text": [
      "магазины приложений -> магазин приложений\n",
      "человеко-машинного интерфейса -> человеко-машинный интерфейс\n",
      "принципах взаимодействия нейронов -> принципы взаимодействия нейронов\n",
      "отладки приложений -> отладка приложений\n",
      "содержанием дисциплины -> содержание дисциплины\n",
      "Robot Operating System -> \n",
      "Robot Operating\n"
     ]
    },
    {
     "name": "stderr",
     "output_type": "stream",
     "text": [
      "The attention mask and the pad token id were not set. As a consequence, you may observe unexpected behavior. Please pass your input's `attention_mask` to obtain reliable results.\n",
      "Setting `pad_token_id` to `eos_token_id`:50256 for open-end generation.\n"
     ]
    },
    {
     "name": "stdout",
     "output_type": "stream",
     "text": [
      "магазины приложений -> магазин приложений\n",
      "человеко-машинного интерфейса -> человеко-машинный интерфейс\n",
      "принципах взаимодействия нейронов -> принципы взаимодействия нейронов\n",
      "отладки приложений -> отладка приложений\n",
      "содержанием дисциплины -> содержание дисциплины\n",
      "Robot Operating System -> \n",
      "Robot Operating System\n",
      "\n"
     ]
    },
    {
     "name": "stderr",
     "output_type": "stream",
     "text": [
      "The attention mask and the pad token id were not set. As a consequence, you may observe unexpected behavior. Please pass your input's `attention_mask` to obtain reliable results.\n",
      "Setting `pad_token_id` to `eos_token_id`:50256 for open-end generation.\n",
      "The attention mask and the pad token id were not set. As a consequence, you may observe unexpected behavior. Please pass your input's `attention_mask` to obtain reliable results.\n",
      "Setting `pad_token_id` to `eos_token_id`:50256 for open-end generation.\n"
     ]
    },
    {
     "name": "stdout",
     "output_type": "stream",
     "text": [
      "магазины приложений -> магазин приложений\n",
      "человеко-машинного интерфейса -> человеко-машинный интерфейс\n",
      "принципах взаимодействия нейронов -> принципы взаимодействия нейронов\n",
      "отладки приложений -> отладка приложений\n",
      "содержанием дисциплины -> содержание дисциплины\n",
      "ROS -> errorResult\n"
     ]
    },
    {
     "name": "stderr",
     "output_type": "stream",
     "text": [
      "The attention mask and the pad token id were not set. As a consequence, you may observe unexpected behavior. Please pass your input's `attention_mask` to obtain reliable results.\n",
      "Setting `pad_token_id` to `eos_token_id`:50256 for open-end generation.\n"
     ]
    },
    {
     "name": "stdout",
     "output_type": "stream",
     "text": [
      "магазины приложений -> магазин приложений\n",
      "человеко-машинного интерфейса -> человеко-машинный интерфейс\n",
      "принципах взаимодействия нейронов -> принципы взаимодействия нейронов\n",
      "отладки приложений -> отладка приложений\n",
      "содержанием дисциплины -> содержание дисциплины\n",
      "ROS -> errorResults\n",
      "\n"
     ]
    },
    {
     "name": "stderr",
     "output_type": "stream",
     "text": [
      "The attention mask and the pad token id were not set. As a consequence, you may observe unexpected behavior. Please pass your input's `attention_mask` to obtain reliable results.\n",
      "Setting `pad_token_id` to `eos_token_id`:50256 for open-end generation.\n"
     ]
    },
    {
     "name": "stdout",
     "output_type": "stream",
     "text": [
      "магазины приложений -> магазин приложений\n",
      "человеко-машинного интерфейса -> человеко-машинный интерфейс\n",
      "принципах взаимодействия нейронов -> принципы взаимодействия нейронов\n",
      "отладки приложений -> отладка приложений\n",
      "содержанием дисциплины -> содержание дисциплины\n",
      "ROS -> errorResults\n",
      "ROS\n"
     ]
    },
    {
     "name": "stderr",
     "output_type": "stream",
     "text": [
      "The attention mask and the pad token id were not set. As a consequence, you may observe unexpected behavior. Please pass your input's `attention_mask` to obtain reliable results.\n",
      "Setting `pad_token_id` to `eos_token_id`:50256 for open-end generation.\n"
     ]
    },
    {
     "name": "stdout",
     "output_type": "stream",
     "text": [
      "магазины приложений -> магазин приложений\n",
      "человеко-машинного интерфейса -> человеко-машинный интерфейс\n",
      "принципах взаимодействия нейронов -> принципы взаимодействия нейронов\n",
      "отладки приложений -> отладка приложений\n",
      "содержанием дисциплины -> содержание дисциплины\n",
      "ROS -> errorResults\n",
      "ROS ->\n"
     ]
    },
    {
     "name": "stderr",
     "output_type": "stream",
     "text": [
      "The attention mask and the pad token id were not set. As a consequence, you may observe unexpected behavior. Please pass your input's `attention_mask` to obtain reliable results.\n",
      "Setting `pad_token_id` to `eos_token_id`:50256 for open-end generation.\n"
     ]
    },
    {
     "name": "stdout",
     "output_type": "stream",
     "text": [
      "магазины приложений -> магазин приложений\n",
      "человеко-машинного интерфейса -> человеко-машинный интерфейс\n",
      "принципах взаимодействия нейронов -> принципы взаимодействия нейронов\n",
      "отладки приложений -> отладка приложений\n",
      "содержанием дисциплины -> содержание дисциплины\n",
      "ROS -> errorResults\n",
      "ROS -> error\n"
     ]
    },
    {
     "name": "stderr",
     "output_type": "stream",
     "text": [
      "The attention mask and the pad token id were not set. As a consequence, you may observe unexpected behavior. Please pass your input's `attention_mask` to obtain reliable results.\n",
      "Setting `pad_token_id` to `eos_token_id`:50256 for open-end generation.\n"
     ]
    },
    {
     "name": "stdout",
     "output_type": "stream",
     "text": [
      "магазины приложений -> магазин приложений\n",
      "человеко-машинного интерфейса -> человеко-машинный интерфейс\n",
      "принципах взаимодействия нейронов -> принципы взаимодействия нейронов\n",
      "отладки приложений -> отладка приложений\n",
      "содержанием дисциплины -> содержание дисциплины\n",
      "ROS -> errorResults\n",
      "ROS -> errorRes\n"
     ]
    },
    {
     "name": "stderr",
     "output_type": "stream",
     "text": [
      "The attention mask and the pad token id were not set. As a consequence, you may observe unexpected behavior. Please pass your input's `attention_mask` to obtain reliable results.\n",
      "Setting `pad_token_id` to `eos_token_id`:50256 for open-end generation.\n"
     ]
    },
    {
     "name": "stdout",
     "output_type": "stream",
     "text": [
      "магазины приложений -> магазин приложений\n",
      "человеко-машинного интерфейса -> человеко-машинный интерфейс\n",
      "принципах взаимодействия нейронов -> принципы взаимодействия нейронов\n",
      "отладки приложений -> отладка приложений\n",
      "содержанием дисциплины -> содержание дисциплины\n",
      "ROS -> errorResults\n",
      "ROS -> errorResults\n"
     ]
    },
    {
     "name": "stderr",
     "output_type": "stream",
     "text": [
      "The attention mask and the pad token id were not set. As a consequence, you may observe unexpected behavior. Please pass your input's `attention_mask` to obtain reliable results.\n",
      "Setting `pad_token_id` to `eos_token_id`:50256 for open-end generation.\n"
     ]
    },
    {
     "name": "stdout",
     "output_type": "stream",
     "text": [
      "магазины приложений -> магазин приложений\n",
      "человеко-машинного интерфейса -> человеко-машинный интерфейс\n",
      "принципах взаимодействия нейронов -> принципы взаимодействия нейронов\n",
      "отладки приложений -> отладка приложений\n",
      "содержанием дисциплины -> содержание дисциплины\n",
      "ROS -> errorResults\n",
      "ROS -> errorResults\n",
      "\n",
      "\n"
     ]
    },
    {
     "name": "stderr",
     "output_type": "stream",
     "text": [
      "The attention mask and the pad token id were not set. As a consequence, you may observe unexpected behavior. Please pass your input's `attention_mask` to obtain reliable results.\n",
      "Setting `pad_token_id` to `eos_token_id`:50256 for open-end generation.\n",
      "The attention mask and the pad token id were not set. As a consequence, you may observe unexpected behavior. Please pass your input's `attention_mask` to obtain reliable results.\n",
      "Setting `pad_token_id` to `eos_token_id`:50256 for open-end generation.\n"
     ]
    },
    {
     "name": "stdout",
     "output_type": "stream",
     "text": [
      "магазины приложений -> магазин приложений\n",
      "человеко-машинного интерфейса -> человеко-машинный интерфейс\n",
      "принципах взаимодействия нейронов -> принципы взаимодействия нейронов\n",
      "отладки приложений -> отладка приложений\n",
      "содержанием дисциплины -> содержание дисциплины\n",
      "Java -> \n",
      "Java -\n"
     ]
    },
    {
     "name": "stderr",
     "output_type": "stream",
     "text": [
      "The attention mask and the pad token id were not set. As a consequence, you may observe unexpected behavior. Please pass your input's `attention_mask` to obtain reliable results.\n",
      "Setting `pad_token_id` to `eos_token_id`:50256 for open-end generation.\n"
     ]
    },
    {
     "name": "stdout",
     "output_type": "stream",
     "text": [
      "магазины приложений -> магазин приложений\n",
      "человеко-машинного интерфейса -> человеко-машинный интерфейс\n",
      "принципах взаимодействия нейронов -> принципы взаимодействия нейронов\n",
      "отладки приложений -> отладка приложений\n",
      "содержанием дисциплины -> содержание дисциплины\n",
      "Java -> \n",
      "Java -> \n"
     ]
    },
    {
     "name": "stderr",
     "output_type": "stream",
     "text": [
      "The attention mask and the pad token id were not set. As a consequence, you may observe unexpected behavior. Please pass your input's `attention_mask` to obtain reliable results.\n",
      "Setting `pad_token_id` to `eos_token_id`:50256 for open-end generation.\n"
     ]
    },
    {
     "name": "stdout",
     "output_type": "stream",
     "text": [
      "магазины приложений -> магазин приложений\n",
      "человеко-машинного интерфейса -> человеко-машинный интерфейс\n",
      "принципах взаимодействия нейронов -> принципы взаимодействия нейронов\n",
      "отладки приложений -> отладка приложений\n",
      "содержанием дисциплины -> содержание дисциплины\n",
      "Java -> \n",
      "Java -> \n",
      "J\n"
     ]
    },
    {
     "name": "stderr",
     "output_type": "stream",
     "text": [
      "The attention mask and the pad token id were not set. As a consequence, you may observe unexpected behavior. Please pass your input's `attention_mask` to obtain reliable results.\n",
      "Setting `pad_token_id` to `eos_token_id`:50256 for open-end generation.\n",
      "The attention mask and the pad token id were not set. As a consequence, you may observe unexpected behavior. Please pass your input's `attention_mask` to obtain reliable results.\n",
      "Setting `pad_token_id` to `eos_token_id`:50256 for open-end generation.\n"
     ]
    },
    {
     "name": "stdout",
     "output_type": "stream",
     "text": [
      "магазины приложений -> магазин приложений\n",
      "человеко-машинного интерфейса -> человеко-машинный интерфейс\n",
      "принципах взаимодействия нейронов -> принципы взаимодействия нейронов\n",
      "отладки приложений -> отладка приложений\n",
      "содержанием дисциплины -> содержание дисциплины\n",
      "ROS -> errorResult\n"
     ]
    },
    {
     "name": "stderr",
     "output_type": "stream",
     "text": [
      "The attention mask and the pad token id were not set. As a consequence, you may observe unexpected behavior. Please pass your input's `attention_mask` to obtain reliable results.\n",
      "Setting `pad_token_id` to `eos_token_id`:50256 for open-end generation.\n"
     ]
    },
    {
     "name": "stdout",
     "output_type": "stream",
     "text": [
      "магазины приложений -> магазин приложений\n",
      "человеко-машинного интерфейса -> человеко-машинный интерфейс\n",
      "принципах взаимодействия нейронов -> принципы взаимодействия нейронов\n",
      "отладки приложений -> отладка приложений\n",
      "содержанием дисциплины -> содержание дисциплины\n",
      "ROS -> errorResults\n",
      "\n"
     ]
    },
    {
     "name": "stderr",
     "output_type": "stream",
     "text": [
      "The attention mask and the pad token id were not set. As a consequence, you may observe unexpected behavior. Please pass your input's `attention_mask` to obtain reliable results.\n",
      "Setting `pad_token_id` to `eos_token_id`:50256 for open-end generation.\n"
     ]
    },
    {
     "name": "stdout",
     "output_type": "stream",
     "text": [
      "магазины приложений -> магазин приложений\n",
      "человеко-машинного интерфейса -> человеко-машинный интерфейс\n",
      "принципах взаимодействия нейронов -> принципы взаимодействия нейронов\n",
      "отладки приложений -> отладка приложений\n",
      "содержанием дисциплины -> содержание дисциплины\n",
      "ROS -> errorResults\n",
      "ROS\n"
     ]
    },
    {
     "name": "stderr",
     "output_type": "stream",
     "text": [
      "The attention mask and the pad token id were not set. As a consequence, you may observe unexpected behavior. Please pass your input's `attention_mask` to obtain reliable results.\n",
      "Setting `pad_token_id` to `eos_token_id`:50256 for open-end generation.\n"
     ]
    },
    {
     "name": "stdout",
     "output_type": "stream",
     "text": [
      "магазины приложений -> магазин приложений\n",
      "человеко-машинного интерфейса -> человеко-машинный интерфейс\n",
      "принципах взаимодействия нейронов -> принципы взаимодействия нейронов\n",
      "отладки приложений -> отладка приложений\n",
      "содержанием дисциплины -> содержание дисциплины\n",
      "ROS -> errorResults\n",
      "ROS ->\n"
     ]
    },
    {
     "name": "stderr",
     "output_type": "stream",
     "text": [
      "The attention mask and the pad token id were not set. As a consequence, you may observe unexpected behavior. Please pass your input's `attention_mask` to obtain reliable results.\n",
      "Setting `pad_token_id` to `eos_token_id`:50256 for open-end generation.\n"
     ]
    },
    {
     "name": "stdout",
     "output_type": "stream",
     "text": [
      "магазины приложений -> магазин приложений\n",
      "человеко-машинного интерфейса -> человеко-машинный интерфейс\n",
      "принципах взаимодействия нейронов -> принципы взаимодействия нейронов\n",
      "отладки приложений -> отладка приложений\n",
      "содержанием дисциплины -> содержание дисциплины\n",
      "ROS -> errorResults\n",
      "ROS -> error\n"
     ]
    },
    {
     "name": "stderr",
     "output_type": "stream",
     "text": [
      "The attention mask and the pad token id were not set. As a consequence, you may observe unexpected behavior. Please pass your input's `attention_mask` to obtain reliable results.\n",
      "Setting `pad_token_id` to `eos_token_id`:50256 for open-end generation.\n"
     ]
    },
    {
     "name": "stdout",
     "output_type": "stream",
     "text": [
      "магазины приложений -> магазин приложений\n",
      "человеко-машинного интерфейса -> человеко-машинный интерфейс\n",
      "принципах взаимодействия нейронов -> принципы взаимодействия нейронов\n",
      "отладки приложений -> отладка приложений\n",
      "содержанием дисциплины -> содержание дисциплины\n",
      "ROS -> errorResults\n",
      "ROS -> errorRes\n"
     ]
    },
    {
     "name": "stderr",
     "output_type": "stream",
     "text": [
      "The attention mask and the pad token id were not set. As a consequence, you may observe unexpected behavior. Please pass your input's `attention_mask` to obtain reliable results.\n",
      "Setting `pad_token_id` to `eos_token_id`:50256 for open-end generation.\n"
     ]
    },
    {
     "name": "stdout",
     "output_type": "stream",
     "text": [
      "магазины приложений -> магазин приложений\n",
      "человеко-машинного интерфейса -> человеко-машинный интерфейс\n",
      "принципах взаимодействия нейронов -> принципы взаимодействия нейронов\n",
      "отладки приложений -> отладка приложений\n",
      "содержанием дисциплины -> содержание дисциплины\n",
      "ROS -> errorResults\n",
      "ROS -> errorResults\n"
     ]
    },
    {
     "name": "stderr",
     "output_type": "stream",
     "text": [
      "The attention mask and the pad token id were not set. As a consequence, you may observe unexpected behavior. Please pass your input's `attention_mask` to obtain reliable results.\n",
      "Setting `pad_token_id` to `eos_token_id`:50256 for open-end generation.\n"
     ]
    },
    {
     "name": "stdout",
     "output_type": "stream",
     "text": [
      "магазины приложений -> магазин приложений\n",
      "человеко-машинного интерфейса -> человеко-машинный интерфейс\n",
      "принципах взаимодействия нейронов -> принципы взаимодействия нейронов\n",
      "отладки приложений -> отладка приложений\n",
      "содержанием дисциплины -> содержание дисциплины\n",
      "ROS -> errorResults\n",
      "ROS -> errorResults\n",
      "\n",
      "\n"
     ]
    },
    {
     "name": "stderr",
     "output_type": "stream",
     "text": [
      "The attention mask and the pad token id were not set. As a consequence, you may observe unexpected behavior. Please pass your input's `attention_mask` to obtain reliable results.\n",
      "Setting `pad_token_id` to `eos_token_id`:50256 for open-end generation.\n",
      "The attention mask and the pad token id were not set. As a consequence, you may observe unexpected behavior. Please pass your input's `attention_mask` to obtain reliable results.\n",
      "Setting `pad_token_id` to `eos_token_id`:50256 for open-end generation.\n"
     ]
    },
    {
     "name": "stdout",
     "output_type": "stream",
     "text": [
      "магазины приложений -> магазин приложений\n",
      "человеко-машинного интерфейса -> человеко-машинный интерфейс\n",
      "принципах взаимодействия нейронов -> принципы взаимодействия нейронов\n",
      "отладки приложений -> отладка приложений\n",
      "содержанием дисциплины -> содержание дисциплины\n",
      "publisher\\xadsubscriber -> \n",
      "publisher\n"
     ]
    },
    {
     "name": "stderr",
     "output_type": "stream",
     "text": [
      "The attention mask and the pad token id were not set. As a consequence, you may observe unexpected behavior. Please pass your input's `attention_mask` to obtain reliable results.\n",
      "Setting `pad_token_id` to `eos_token_id`:50256 for open-end generation.\n"
     ]
    },
    {
     "name": "stdout",
     "output_type": "stream",
     "text": [
      "магазины приложений -> магазин приложений\n",
      "человеко-машинного интерфейса -> человеко-машинный интерфейс\n",
      "принципах взаимодействия нейронов -> принципы взаимодействия нейронов\n",
      "отладки приложений -> отладка приложений\n",
      "содержанием дисциплины -> содержание дисциплины\n",
      "publisher\\xadsubscriber -> \n",
      "publisher\\x\n"
     ]
    },
    {
     "name": "stderr",
     "output_type": "stream",
     "text": [
      "The attention mask and the pad token id were not set. As a consequence, you may observe unexpected behavior. Please pass your input's `attention_mask` to obtain reliable results.\n",
      "Setting `pad_token_id` to `eos_token_id`:50256 for open-end generation.\n"
     ]
    },
    {
     "name": "stdout",
     "output_type": "stream",
     "text": [
      "магазины приложений -> магазин приложений\n",
      "человеко-машинного интерфейса -> человеко-машинный интерфейс\n",
      "принципах взаимодействия нейронов -> принципы взаимодействия нейронов\n",
      "отладки приложений -> отладка приложений\n",
      "содержанием дисциплины -> содержание дисциплины\n",
      "publisher\\xadsubscriber -> \n",
      "publisher\\xads\n"
     ]
    },
    {
     "name": "stderr",
     "output_type": "stream",
     "text": [
      "The attention mask and the pad token id were not set. As a consequence, you may observe unexpected behavior. Please pass your input's `attention_mask` to obtain reliable results.\n",
      "Setting `pad_token_id` to `eos_token_id`:50256 for open-end generation.\n"
     ]
    },
    {
     "name": "stdout",
     "output_type": "stream",
     "text": [
      "магазины приложений -> магазин приложений\n",
      "человеко-машинного интерфейса -> человеко-машинный интерфейс\n",
      "принципах взаимодействия нейронов -> принципы взаимодействия нейронов\n",
      "отладки приложений -> отладка приложений\n",
      "содержанием дисциплины -> содержание дисциплины\n",
      "publisher\\xadsubscriber -> \n",
      "publisher\\xadsubsc\n"
     ]
    },
    {
     "name": "stderr",
     "output_type": "stream",
     "text": [
      "The attention mask and the pad token id were not set. As a consequence, you may observe unexpected behavior. Please pass your input's `attention_mask` to obtain reliable results.\n",
      "Setting `pad_token_id` to `eos_token_id`:50256 for open-end generation.\n"
     ]
    },
    {
     "name": "stdout",
     "output_type": "stream",
     "text": [
      "магазины приложений -> магазин приложений\n",
      "человеко-машинного интерфейса -> человеко-машинный интерфейс\n",
      "принципах взаимодействия нейронов -> принципы взаимодействия нейронов\n",
      "отладки приложений -> отладка приложений\n",
      "содержанием дисциплины -> содержание дисциплины\n",
      "publisher\\xadsubscriber -> \n",
      "publisher\\xadsubscriber\n"
     ]
    },
    {
     "name": "stderr",
     "output_type": "stream",
     "text": [
      "The attention mask and the pad token id were not set. As a consequence, you may observe unexpected behavior. Please pass your input's `attention_mask` to obtain reliable results.\n",
      "Setting `pad_token_id` to `eos_token_id`:50256 for open-end generation.\n"
     ]
    },
    {
     "name": "stdout",
     "output_type": "stream",
     "text": [
      "магазины приложений -> магазин приложений\n",
      "человеко-машинного интерфейса -> человеко-машинный интерфейс\n",
      "принципах взаимодействия нейронов -> принципы взаимодействия нейронов\n",
      "отладки приложений -> отладка приложений\n",
      "содержанием дисциплины -> содержание дисциплины\n",
      "publisher\\xadsubscriber -> \n",
      "publisher\\xadsubscriber ->\n"
     ]
    },
    {
     "name": "stderr",
     "output_type": "stream",
     "text": [
      "The attention mask and the pad token id were not set. As a consequence, you may observe unexpected behavior. Please pass your input's `attention_mask` to obtain reliable results.\n",
      "Setting `pad_token_id` to `eos_token_id`:50256 for open-end generation.\n"
     ]
    },
    {
     "name": "stdout",
     "output_type": "stream",
     "text": [
      "магазины приложений -> магазин приложений\n",
      "человеко-машинного интерфейса -> человеко-машинный интерфейс\n",
      "принципах взаимодействия нейронов -> принципы взаимодействия нейронов\n",
      "отладки приложений -> отладка приложений\n",
      "содержанием дисциплины -> содержание дисциплины\n",
      "publisher\\xadsubscriber -> \n",
      "publisher\\xadsubscriber -> \n",
      "\n"
     ]
    },
    {
     "name": "stderr",
     "output_type": "stream",
     "text": [
      "The attention mask and the pad token id were not set. As a consequence, you may observe unexpected behavior. Please pass your input's `attention_mask` to obtain reliable results.\n",
      "Setting `pad_token_id` to `eos_token_id`:50256 for open-end generation.\n",
      "The attention mask and the pad token id were not set. As a consequence, you may observe unexpected behavior. Please pass your input's `attention_mask` to obtain reliable results.\n",
      "Setting `pad_token_id` to `eos_token_id`:50256 for open-end generation.\n"
     ]
    },
    {
     "name": "stdout",
     "output_type": "stream",
     "text": [
      "магазины приложений -> магазин приложений\n",
      "человеко-машинного интерфейса -> человеко-машинный интерфейс\n",
      "принципах взаимодействия нейронов -> принципы взаимодействия нейронов\n",
      "отладки приложений -> отладка приложений\n",
      "содержанием дисциплины -> содержание дисциплины\n",
      "RTI Connext DDS -> \n",
      "RTI Conn\n"
     ]
    },
    {
     "name": "stderr",
     "output_type": "stream",
     "text": [
      "The attention mask and the pad token id were not set. As a consequence, you may observe unexpected behavior. Please pass your input's `attention_mask` to obtain reliable results.\n",
      "Setting `pad_token_id` to `eos_token_id`:50256 for open-end generation.\n"
     ]
    },
    {
     "name": "stdout",
     "output_type": "stream",
     "text": [
      "магазины приложений -> магазин приложений\n",
      "человеко-машинного интерфейса -> человеко-машинный интерфейс\n",
      "принципах взаимодействия нейронов -> принципы взаимодействия нейронов\n",
      "отладки приложений -> отладка приложений\n",
      "содержанием дисциплины -> содержание дисциплины\n",
      "RTI Connext DDS -> \n",
      "RTI Connext D\n"
     ]
    },
    {
     "name": "stderr",
     "output_type": "stream",
     "text": [
      "The attention mask and the pad token id were not set. As a consequence, you may observe unexpected behavior. Please pass your input's `attention_mask` to obtain reliable results.\n",
      "Setting `pad_token_id` to `eos_token_id`:50256 for open-end generation.\n"
     ]
    },
    {
     "name": "stdout",
     "output_type": "stream",
     "text": [
      "магазины приложений -> магазин приложений\n",
      "человеко-машинного интерфейса -> человеко-машинный интерфейс\n",
      "принципах взаимодействия нейронов -> принципы взаимодействия нейронов\n",
      "отладки приложений -> отладка приложений\n",
      "содержанием дисциплины -> содержание дисциплины\n",
      "RTI Connext DDS -> \n",
      "RTI Connext DDS -\n"
     ]
    },
    {
     "name": "stderr",
     "output_type": "stream",
     "text": [
      "The attention mask and the pad token id were not set. As a consequence, you may observe unexpected behavior. Please pass your input's `attention_mask` to obtain reliable results.\n",
      "Setting `pad_token_id` to `eos_token_id`:50256 for open-end generation.\n"
     ]
    },
    {
     "name": "stdout",
     "output_type": "stream",
     "text": [
      "магазины приложений -> магазин приложений\n",
      "человеко-машинного интерфейса -> человеко-машинный интерфейс\n",
      "принципах взаимодействия нейронов -> принципы взаимодействия нейронов\n",
      "отладки приложений -> отладка приложений\n",
      "содержанием дисциплины -> содержание дисциплины\n",
      "RTI Connext DDS -> \n",
      "RTI Connext DDS -> \n"
     ]
    },
    {
     "name": "stderr",
     "output_type": "stream",
     "text": [
      "The attention mask and the pad token id were not set. As a consequence, you may observe unexpected behavior. Please pass your input's `attention_mask` to obtain reliable results.\n",
      "Setting `pad_token_id` to `eos_token_id`:50256 for open-end generation.\n"
     ]
    },
    {
     "name": "stdout",
     "output_type": "stream",
     "text": [
      "магазины приложений -> магазин приложений\n",
      "человеко-машинного интерфейса -> человеко-машинный интерфейс\n",
      "принципах взаимодействия нейронов -> принципы взаимодействия нейронов\n",
      "отладки приложений -> отладка приложений\n",
      "содержанием дисциплины -> содержание дисциплины\n",
      "RTI Connext DDS -> \n",
      "RTI Connext DDS -> \n",
      "R\n"
     ]
    },
    {
     "name": "stderr",
     "output_type": "stream",
     "text": [
      "The attention mask and the pad token id were not set. As a consequence, you may observe unexpected behavior. Please pass your input's `attention_mask` to obtain reliable results.\n",
      "Setting `pad_token_id` to `eos_token_id`:50256 for open-end generation.\n",
      "The attention mask and the pad token id were not set. As a consequence, you may observe unexpected behavior. Please pass your input's `attention_mask` to obtain reliable results.\n",
      "Setting `pad_token_id` to `eos_token_id`:50256 for open-end generation.\n"
     ]
    },
    {
     "name": "stdout",
     "output_type": "stream",
     "text": [
      "магазины приложений -> магазин приложений\n",
      "человеко-машинного интерфейса -> человеко-машинный интерфейс\n",
      "принципах взаимодействия нейронов -> принципы взаимодействия нейронов\n",
      "отладки приложений -> отладка приложений\n",
      "содержанием дисциплины -> содержание дисциплины\n",
      "ROS2 -> \n",
      "ROS2\n"
     ]
    },
    {
     "name": "stderr",
     "output_type": "stream",
     "text": [
      "The attention mask and the pad token id were not set. As a consequence, you may observe unexpected behavior. Please pass your input's `attention_mask` to obtain reliable results.\n",
      "Setting `pad_token_id` to `eos_token_id`:50256 for open-end generation.\n"
     ]
    },
    {
     "name": "stdout",
     "output_type": "stream",
     "text": [
      "магазины приложений -> магазин приложений\n",
      "человеко-машинного интерфейса -> человеко-машинный интерфейс\n",
      "принципах взаимодействия нейронов -> принципы взаимодействия нейронов\n",
      "отладки приложений -> отладка приложений\n",
      "содержанием дисциплины -> содержание дисциплины\n",
      "ROS2 -> \n",
      "ROS2 ->\n"
     ]
    },
    {
     "name": "stderr",
     "output_type": "stream",
     "text": [
      "The attention mask and the pad token id were not set. As a consequence, you may observe unexpected behavior. Please pass your input's `attention_mask` to obtain reliable results.\n",
      "Setting `pad_token_id` to `eos_token_id`:50256 for open-end generation.\n"
     ]
    },
    {
     "name": "stdout",
     "output_type": "stream",
     "text": [
      "магазины приложений -> магазин приложений\n",
      "человеко-машинного интерфейса -> человеко-машинный интерфейс\n",
      "принципах взаимодействия нейронов -> принципы взаимодействия нейронов\n",
      "отладки приложений -> отладка приложений\n",
      "содержанием дисциплины -> содержание дисциплины\n",
      "ROS2 -> \n",
      "ROS2 -> \n",
      "\n"
     ]
    },
    {
     "name": "stderr",
     "output_type": "stream",
     "text": [
      "The attention mask and the pad token id were not set. As a consequence, you may observe unexpected behavior. Please pass your input's `attention_mask` to obtain reliable results.\n",
      "Setting `pad_token_id` to `eos_token_id`:50256 for open-end generation.\n",
      "The attention mask and the pad token id were not set. As a consequence, you may observe unexpected behavior. Please pass your input's `attention_mask` to obtain reliable results.\n",
      "Setting `pad_token_id` to `eos_token_id`:50256 for open-end generation.\n"
     ]
    },
    {
     "name": "stdout",
     "output_type": "stream",
     "text": [
      "магазины приложений -> магазин приложений\n",
      "человеко-машинного интерфейса -> человеко-машинный интерфейс\n",
      "принципах взаимодействия нейронов -> принципы взаимодействия нейронов\n",
      "отладки приложений -> отладка приложений\n",
      "содержанием дисциплины -> содержание дисциплины\n",
      "OpenSplice -> \n",
      "OpenS\n"
     ]
    },
    {
     "name": "stderr",
     "output_type": "stream",
     "text": [
      "The attention mask and the pad token id were not set. As a consequence, you may observe unexpected behavior. Please pass your input's `attention_mask` to obtain reliable results.\n",
      "Setting `pad_token_id` to `eos_token_id`:50256 for open-end generation.\n"
     ]
    },
    {
     "name": "stdout",
     "output_type": "stream",
     "text": [
      "магазины приложений -> магазин приложений\n",
      "человеко-машинного интерфейса -> человеко-машинный интерфейс\n",
      "принципах взаимодействия нейронов -> принципы взаимодействия нейронов\n",
      "отладки приложений -> отладка приложений\n",
      "содержанием дисциплины -> содержание дисциплины\n",
      "OpenSplice -> \n",
      "OpenSplice\n"
     ]
    },
    {
     "name": "stderr",
     "output_type": "stream",
     "text": [
      "The attention mask and the pad token id were not set. As a consequence, you may observe unexpected behavior. Please pass your input's `attention_mask` to obtain reliable results.\n",
      "Setting `pad_token_id` to `eos_token_id`:50256 for open-end generation.\n"
     ]
    },
    {
     "name": "stdout",
     "output_type": "stream",
     "text": [
      "магазины приложений -> магазин приложений\n",
      "человеко-машинного интерфейса -> человеко-машинный интерфейс\n",
      "принципах взаимодействия нейронов -> принципы взаимодействия нейронов\n",
      "отладки приложений -> отладка приложений\n",
      "содержанием дисциплины -> содержание дисциплины\n",
      "OpenSplice -> \n",
      "OpenSplice ->\n"
     ]
    },
    {
     "name": "stderr",
     "output_type": "stream",
     "text": [
      "The attention mask and the pad token id were not set. As a consequence, you may observe unexpected behavior. Please pass your input's `attention_mask` to obtain reliable results.\n",
      "Setting `pad_token_id` to `eos_token_id`:50256 for open-end generation.\n"
     ]
    },
    {
     "name": "stdout",
     "output_type": "stream",
     "text": [
      "магазины приложений -> магазин приложений\n",
      "человеко-машинного интерфейса -> человеко-машинный интерфейс\n",
      "принципах взаимодействия нейронов -> принципы взаимодействия нейронов\n",
      "отладки приложений -> отладка приложений\n",
      "содержанием дисциплины -> содержание дисциплины\n",
      "OpenSplice -> \n",
      "OpenSplice -> \n",
      "\n"
     ]
    },
    {
     "name": "stderr",
     "output_type": "stream",
     "text": [
      "The attention mask and the pad token id were not set. As a consequence, you may observe unexpected behavior. Please pass your input's `attention_mask` to obtain reliable results.\n",
      "Setting `pad_token_id` to `eos_token_id`:50256 for open-end generation.\n",
      "The attention mask and the pad token id were not set. As a consequence, you may observe unexpected behavior. Please pass your input's `attention_mask` to obtain reliable results.\n",
      "Setting `pad_token_id` to `eos_token_id`:50256 for open-end generation.\n"
     ]
    },
    {
     "name": "stdout",
     "output_type": "stream",
     "text": [
      "магазины приложений -> магазин приложений\n",
      "человеко-машинного интерфейса -> человеко-машинный интерфейс\n",
      "принципах взаимодействия нейронов -> принципы взаимодействия нейронов\n",
      "отладки приложений -> отладка приложений\n",
      "содержанием дисциплины -> содержание дисциплины\n",
      "Scrum Master -> \n",
      "Scrum Master\n"
     ]
    },
    {
     "name": "stderr",
     "output_type": "stream",
     "text": [
      "The attention mask and the pad token id were not set. As a consequence, you may observe unexpected behavior. Please pass your input's `attention_mask` to obtain reliable results.\n",
      "Setting `pad_token_id` to `eos_token_id`:50256 for open-end generation.\n"
     ]
    },
    {
     "name": "stdout",
     "output_type": "stream",
     "text": [
      "магазины приложений -> магазин приложений\n",
      "человеко-машинного интерфейса -> человеко-машинный интерфейс\n",
      "принципах взаимодействия нейронов -> принципы взаимодействия нейронов\n",
      "отладки приложений -> отладка приложений\n",
      "содержанием дисциплины -> содержание дисциплины\n",
      "Scrum Master -> \n",
      "Scrum Master ->\n"
     ]
    },
    {
     "name": "stderr",
     "output_type": "stream",
     "text": [
      "The attention mask and the pad token id were not set. As a consequence, you may observe unexpected behavior. Please pass your input's `attention_mask` to obtain reliable results.\n",
      "Setting `pad_token_id` to `eos_token_id`:50256 for open-end generation.\n"
     ]
    },
    {
     "name": "stdout",
     "output_type": "stream",
     "text": [
      "магазины приложений -> магазин приложений\n",
      "человеко-машинного интерфейса -> человеко-машинный интерфейс\n",
      "принципах взаимодействия нейронов -> принципы взаимодействия нейронов\n",
      "отладки приложений -> отладка приложений\n",
      "содержанием дисциплины -> содержание дисциплины\n",
      "Scrum Master -> \n",
      "Scrum Master -> \n",
      "\n"
     ]
    },
    {
     "name": "stderr",
     "output_type": "stream",
     "text": [
      "The attention mask and the pad token id were not set. As a consequence, you may observe unexpected behavior. Please pass your input's `attention_mask` to obtain reliable results.\n",
      "Setting `pad_token_id` to `eos_token_id`:50256 for open-end generation.\n",
      "The attention mask and the pad token id were not set. As a consequence, you may observe unexpected behavior. Please pass your input's `attention_mask` to obtain reliable results.\n",
      "Setting `pad_token_id` to `eos_token_id`:50256 for open-end generation.\n"
     ]
    },
    {
     "name": "stdout",
     "output_type": "stream",
     "text": [
      "магазины приложений -> магазин приложений\n",
      "человеко-машинного интерфейса -> человеко-машинный интерфейс\n",
      "принципах взаимодействия нейронов -> принципы взаимодействия нейронов\n",
      "отладки приложений -> отладка приложений\n",
      "содержанием дисциплины -> содержание дисциплины\n",
      "Бэклог -> \n",
      "Бэклог\n"
     ]
    },
    {
     "name": "stderr",
     "output_type": "stream",
     "text": [
      "The attention mask and the pad token id were not set. As a consequence, you may observe unexpected behavior. Please pass your input's `attention_mask` to obtain reliable results.\n",
      "Setting `pad_token_id` to `eos_token_id`:50256 for open-end generation.\n"
     ]
    },
    {
     "name": "stdout",
     "output_type": "stream",
     "text": [
      "магазины приложений -> магазин приложений\n",
      "человеко-машинного интерфейса -> человеко-машинный интерфейс\n",
      "принципах взаимодействия нейронов -> принципы взаимодействия нейронов\n",
      "отладки приложений -> отладка приложений\n",
      "содержанием дисциплины -> содержание дисциплины\n",
      "Бэклог -> \n",
      "Бэклог ->\n"
     ]
    },
    {
     "name": "stderr",
     "output_type": "stream",
     "text": [
      "The attention mask and the pad token id were not set. As a consequence, you may observe unexpected behavior. Please pass your input's `attention_mask` to obtain reliable results.\n",
      "Setting `pad_token_id` to `eos_token_id`:50256 for open-end generation.\n"
     ]
    },
    {
     "name": "stdout",
     "output_type": "stream",
     "text": [
      "магазины приложений -> магазин приложений\n",
      "человеко-машинного интерфейса -> человеко-машинный интерфейс\n",
      "принципах взаимодействия нейронов -> принципы взаимодействия нейронов\n",
      "отладки приложений -> отладка приложений\n",
      "содержанием дисциплины -> содержание дисциплины\n",
      "Бэклог -> \n",
      "Бэклог -> \n",
      "\n"
     ]
    },
    {
     "name": "stderr",
     "output_type": "stream",
     "text": [
      "The attention mask and the pad token id were not set. As a consequence, you may observe unexpected behavior. Please pass your input's `attention_mask` to obtain reliable results.\n",
      "Setting `pad_token_id` to `eos_token_id`:50256 for open-end generation.\n",
      "The attention mask and the pad token id were not set. As a consequence, you may observe unexpected behavior. Please pass your input's `attention_mask` to obtain reliable results.\n",
      "Setting `pad_token_id` to `eos_token_id`:50256 for open-end generation.\n"
     ]
    },
    {
     "name": "stdout",
     "output_type": "stream",
     "text": [
      "магазины приложений -> магазин приложений\n",
      "человеко-машинного интерфейса -> человеко-машинный интерфейс\n",
      "принципах взаимодействия нейронов -> принципы взаимодействия нейронов\n",
      "отладки приложений -> отладка приложений\n",
      "содержанием дисциплины -> содержание дисциплины\n",
      "Sprint -> \n",
      "Sprint\n"
     ]
    },
    {
     "name": "stderr",
     "output_type": "stream",
     "text": [
      "The attention mask and the pad token id were not set. As a consequence, you may observe unexpected behavior. Please pass your input's `attention_mask` to obtain reliable results.\n",
      "Setting `pad_token_id` to `eos_token_id`:50256 for open-end generation.\n"
     ]
    },
    {
     "name": "stdout",
     "output_type": "stream",
     "text": [
      "магазины приложений -> магазин приложений\n",
      "человеко-машинного интерфейса -> человеко-машинный интерфейс\n",
      "принципах взаимодействия нейронов -> принципы взаимодействия нейронов\n",
      "отладки приложений -> отладка приложений\n",
      "содержанием дисциплины -> содержание дисциплины\n",
      "Sprint -> \n",
      "Sprint ->\n"
     ]
    },
    {
     "name": "stderr",
     "output_type": "stream",
     "text": [
      "The attention mask and the pad token id were not set. As a consequence, you may observe unexpected behavior. Please pass your input's `attention_mask` to obtain reliable results.\n",
      "Setting `pad_token_id` to `eos_token_id`:50256 for open-end generation.\n"
     ]
    },
    {
     "name": "stdout",
     "output_type": "stream",
     "text": [
      "магазины приложений -> магазин приложений\n",
      "человеко-машинного интерфейса -> человеко-машинный интерфейс\n",
      "принципах взаимодействия нейронов -> принципы взаимодействия нейронов\n",
      "отладки приложений -> отладка приложений\n",
      "содержанием дисциплины -> содержание дисциплины\n",
      "Sprint -> \n",
      "Sprint -> \n",
      "\n"
     ]
    },
    {
     "name": "stderr",
     "output_type": "stream",
     "text": [
      "The attention mask and the pad token id were not set. As a consequence, you may observe unexpected behavior. Please pass your input's `attention_mask` to obtain reliable results.\n",
      "Setting `pad_token_id` to `eos_token_id`:50256 for open-end generation.\n",
      "The attention mask and the pad token id were not set. As a consequence, you may observe unexpected behavior. Please pass your input's `attention_mask` to obtain reliable results.\n",
      "Setting `pad_token_id` to `eos_token_id`:50256 for open-end generation.\n"
     ]
    },
    {
     "name": "stdout",
     "output_type": "stream",
     "text": [
      "магазины приложений -> магазин приложений\n",
      "человеко-машинного интерфейса -> человеко-машинный интерфейс\n",
      "принципах взаимодействия нейронов -> принципы взаимодействия нейронов\n",
      "отладки приложений -> отладка приложений\n",
      "содержанием дисциплины -> содержание дисциплины\n",
      "Команда -> \n",
      "Команда -\n"
     ]
    },
    {
     "name": "stderr",
     "output_type": "stream",
     "text": [
      "The attention mask and the pad token id were not set. As a consequence, you may observe unexpected behavior. Please pass your input's `attention_mask` to obtain reliable results.\n",
      "Setting `pad_token_id` to `eos_token_id`:50256 for open-end generation.\n"
     ]
    },
    {
     "name": "stdout",
     "output_type": "stream",
     "text": [
      "магазины приложений -> магазин приложений\n",
      "человеко-машинного интерфейса -> человеко-машинный интерфейс\n",
      "принципах взаимодействия нейронов -> принципы взаимодействия нейронов\n",
      "отладки приложений -> отладка приложений\n",
      "содержанием дисциплины -> содержание дисциплины\n",
      "Команда -> \n",
      "Команда -> \n"
     ]
    },
    {
     "name": "stderr",
     "output_type": "stream",
     "text": [
      "The attention mask and the pad token id were not set. As a consequence, you may observe unexpected behavior. Please pass your input's `attention_mask` to obtain reliable results.\n",
      "Setting `pad_token_id` to `eos_token_id`:50256 for open-end generation.\n"
     ]
    },
    {
     "name": "stdout",
     "output_type": "stream",
     "text": [
      "магазины приложений -> магазин приложений\n",
      "человеко-машинного интерфейса -> человеко-машинный интерфейс\n",
      "принципах взаимодействия нейронов -> принципы взаимодействия нейронов\n",
      "отладки приложений -> отладка приложений\n",
      "содержанием дисциплины -> содержание дисциплины\n",
      "Команда -> \n",
      "Команда -> \n",
      "Ком\n"
     ]
    },
    {
     "name": "stderr",
     "output_type": "stream",
     "text": [
      "The attention mask and the pad token id were not set. As a consequence, you may observe unexpected behavior. Please pass your input's `attention_mask` to obtain reliable results.\n",
      "Setting `pad_token_id` to `eos_token_id`:50256 for open-end generation.\n",
      "The attention mask and the pad token id were not set. As a consequence, you may observe unexpected behavior. Please pass your input's `attention_mask` to obtain reliable results.\n",
      "Setting `pad_token_id` to `eos_token_id`:50256 for open-end generation.\n"
     ]
    },
    {
     "name": "stdout",
     "output_type": "stream",
     "text": [
      "магазины приложений -> магазин приложений\n",
      "человеко-машинного интерфейса -> человеко-машинный интерфейс\n",
      "принципах взаимодействия нейронов -> принципы взаимодействия нейронов\n",
      "отладки приложений -> отладка приложений\n",
      "содержанием дисциплины -> содержание дисциплины\n",
      "Estimate Activity Resources -> \n",
      "Estimate\n"
     ]
    },
    {
     "name": "stderr",
     "output_type": "stream",
     "text": [
      "The attention mask and the pad token id were not set. As a consequence, you may observe unexpected behavior. Please pass your input's `attention_mask` to obtain reliable results.\n",
      "Setting `pad_token_id` to `eos_token_id`:50256 for open-end generation.\n"
     ]
    },
    {
     "name": "stdout",
     "output_type": "stream",
     "text": [
      "магазины приложений -> магазин приложений\n",
      "человеко-машинного интерфейса -> человеко-машинный интерфейс\n",
      "принципах взаимодействия нейронов -> принципы взаимодействия нейронов\n",
      "отладки приложений -> отладка приложений\n",
      "содержанием дисциплины -> содержание дисциплины\n",
      "Estimate Activity Resources -> \n",
      "Estimate Activity\n"
     ]
    },
    {
     "name": "stderr",
     "output_type": "stream",
     "text": [
      "The attention mask and the pad token id were not set. As a consequence, you may observe unexpected behavior. Please pass your input's `attention_mask` to obtain reliable results.\n",
      "Setting `pad_token_id` to `eos_token_id`:50256 for open-end generation.\n"
     ]
    },
    {
     "name": "stdout",
     "output_type": "stream",
     "text": [
      "магазины приложений -> магазин приложений\n",
      "человеко-машинного интерфейса -> человеко-машинный интерфейс\n",
      "принципах взаимодействия нейронов -> принципы взаимодействия нейронов\n",
      "отладки приложений -> отладка приложений\n",
      "содержанием дисциплины -> содержание дисциплины\n",
      "Estimate Activity Resources -> \n",
      "Estimate Activity Resources\n"
     ]
    },
    {
     "name": "stderr",
     "output_type": "stream",
     "text": [
      "The attention mask and the pad token id were not set. As a consequence, you may observe unexpected behavior. Please pass your input's `attention_mask` to obtain reliable results.\n",
      "Setting `pad_token_id` to `eos_token_id`:50256 for open-end generation.\n"
     ]
    },
    {
     "name": "stdout",
     "output_type": "stream",
     "text": [
      "магазины приложений -> магазин приложений\n",
      "человеко-машинного интерфейса -> человеко-машинный интерфейс\n",
      "принципах взаимодействия нейронов -> принципы взаимодействия нейронов\n",
      "отладки приложений -> отладка приложений\n",
      "содержанием дисциплины -> содержание дисциплины\n",
      "Estimate Activity Resources -> \n",
      "Estimate Activity Resources\n",
      "\n",
      "\n"
     ]
    },
    {
     "name": "stderr",
     "output_type": "stream",
     "text": [
      "The attention mask and the pad token id were not set. As a consequence, you may observe unexpected behavior. Please pass your input's `attention_mask` to obtain reliable results.\n",
      "Setting `pad_token_id` to `eos_token_id`:50256 for open-end generation.\n",
      "The attention mask and the pad token id were not set. As a consequence, you may observe unexpected behavior. Please pass your input's `attention_mask` to obtain reliable results.\n",
      "Setting `pad_token_id` to `eos_token_id`:50256 for open-end generation.\n"
     ]
    },
    {
     "name": "stdout",
     "output_type": "stream",
     "text": [
      "магазины приложений -> магазин приложений\n",
      "человеко-машинного интерфейса -> человеко-машинный интерфейс\n",
      "принципах взаимодействия нейронов -> принципы взаимодействия нейронов\n",
      "отладки приложений -> отладка приложений\n",
      "содержанием дисциплины -> содержание дисциплины\n",
      "Agile -> \n",
      "Agile\n"
     ]
    },
    {
     "name": "stderr",
     "output_type": "stream",
     "text": [
      "The attention mask and the pad token id were not set. As a consequence, you may observe unexpected behavior. Please pass your input's `attention_mask` to obtain reliable results.\n",
      "Setting `pad_token_id` to `eos_token_id`:50256 for open-end generation.\n"
     ]
    },
    {
     "name": "stdout",
     "output_type": "stream",
     "text": [
      "магазины приложений -> магазин приложений\n",
      "человеко-машинного интерфейса -> человеко-машинный интерфейс\n",
      "принципах взаимодействия нейронов -> принципы взаимодействия нейронов\n",
      "отладки приложений -> отладка приложений\n",
      "содержанием дисциплины -> содержание дисциплины\n",
      "Agile -> \n",
      "Agile ->\n"
     ]
    },
    {
     "name": "stderr",
     "output_type": "stream",
     "text": [
      "The attention mask and the pad token id were not set. As a consequence, you may observe unexpected behavior. Please pass your input's `attention_mask` to obtain reliable results.\n",
      "Setting `pad_token_id` to `eos_token_id`:50256 for open-end generation.\n"
     ]
    },
    {
     "name": "stdout",
     "output_type": "stream",
     "text": [
      "магазины приложений -> магазин приложений\n",
      "человеко-машинного интерфейса -> человеко-машинный интерфейс\n",
      "принципах взаимодействия нейронов -> принципы взаимодействия нейронов\n",
      "отладки приложений -> отладка приложений\n",
      "содержанием дисциплины -> содержание дисциплины\n",
      "Agile -> \n",
      "Agile -> \n",
      "\n"
     ]
    },
    {
     "name": "stderr",
     "output_type": "stream",
     "text": [
      "The attention mask and the pad token id were not set. As a consequence, you may observe unexpected behavior. Please pass your input's `attention_mask` to obtain reliable results.\n",
      "Setting `pad_token_id` to `eos_token_id`:50256 for open-end generation.\n",
      "The attention mask and the pad token id were not set. As a consequence, you may observe unexpected behavior. Please pass your input's `attention_mask` to obtain reliable results.\n",
      "Setting `pad_token_id` to `eos_token_id`:50256 for open-end generation.\n"
     ]
    },
    {
     "name": "stdout",
     "output_type": "stream",
     "text": [
      "магазины приложений -> магазин приложений\n",
      "человеко-машинного интерфейса -> человеко-машинный интерфейс\n",
      "принципах взаимодействия нейронов -> принципы взаимодействия нейронов\n",
      "отладки приложений -> отладка приложений\n",
      "содержанием дисциплины -> содержание дисциплины\n",
      "Backlog -> \n",
      "Backl\n"
     ]
    },
    {
     "name": "stderr",
     "output_type": "stream",
     "text": [
      "The attention mask and the pad token id were not set. As a consequence, you may observe unexpected behavior. Please pass your input's `attention_mask` to obtain reliable results.\n",
      "Setting `pad_token_id` to `eos_token_id`:50256 for open-end generation.\n"
     ]
    },
    {
     "name": "stdout",
     "output_type": "stream",
     "text": [
      "магазины приложений -> магазин приложений\n",
      "человеко-машинного интерфейса -> человеко-машинный интерфейс\n",
      "принципах взаимодействия нейронов -> принципы взаимодействия нейронов\n",
      "отладки приложений -> отладка приложений\n",
      "содержанием дисциплины -> содержание дисциплины\n",
      "Backlog -> \n",
      "Backlog -\n"
     ]
    },
    {
     "name": "stderr",
     "output_type": "stream",
     "text": [
      "The attention mask and the pad token id were not set. As a consequence, you may observe unexpected behavior. Please pass your input's `attention_mask` to obtain reliable results.\n",
      "Setting `pad_token_id` to `eos_token_id`:50256 for open-end generation.\n"
     ]
    },
    {
     "name": "stdout",
     "output_type": "stream",
     "text": [
      "магазины приложений -> магазин приложений\n",
      "человеко-машинного интерфейса -> человеко-машинный интерфейс\n",
      "принципах взаимодействия нейронов -> принципы взаимодействия нейронов\n",
      "отладки приложений -> отладка приложений\n",
      "содержанием дисциплины -> содержание дисциплины\n",
      "Backlog -> \n",
      "Backlog -> \n"
     ]
    },
    {
     "name": "stderr",
     "output_type": "stream",
     "text": [
      "The attention mask and the pad token id were not set. As a consequence, you may observe unexpected behavior. Please pass your input's `attention_mask` to obtain reliable results.\n",
      "Setting `pad_token_id` to `eos_token_id`:50256 for open-end generation.\n"
     ]
    },
    {
     "name": "stdout",
     "output_type": "stream",
     "text": [
      "магазины приложений -> магазин приложений\n",
      "человеко-машинного интерфейса -> человеко-машинный интерфейс\n",
      "принципах взаимодействия нейронов -> принципы взаимодействия нейронов\n",
      "отладки приложений -> отладка приложений\n",
      "содержанием дисциплины -> содержание дисциплины\n",
      "Backlog -> \n",
      "Backlog -> \n",
      "B\n"
     ]
    },
    {
     "name": "stderr",
     "output_type": "stream",
     "text": [
      "The attention mask and the pad token id were not set. As a consequence, you may observe unexpected behavior. Please pass your input's `attention_mask` to obtain reliable results.\n",
      "Setting `pad_token_id` to `eos_token_id`:50256 for open-end generation.\n",
      "The attention mask and the pad token id were not set. As a consequence, you may observe unexpected behavior. Please pass your input's `attention_mask` to obtain reliable results.\n",
      "Setting `pad_token_id` to `eos_token_id`:50256 for open-end generation.\n"
     ]
    },
    {
     "name": "stdout",
     "output_type": "stream",
     "text": [
      "магазины приложений -> магазин приложений\n",
      "человеко-машинного интерфейса -> человеко-машинный интерфейс\n",
      "принципах взаимодействия нейронов -> принципы взаимодействия нейронов\n",
      "отладки приложений -> отладка приложений\n",
      "содержанием дисциплины -> содержание дисциплины\n",
      "Sprint Burndown Chart -> \n",
      "Sprint\n"
     ]
    },
    {
     "name": "stderr",
     "output_type": "stream",
     "text": [
      "The attention mask and the pad token id were not set. As a consequence, you may observe unexpected behavior. Please pass your input's `attention_mask` to obtain reliable results.\n",
      "Setting `pad_token_id` to `eos_token_id`:50256 for open-end generation.\n"
     ]
    },
    {
     "name": "stdout",
     "output_type": "stream",
     "text": [
      "магазины приложений -> магазин приложений\n",
      "человеко-машинного интерфейса -> человеко-машинный интерфейс\n",
      "принципах взаимодействия нейронов -> принципы взаимодействия нейронов\n",
      "отладки приложений -> отладка приложений\n",
      "содержанием дисциплины -> содержание дисциплины\n",
      "Sprint Burndown Chart -> \n",
      "Sprint Burnd\n"
     ]
    },
    {
     "name": "stderr",
     "output_type": "stream",
     "text": [
      "The attention mask and the pad token id were not set. As a consequence, you may observe unexpected behavior. Please pass your input's `attention_mask` to obtain reliable results.\n",
      "Setting `pad_token_id` to `eos_token_id`:50256 for open-end generation.\n"
     ]
    },
    {
     "name": "stdout",
     "output_type": "stream",
     "text": [
      "магазины приложений -> магазин приложений\n",
      "человеко-машинного интерфейса -> человеко-машинный интерфейс\n",
      "принципах взаимодействия нейронов -> принципы взаимодействия нейронов\n",
      "отладки приложений -> отладка приложений\n",
      "содержанием дисциплины -> содержание дисциплины\n",
      "Sprint Burndown Chart -> \n",
      "Sprint Burndown Ch\n"
     ]
    },
    {
     "name": "stderr",
     "output_type": "stream",
     "text": [
      "The attention mask and the pad token id were not set. As a consequence, you may observe unexpected behavior. Please pass your input's `attention_mask` to obtain reliable results.\n",
      "Setting `pad_token_id` to `eos_token_id`:50256 for open-end generation.\n"
     ]
    },
    {
     "name": "stdout",
     "output_type": "stream",
     "text": [
      "магазины приложений -> магазин приложений\n",
      "человеко-машинного интерфейса -> человеко-машинный интерфейс\n",
      "принципах взаимодействия нейронов -> принципы взаимодействия нейронов\n",
      "отладки приложений -> отладка приложений\n",
      "содержанием дисциплины -> содержание дисциплины\n",
      "Sprint Burndown Chart -> \n",
      "Sprint Burndown Chart -\n"
     ]
    },
    {
     "name": "stderr",
     "output_type": "stream",
     "text": [
      "The attention mask and the pad token id were not set. As a consequence, you may observe unexpected behavior. Please pass your input's `attention_mask` to obtain reliable results.\n",
      "Setting `pad_token_id` to `eos_token_id`:50256 for open-end generation.\n"
     ]
    },
    {
     "name": "stdout",
     "output_type": "stream",
     "text": [
      "магазины приложений -> магазин приложений\n",
      "человеко-машинного интерфейса -> человеко-машинный интерфейс\n",
      "принципах взаимодействия нейронов -> принципы взаимодействия нейронов\n",
      "отладки приложений -> отладка приложений\n",
      "содержанием дисциплины -> содержание дисциплины\n",
      "Sprint Burndown Chart -> \n",
      "Sprint Burndown Chart -> \n"
     ]
    },
    {
     "name": "stderr",
     "output_type": "stream",
     "text": [
      "The attention mask and the pad token id were not set. As a consequence, you may observe unexpected behavior. Please pass your input's `attention_mask` to obtain reliable results.\n",
      "Setting `pad_token_id` to `eos_token_id`:50256 for open-end generation.\n"
     ]
    },
    {
     "name": "stdout",
     "output_type": "stream",
     "text": [
      "магазины приложений -> магазин приложений\n",
      "человеко-машинного интерфейса -> человеко-машинный интерфейс\n",
      "принципах взаимодействия нейронов -> принципы взаимодействия нейронов\n",
      "отладки приложений -> отладка приложений\n",
      "содержанием дисциплины -> содержание дисциплины\n",
      "Sprint Burndown Chart -> \n",
      "Sprint Burndown Chart -> \n",
      "S\n"
     ]
    },
    {
     "name": "stderr",
     "output_type": "stream",
     "text": [
      "The attention mask and the pad token id were not set. As a consequence, you may observe unexpected behavior. Please pass your input's `attention_mask` to obtain reliable results.\n",
      "Setting `pad_token_id` to `eos_token_id`:50256 for open-end generation.\n",
      "The attention mask and the pad token id were not set. As a consequence, you may observe unexpected behavior. Please pass your input's `attention_mask` to obtain reliable results.\n",
      "Setting `pad_token_id` to `eos_token_id`:50256 for open-end generation.\n"
     ]
    },
    {
     "name": "stdout",
     "output_type": "stream",
     "text": [
      "магазины приложений -> магазин приложений\n",
      "человеко-машинного интерфейса -> человеко-машинный интерфейс\n",
      "принципах взаимодействия нейронов -> принципы взаимодействия нейронов\n",
      "отладки приложений -> отладка приложений\n",
      "содержанием дисциплины -> содержание дисциплины\n",
      "Спринт -> \n",
      "Спринт\n"
     ]
    },
    {
     "name": "stderr",
     "output_type": "stream",
     "text": [
      "The attention mask and the pad token id were not set. As a consequence, you may observe unexpected behavior. Please pass your input's `attention_mask` to obtain reliable results.\n",
      "Setting `pad_token_id` to `eos_token_id`:50256 for open-end generation.\n"
     ]
    },
    {
     "name": "stdout",
     "output_type": "stream",
     "text": [
      "магазины приложений -> магазин приложений\n",
      "человеко-машинного интерфейса -> человеко-машинный интерфейс\n",
      "принципах взаимодействия нейронов -> принципы взаимодействия нейронов\n",
      "отладки приложений -> отладка приложений\n",
      "содержанием дисциплины -> содержание дисциплины\n",
      "Спринт -> \n",
      "Спринт ->\n"
     ]
    },
    {
     "name": "stderr",
     "output_type": "stream",
     "text": [
      "The attention mask and the pad token id were not set. As a consequence, you may observe unexpected behavior. Please pass your input's `attention_mask` to obtain reliable results.\n",
      "Setting `pad_token_id` to `eos_token_id`:50256 for open-end generation.\n"
     ]
    },
    {
     "name": "stdout",
     "output_type": "stream",
     "text": [
      "магазины приложений -> магазин приложений\n",
      "человеко-машинного интерфейса -> человеко-машинный интерфейс\n",
      "принципах взаимодействия нейронов -> принципы взаимодействия нейронов\n",
      "отладки приложений -> отладка приложений\n",
      "содержанием дисциплины -> содержание дисциплины\n",
      "Спринт -> \n",
      "Спринт -> \n",
      "\n"
     ]
    },
    {
     "name": "stderr",
     "output_type": "stream",
     "text": [
      "The attention mask and the pad token id were not set. As a consequence, you may observe unexpected behavior. Please pass your input's `attention_mask` to obtain reliable results.\n",
      "Setting `pad_token_id` to `eos_token_id`:50256 for open-end generation.\n",
      "The attention mask and the pad token id were not set. As a consequence, you may observe unexpected behavior. Please pass your input's `attention_mask` to obtain reliable results.\n",
      "Setting `pad_token_id` to `eos_token_id`:50256 for open-end generation.\n"
     ]
    },
    {
     "name": "stdout",
     "output_type": "stream",
     "text": [
      "магазины приложений -> магазин приложений\n",
      "человеко-машинного интерфейса -> человеко-машинный интерфейс\n",
      "принципах взаимодействия нейронов -> принципы взаимодействия нейронов\n",
      "отладки приложений -> отладка приложений\n",
      "содержанием дисциплины -> содержание дисциплины\n",
      "SCRUM -> \n",
      "SCRU\n"
     ]
    },
    {
     "name": "stderr",
     "output_type": "stream",
     "text": [
      "The attention mask and the pad token id were not set. As a consequence, you may observe unexpected behavior. Please pass your input's `attention_mask` to obtain reliable results.\n",
      "Setting `pad_token_id` to `eos_token_id`:50256 for open-end generation.\n"
     ]
    },
    {
     "name": "stdout",
     "output_type": "stream",
     "text": [
      "магазины приложений -> магазин приложений\n",
      "человеко-машинного интерфейса -> человеко-машинный интерфейс\n",
      "принципах взаимодействия нейронов -> принципы взаимодействия нейронов\n",
      "отладки приложений -> отладка приложений\n",
      "содержанием дисциплины -> содержание дисциплины\n",
      "SCRUM -> \n",
      "SCRUM -\n"
     ]
    },
    {
     "name": "stderr",
     "output_type": "stream",
     "text": [
      "The attention mask and the pad token id were not set. As a consequence, you may observe unexpected behavior. Please pass your input's `attention_mask` to obtain reliable results.\n",
      "Setting `pad_token_id` to `eos_token_id`:50256 for open-end generation.\n"
     ]
    },
    {
     "name": "stdout",
     "output_type": "stream",
     "text": [
      "магазины приложений -> магазин приложений\n",
      "человеко-машинного интерфейса -> человеко-машинный интерфейс\n",
      "принципах взаимодействия нейронов -> принципы взаимодействия нейронов\n",
      "отладки приложений -> отладка приложений\n",
      "содержанием дисциплины -> содержание дисциплины\n",
      "SCRUM -> \n",
      "SCRUM -> \n"
     ]
    },
    {
     "name": "stderr",
     "output_type": "stream",
     "text": [
      "The attention mask and the pad token id were not set. As a consequence, you may observe unexpected behavior. Please pass your input's `attention_mask` to obtain reliable results.\n",
      "Setting `pad_token_id` to `eos_token_id`:50256 for open-end generation.\n"
     ]
    },
    {
     "name": "stdout",
     "output_type": "stream",
     "text": [
      "магазины приложений -> магазин приложений\n",
      "человеко-машинного интерфейса -> человеко-машинный интерфейс\n",
      "принципах взаимодействия нейронов -> принципы взаимодействия нейронов\n",
      "отладки приложений -> отладка приложений\n",
      "содержанием дисциплины -> содержание дисциплины\n",
      "SCRUM -> \n",
      "SCRUM -> \n",
      "S\n"
     ]
    },
    {
     "name": "stderr",
     "output_type": "stream",
     "text": [
      "The attention mask and the pad token id were not set. As a consequence, you may observe unexpected behavior. Please pass your input's `attention_mask` to obtain reliable results.\n",
      "Setting `pad_token_id` to `eos_token_id`:50256 for open-end generation.\n",
      "The attention mask and the pad token id were not set. As a consequence, you may observe unexpected behavior. Please pass your input's `attention_mask` to obtain reliable results.\n",
      "Setting `pad_token_id` to `eos_token_id`:50256 for open-end generation.\n"
     ]
    },
    {
     "name": "stdout",
     "output_type": "stream",
     "text": [
      "магазины приложений -> магазин приложений\n",
      "человеко-машинного интерфейса -> человеко-машинный интерфейс\n",
      "принципах взаимодействия нейронов -> принципы взаимодействия нейронов\n",
      "отладки приложений -> отладка приложений\n",
      "содержанием дисциплины -> содержание дисциплины\n",
      "Задачи -> \n",
      "Задачи -\n"
     ]
    },
    {
     "name": "stderr",
     "output_type": "stream",
     "text": [
      "The attention mask and the pad token id were not set. As a consequence, you may observe unexpected behavior. Please pass your input's `attention_mask` to obtain reliable results.\n",
      "Setting `pad_token_id` to `eos_token_id`:50256 for open-end generation.\n"
     ]
    },
    {
     "name": "stdout",
     "output_type": "stream",
     "text": [
      "магазины приложений -> магазин приложений\n",
      "человеко-машинного интерфейса -> человеко-машинный интерфейс\n",
      "принципах взаимодействия нейронов -> принципы взаимодействия нейронов\n",
      "отладки приложений -> отладка приложений\n",
      "содержанием дисциплины -> содержание дисциплины\n",
      "Задачи -> \n",
      "Задачи -> \n"
     ]
    },
    {
     "name": "stderr",
     "output_type": "stream",
     "text": [
      "The attention mask and the pad token id were not set. As a consequence, you may observe unexpected behavior. Please pass your input's `attention_mask` to obtain reliable results.\n",
      "Setting `pad_token_id` to `eos_token_id`:50256 for open-end generation.\n"
     ]
    },
    {
     "name": "stdout",
     "output_type": "stream",
     "text": [
      "магазины приложений -> магазин приложений\n",
      "человеко-машинного интерфейса -> человеко-машинный интерфейс\n",
      "принципах взаимодействия нейронов -> принципы взаимодействия нейронов\n",
      "отладки приложений -> отладка приложений\n",
      "содержанием дисциплины -> содержание дисциплины\n",
      "Задачи -> \n",
      "Задачи -> \n",
      "За\n"
     ]
    },
    {
     "name": "stderr",
     "output_type": "stream",
     "text": [
      "The attention mask and the pad token id were not set. As a consequence, you may observe unexpected behavior. Please pass your input's `attention_mask` to obtain reliable results.\n",
      "Setting `pad_token_id` to `eos_token_id`:50256 for open-end generation.\n",
      "The attention mask and the pad token id were not set. As a consequence, you may observe unexpected behavior. Please pass your input's `attention_mask` to obtain reliable results.\n",
      "Setting `pad_token_id` to `eos_token_id`:50256 for open-end generation.\n"
     ]
    },
    {
     "name": "stdout",
     "output_type": "stream",
     "text": [
      "магазины приложений -> магазин приложений\n",
      "человеко-машинного интерфейса -> человеко-машинный интерфейс\n",
      "принципах взаимодействия нейронов -> принципы взаимодействия нейронов\n",
      "отладки приложений -> отладка приложений\n",
      "содержанием дисциплины -> содержание дисциплины\n",
      "Product Owner -> \n",
      "Product O\n"
     ]
    },
    {
     "name": "stderr",
     "output_type": "stream",
     "text": [
      "The attention mask and the pad token id were not set. As a consequence, you may observe unexpected behavior. Please pass your input's `attention_mask` to obtain reliable results.\n",
      "Setting `pad_token_id` to `eos_token_id`:50256 for open-end generation.\n"
     ]
    },
    {
     "name": "stdout",
     "output_type": "stream",
     "text": [
      "магазины приложений -> магазин приложений\n",
      "человеко-машинного интерфейса -> человеко-машинный интерфейс\n",
      "принципах взаимодействия нейронов -> принципы взаимодействия нейронов\n",
      "отладки приложений -> отладка приложений\n",
      "содержанием дисциплины -> содержание дисциплины\n",
      "Product Owner -> \n",
      "Product Owner\n"
     ]
    },
    {
     "name": "stderr",
     "output_type": "stream",
     "text": [
      "The attention mask and the pad token id were not set. As a consequence, you may observe unexpected behavior. Please pass your input's `attention_mask` to obtain reliable results.\n",
      "Setting `pad_token_id` to `eos_token_id`:50256 for open-end generation.\n"
     ]
    },
    {
     "name": "stdout",
     "output_type": "stream",
     "text": [
      "магазины приложений -> магазин приложений\n",
      "человеко-машинного интерфейса -> человеко-машинный интерфейс\n",
      "принципах взаимодействия нейронов -> принципы взаимодействия нейронов\n",
      "отладки приложений -> отладка приложений\n",
      "содержанием дисциплины -> содержание дисциплины\n",
      "Product Owner -> \n",
      "Product Owner ->\n"
     ]
    },
    {
     "name": "stderr",
     "output_type": "stream",
     "text": [
      "The attention mask and the pad token id were not set. As a consequence, you may observe unexpected behavior. Please pass your input's `attention_mask` to obtain reliable results.\n",
      "Setting `pad_token_id` to `eos_token_id`:50256 for open-end generation.\n"
     ]
    },
    {
     "name": "stdout",
     "output_type": "stream",
     "text": [
      "магазины приложений -> магазин приложений\n",
      "человеко-машинного интерфейса -> человеко-машинный интерфейс\n",
      "принципах взаимодействия нейронов -> принципы взаимодействия нейронов\n",
      "отладки приложений -> отладка приложений\n",
      "содержанием дисциплины -> содержание дисциплины\n",
      "Product Owner -> \n",
      "Product Owner -> \n",
      "\n"
     ]
    },
    {
     "name": "stderr",
     "output_type": "stream",
     "text": [
      "The attention mask and the pad token id were not set. As a consequence, you may observe unexpected behavior. Please pass your input's `attention_mask` to obtain reliable results.\n",
      "Setting `pad_token_id` to `eos_token_id`:50256 for open-end generation.\n",
      "The attention mask and the pad token id were not set. As a consequence, you may observe unexpected behavior. Please pass your input's `attention_mask` to obtain reliable results.\n",
      "Setting `pad_token_id` to `eos_token_id`:50256 for open-end generation.\n"
     ]
    },
    {
     "name": "stdout",
     "output_type": "stream",
     "text": [
      "магазины приложений -> магазин приложений\n",
      "человеко-машинного интерфейса -> человеко-машинный интерфейс\n",
      "принципах взаимодействия нейронов -> принципы взаимодействия нейронов\n",
      "отладки приложений -> отладка приложений\n",
      "содержанием дисциплины -> содержание дисциплины\n",
      "Team -> \n",
      "Team\n"
     ]
    },
    {
     "name": "stderr",
     "output_type": "stream",
     "text": [
      "The attention mask and the pad token id were not set. As a consequence, you may observe unexpected behavior. Please pass your input's `attention_mask` to obtain reliable results.\n",
      "Setting `pad_token_id` to `eos_token_id`:50256 for open-end generation.\n"
     ]
    },
    {
     "name": "stdout",
     "output_type": "stream",
     "text": [
      "магазины приложений -> магазин приложений\n",
      "человеко-машинного интерфейса -> человеко-машинный интерфейс\n",
      "принципах взаимодействия нейронов -> принципы взаимодействия нейронов\n",
      "отладки приложений -> отладка приложений\n",
      "содержанием дисциплины -> содержание дисциплины\n",
      "Team -> \n",
      "Team ->\n"
     ]
    },
    {
     "name": "stderr",
     "output_type": "stream",
     "text": [
      "The attention mask and the pad token id were not set. As a consequence, you may observe unexpected behavior. Please pass your input's `attention_mask` to obtain reliable results.\n",
      "Setting `pad_token_id` to `eos_token_id`:50256 for open-end generation.\n"
     ]
    },
    {
     "name": "stdout",
     "output_type": "stream",
     "text": [
      "магазины приложений -> магазин приложений\n",
      "человеко-машинного интерфейса -> человеко-машинный интерфейс\n",
      "принципах взаимодействия нейронов -> принципы взаимодействия нейронов\n",
      "отладки приложений -> отладка приложений\n",
      "содержанием дисциплины -> содержание дисциплины\n",
      "Team -> \n",
      "Team -> \n",
      "\n"
     ]
    },
    {
     "name": "stderr",
     "output_type": "stream",
     "text": [
      "The attention mask and the pad token id were not set. As a consequence, you may observe unexpected behavior. Please pass your input's `attention_mask` to obtain reliable results.\n",
      "Setting `pad_token_id` to `eos_token_id`:50256 for open-end generation.\n",
      "The attention mask and the pad token id were not set. As a consequence, you may observe unexpected behavior. Please pass your input's `attention_mask` to obtain reliable results.\n",
      "Setting `pad_token_id` to `eos_token_id`:50256 for open-end generation.\n"
     ]
    },
    {
     "name": "stdout",
     "output_type": "stream",
     "text": [
      "магазины приложений -> магазин приложений\n",
      "человеко-машинного интерфейса -> человеко-машинный интерфейс\n",
      "принципах взаимодействия нейронов -> принципы взаимодействия нейронов\n",
      "отладки приложений -> отладка приложений\n",
      "содержанием дисциплины -> содержание дисциплины\n",
      "Tasks -> \n",
      "Tasks\n"
     ]
    },
    {
     "name": "stderr",
     "output_type": "stream",
     "text": [
      "The attention mask and the pad token id were not set. As a consequence, you may observe unexpected behavior. Please pass your input's `attention_mask` to obtain reliable results.\n",
      "Setting `pad_token_id` to `eos_token_id`:50256 for open-end generation.\n"
     ]
    },
    {
     "name": "stdout",
     "output_type": "stream",
     "text": [
      "магазины приложений -> магазин приложений\n",
      "человеко-машинного интерфейса -> человеко-машинный интерфейс\n",
      "принципах взаимодействия нейронов -> принципы взаимодействия нейронов\n",
      "отладки приложений -> отладка приложений\n",
      "содержанием дисциплины -> содержание дисциплины\n",
      "Tasks -> \n",
      "Tasks ->\n"
     ]
    },
    {
     "name": "stderr",
     "output_type": "stream",
     "text": [
      "The attention mask and the pad token id were not set. As a consequence, you may observe unexpected behavior. Please pass your input's `attention_mask` to obtain reliable results.\n",
      "Setting `pad_token_id` to `eos_token_id`:50256 for open-end generation.\n"
     ]
    },
    {
     "name": "stdout",
     "output_type": "stream",
     "text": [
      "магазины приложений -> магазин приложений\n",
      "человеко-машинного интерфейса -> человеко-машинный интерфейс\n",
      "принципах взаимодействия нейронов -> принципы взаимодействия нейронов\n",
      "отладки приложений -> отладка приложений\n",
      "содержанием дисциплины -> содержание дисциплины\n",
      "Tasks -> \n",
      "Tasks -> \n",
      "\n"
     ]
    },
    {
     "name": "stderr",
     "output_type": "stream",
     "text": [
      "The attention mask and the pad token id were not set. As a consequence, you may observe unexpected behavior. Please pass your input's `attention_mask` to obtain reliable results.\n",
      "Setting `pad_token_id` to `eos_token_id`:50256 for open-end generation.\n",
      "The attention mask and the pad token id were not set. As a consequence, you may observe unexpected behavior. Please pass your input's `attention_mask` to obtain reliable results.\n",
      "Setting `pad_token_id` to `eos_token_id`:50256 for open-end generation.\n"
     ]
    },
    {
     "name": "stdout",
     "output_type": "stream",
     "text": [
      "магазины приложений -> магазин приложений\n",
      "человеко-машинного интерфейса -> человеко-машинный интерфейс\n",
      "принципах взаимодействия нейронов -> принципы взаимодействия нейронов\n",
      "отладки приложений -> отладка приложений\n",
      "содержанием дисциплины -> содержание дисциплины\n",
      "Estimate Activity Durations -> \n",
      "Estimate\n"
     ]
    },
    {
     "name": "stderr",
     "output_type": "stream",
     "text": [
      "The attention mask and the pad token id were not set. As a consequence, you may observe unexpected behavior. Please pass your input's `attention_mask` to obtain reliable results.\n",
      "Setting `pad_token_id` to `eos_token_id`:50256 for open-end generation.\n"
     ]
    },
    {
     "name": "stdout",
     "output_type": "stream",
     "text": [
      "магазины приложений -> магазин приложений\n",
      "человеко-машинного интерфейса -> человеко-машинный интерфейс\n",
      "принципах взаимодействия нейронов -> принципы взаимодействия нейронов\n",
      "отладки приложений -> отладка приложений\n",
      "содержанием дисциплины -> содержание дисциплины\n",
      "Estimate Activity Durations -> \n",
      "Estimate Activity\n"
     ]
    },
    {
     "name": "stderr",
     "output_type": "stream",
     "text": [
      "The attention mask and the pad token id were not set. As a consequence, you may observe unexpected behavior. Please pass your input's `attention_mask` to obtain reliable results.\n",
      "Setting `pad_token_id` to `eos_token_id`:50256 for open-end generation.\n"
     ]
    },
    {
     "name": "stdout",
     "output_type": "stream",
     "text": [
      "магазины приложений -> магазин приложений\n",
      "человеко-машинного интерфейса -> человеко-машинный интерфейс\n",
      "принципах взаимодействия нейронов -> принципы взаимодействия нейронов\n",
      "отладки приложений -> отладка приложений\n",
      "содержанием дисциплины -> содержание дисциплины\n",
      "Estimate Activity Durations -> \n",
      "Estimate Activity Dur\n"
     ]
    },
    {
     "name": "stderr",
     "output_type": "stream",
     "text": [
      "The attention mask and the pad token id were not set. As a consequence, you may observe unexpected behavior. Please pass your input's `attention_mask` to obtain reliable results.\n",
      "Setting `pad_token_id` to `eos_token_id`:50256 for open-end generation.\n"
     ]
    },
    {
     "name": "stdout",
     "output_type": "stream",
     "text": [
      "магазины приложений -> магазин приложений\n",
      "человеко-машинного интерфейса -> человеко-машинный интерфейс\n",
      "принципах взаимодействия нейронов -> принципы взаимодействия нейронов\n",
      "отладки приложений -> отладка приложений\n",
      "содержанием дисциплины -> содержание дисциплины\n",
      "Estimate Activity Durations -> \n",
      "Estimate Activity Durations\n",
      "\n"
     ]
    },
    {
     "name": "stderr",
     "output_type": "stream",
     "text": [
      "The attention mask and the pad token id were not set. As a consequence, you may observe unexpected behavior. Please pass your input's `attention_mask` to obtain reliable results.\n",
      "Setting `pad_token_id` to `eos_token_id`:50256 for open-end generation.\n",
      "The attention mask and the pad token id were not set. As a consequence, you may observe unexpected behavior. Please pass your input's `attention_mask` to obtain reliable results.\n",
      "Setting `pad_token_id` to `eos_token_id`:50256 for open-end generation.\n"
     ]
    },
    {
     "name": "stdout",
     "output_type": "stream",
     "text": [
      "магазины приложений -> магазин приложений\n",
      "человеко-машинного интерфейса -> человеко-машинный интерфейс\n",
      "принципах взаимодействия нейронов -> принципы взаимодействия нейронов\n",
      "отладки приложений -> отладка приложений\n",
      "содержанием дисциплины -> содержание дисциплины\n",
      "User Story -> url ->\n"
     ]
    },
    {
     "name": "stderr",
     "output_type": "stream",
     "text": [
      "The attention mask and the pad token id were not set. As a consequence, you may observe unexpected behavior. Please pass your input's `attention_mask` to obtain reliable results.\n",
      "Setting `pad_token_id` to `eos_token_id`:50256 for open-end generation.\n"
     ]
    },
    {
     "name": "stdout",
     "output_type": "stream",
     "text": [
      "магазины приложений -> магазин приложений\n",
      "человеко-машинного интерфейса -> человеко-машинный интерфейс\n",
      "принципах взаимодействия нейронов -> принципы взаимодействия нейронов\n",
      "отладки приложений -> отладка приложений\n",
      "содержанием дисциплины -> содержание дисциплины\n",
      "User Story -> url -> ur\n"
     ]
    },
    {
     "name": "stderr",
     "output_type": "stream",
     "text": [
      "The attention mask and the pad token id were not set. As a consequence, you may observe unexpected behavior. Please pass your input's `attention_mask` to obtain reliable results.\n",
      "Setting `pad_token_id` to `eos_token_id`:50256 for open-end generation.\n"
     ]
    },
    {
     "name": "stdout",
     "output_type": "stream",
     "text": [
      "магазины приложений -> магазин приложений\n",
      "человеко-машинного интерфейса -> человеко-машинный интерфейс\n",
      "принципах взаимодействия нейронов -> принципы взаимодействия нейронов\n",
      "отладки приложений -> отладка приложений\n",
      "содержанием дисциплины -> содержание дисциплины\n",
      "User Story -> url -> url -\n"
     ]
    },
    {
     "name": "stderr",
     "output_type": "stream",
     "text": [
      "The attention mask and the pad token id were not set. As a consequence, you may observe unexpected behavior. Please pass your input's `attention_mask` to obtain reliable results.\n",
      "Setting `pad_token_id` to `eos_token_id`:50256 for open-end generation.\n"
     ]
    },
    {
     "name": "stdout",
     "output_type": "stream",
     "text": [
      "магазины приложений -> магазин приложений\n",
      "человеко-машинного интерфейса -> человеко-машинный интерфейс\n",
      "принципах взаимодействия нейронов -> принципы взаимодействия нейронов\n",
      "отладки приложений -> отладка приложений\n",
      "содержанием дисциплины -> содержание дисциплины\n",
      "User Story -> url -> url -> \n"
     ]
    },
    {
     "name": "stderr",
     "output_type": "stream",
     "text": [
      "The attention mask and the pad token id were not set. As a consequence, you may observe unexpected behavior. Please pass your input's `attention_mask` to obtain reliable results.\n",
      "Setting `pad_token_id` to `eos_token_id`:50256 for open-end generation.\n"
     ]
    },
    {
     "name": "stdout",
     "output_type": "stream",
     "text": [
      "магазины приложений -> магазин приложений\n",
      "человеко-машинного интерфейса -> человеко-машинный интерфейс\n",
      "принципах взаимодействия нейронов -> принципы взаимодействия нейронов\n",
      "отладки приложений -> отладка приложений\n",
      "содержанием дисциплины -> содержание дисциплины\n",
      "User Story -> url -> url -> url\n"
     ]
    },
    {
     "name": "stderr",
     "output_type": "stream",
     "text": [
      "The attention mask and the pad token id were not set. As a consequence, you may observe unexpected behavior. Please pass your input's `attention_mask` to obtain reliable results.\n",
      "Setting `pad_token_id` to `eos_token_id`:50256 for open-end generation.\n"
     ]
    },
    {
     "name": "stdout",
     "output_type": "stream",
     "text": [
      "магазины приложений -> магазин приложений\n",
      "человеко-машинного интерфейса -> человеко-машинный интерфейс\n",
      "принципах взаимодействия нейронов -> принципы взаимодействия нейронов\n",
      "отладки приложений -> отладка приложений\n",
      "содержанием дисциплины -> содержание дисциплины\n",
      "User Story -> url -> url -> url ->\n"
     ]
    },
    {
     "name": "stderr",
     "output_type": "stream",
     "text": [
      "The attention mask and the pad token id were not set. As a consequence, you may observe unexpected behavior. Please pass your input's `attention_mask` to obtain reliable results.\n",
      "Setting `pad_token_id` to `eos_token_id`:50256 for open-end generation.\n"
     ]
    },
    {
     "name": "stdout",
     "output_type": "stream",
     "text": [
      "магазины приложений -> магазин приложений\n",
      "человеко-машинного интерфейса -> человеко-машинный интерфейс\n",
      "принципах взаимодействия нейронов -> принципы взаимодействия нейронов\n",
      "отладки приложений -> отладка приложений\n",
      "содержанием дисциплины -> содержание дисциплины\n",
      "User Story -> url -> url -> url -> ur\n"
     ]
    },
    {
     "name": "stderr",
     "output_type": "stream",
     "text": [
      "The attention mask and the pad token id were not set. As a consequence, you may observe unexpected behavior. Please pass your input's `attention_mask` to obtain reliable results.\n",
      "Setting `pad_token_id` to `eos_token_id`:50256 for open-end generation.\n"
     ]
    },
    {
     "name": "stdout",
     "output_type": "stream",
     "text": [
      "магазины приложений -> магазин приложений\n",
      "человеко-машинного интерфейса -> человеко-машинный интерфейс\n",
      "принципах взаимодействия нейронов -> принципы взаимодействия нейронов\n",
      "отладки приложений -> отладка приложений\n",
      "содержанием дисциплины -> содержание дисциплины\n",
      "User Story -> url -> url -> url -> url -\n"
     ]
    },
    {
     "name": "stderr",
     "output_type": "stream",
     "text": [
      "The attention mask and the pad token id were not set. As a consequence, you may observe unexpected behavior. Please pass your input's `attention_mask` to obtain reliable results.\n",
      "Setting `pad_token_id` to `eos_token_id`:50256 for open-end generation.\n"
     ]
    },
    {
     "name": "stdout",
     "output_type": "stream",
     "text": [
      "магазины приложений -> магазин приложений\n",
      "человеко-машинного интерфейса -> человеко-машинный интерфейс\n",
      "принципах взаимодействия нейронов -> принципы взаимодействия нейронов\n",
      "отладки приложений -> отладка приложений\n",
      "содержанием дисциплины -> содержание дисциплины\n",
      "User Story -> url -> url -> url -> url -> \n"
     ]
    },
    {
     "name": "stderr",
     "output_type": "stream",
     "text": [
      "The attention mask and the pad token id were not set. As a consequence, you may observe unexpected behavior. Please pass your input's `attention_mask` to obtain reliable results.\n",
      "Setting `pad_token_id` to `eos_token_id`:50256 for open-end generation.\n"
     ]
    },
    {
     "name": "stdout",
     "output_type": "stream",
     "text": [
      "магазины приложений -> магазин приложений\n",
      "человеко-машинного интерфейса -> человеко-машинный интерфейс\n",
      "принципах взаимодействия нейронов -> принципы взаимодействия нейронов\n",
      "отладки приложений -> отладка приложений\n",
      "содержанием дисциплины -> содержание дисциплины\n",
      "User Story -> url -> url -> url -> url -> url\n"
     ]
    },
    {
     "name": "stderr",
     "output_type": "stream",
     "text": [
      "The attention mask and the pad token id were not set. As a consequence, you may observe unexpected behavior. Please pass your input's `attention_mask` to obtain reliable results.\n",
      "Setting `pad_token_id` to `eos_token_id`:50256 for open-end generation.\n",
      "The attention mask and the pad token id were not set. As a consequence, you may observe unexpected behavior. Please pass your input's `attention_mask` to obtain reliable results.\n",
      "Setting `pad_token_id` to `eos_token_id`:50256 for open-end generation.\n"
     ]
    },
    {
     "name": "stdout",
     "output_type": "stream",
     "text": [
      "магазины приложений -> магазин приложений\n",
      "человеко-машинного интерфейса -> человеко-машинный интерфейс\n",
      "принципах взаимодействия нейронов -> принципы взаимодействия нейронов\n",
      "отладки приложений -> отладка приложений\n",
      "содержанием дисциплины -> содержание дисциплины\n",
      "интеллектуальных ->  интеллектуальных\n",
      "\n",
      "\n"
     ]
    },
    {
     "name": "stderr",
     "output_type": "stream",
     "text": [
      "The attention mask and the pad token id were not set. As a consequence, you may observe unexpected behavior. Please pass your input's `attention_mask` to obtain reliable results.\n",
      "Setting `pad_token_id` to `eos_token_id`:50256 for open-end generation.\n",
      "The attention mask and the pad token id were not set. As a consequence, you may observe unexpected behavior. Please pass your input's `attention_mask` to obtain reliable results.\n",
      "Setting `pad_token_id` to `eos_token_id`:50256 for open-end generation.\n"
     ]
    },
    {
     "name": "stdout",
     "output_type": "stream",
     "text": [
      "магазины приложений -> магазин приложений\n",
      "человеко-машинного интерфейса -> человеко-машинный интерфейс\n",
      "принципах взаимодействия нейронов -> принципы взаимодействия нейронов\n",
      "отладки приложений -> отладка приложений\n",
      "содержанием дисциплины -> содержание дисциплины\n",
      "Семантическом Web -> \n",
      "содержанием\n"
     ]
    },
    {
     "name": "stderr",
     "output_type": "stream",
     "text": [
      "The attention mask and the pad token id were not set. As a consequence, you may observe unexpected behavior. Please pass your input's `attention_mask` to obtain reliable results.\n",
      "Setting `pad_token_id` to `eos_token_id`:50256 for open-end generation.\n"
     ]
    },
    {
     "name": "stdout",
     "output_type": "stream",
     "text": [
      "магазины приложений -> магазин приложений\n",
      "человеко-машинного интерфейса -> человеко-машинный интерфейс\n",
      "принципах взаимодействия нейронов -> принципы взаимодействия нейронов\n",
      "отладки приложений -> отладка приложений\n",
      "содержанием дисциплины -> содержание дисциплины\n",
      "Семантическом Web -> \n",
      "содержанием дисциплины -\n"
     ]
    },
    {
     "name": "stderr",
     "output_type": "stream",
     "text": [
      "The attention mask and the pad token id were not set. As a consequence, you may observe unexpected behavior. Please pass your input's `attention_mask` to obtain reliable results.\n",
      "Setting `pad_token_id` to `eos_token_id`:50256 for open-end generation.\n"
     ]
    },
    {
     "name": "stdout",
     "output_type": "stream",
     "text": [
      "магазины приложений -> магазин приложений\n",
      "человеко-машинного интерфейса -> человеко-машинный интерфейс\n",
      "принципах взаимодействия нейронов -> принципы взаимодействия нейронов\n",
      "отладки приложений -> отладка приложений\n",
      "содержанием дисциплины -> содержание дисциплины\n",
      "Семантическом Web -> \n",
      "содержанием дисциплины -> содержание\n"
     ]
    },
    {
     "name": "stderr",
     "output_type": "stream",
     "text": [
      "The attention mask and the pad token id were not set. As a consequence, you may observe unexpected behavior. Please pass your input's `attention_mask` to obtain reliable results.\n",
      "Setting `pad_token_id` to `eos_token_id`:50256 for open-end generation.\n"
     ]
    },
    {
     "name": "stdout",
     "output_type": "stream",
     "text": [
      "магазины приложений -> магазин приложений\n",
      "человеко-машинного интерфейса -> человеко-машинный интерфейс\n",
      "принципах взаимодействия нейронов -> принципы взаимодействия нейронов\n",
      "отладки приложений -> отладка приложений\n",
      "содержанием дисциплины -> содержание дисциплины\n",
      "Семантическом Web -> \n",
      "содержанием дисциплины -> содержание дисциплины\n",
      "\n"
     ]
    },
    {
     "name": "stderr",
     "output_type": "stream",
     "text": [
      "The attention mask and the pad token id were not set. As a consequence, you may observe unexpected behavior. Please pass your input's `attention_mask` to obtain reliable results.\n",
      "Setting `pad_token_id` to `eos_token_id`:50256 for open-end generation.\n",
      "The attention mask and the pad token id were not set. As a consequence, you may observe unexpected behavior. Please pass your input's `attention_mask` to obtain reliable results.\n",
      "Setting `pad_token_id` to `eos_token_id`:50256 for open-end generation.\n"
     ]
    },
    {
     "name": "stdout",
     "output_type": "stream",
     "text": [
      "магазины приложений -> магазин приложений\n",
      "человеко-машинного интерфейса -> человеко-машинный интерфейс\n",
      "принципах взаимодействия нейронов -> принципы взаимодействия нейронов\n",
      "отладки приложений -> отладка приложений\n",
      "содержанием дисциплины -> содержание дисциплины\n",
      "Семантического Web -> \n",
      "содержанием\n"
     ]
    },
    {
     "name": "stderr",
     "output_type": "stream",
     "text": [
      "The attention mask and the pad token id were not set. As a consequence, you may observe unexpected behavior. Please pass your input's `attention_mask` to obtain reliable results.\n",
      "Setting `pad_token_id` to `eos_token_id`:50256 for open-end generation.\n"
     ]
    },
    {
     "name": "stdout",
     "output_type": "stream",
     "text": [
      "магазины приложений -> магазин приложений\n",
      "человеко-машинного интерфейса -> человеко-машинный интерфейс\n",
      "принципах взаимодействия нейронов -> принципы взаимодействия нейронов\n",
      "отладки приложений -> отладка приложений\n",
      "содержанием дисциплины -> содержание дисциплины\n",
      "Семантического Web -> \n",
      "содержанием дисциплины -\n"
     ]
    },
    {
     "name": "stderr",
     "output_type": "stream",
     "text": [
      "The attention mask and the pad token id were not set. As a consequence, you may observe unexpected behavior. Please pass your input's `attention_mask` to obtain reliable results.\n",
      "Setting `pad_token_id` to `eos_token_id`:50256 for open-end generation.\n"
     ]
    },
    {
     "name": "stdout",
     "output_type": "stream",
     "text": [
      "магазины приложений -> магазин приложений\n",
      "человеко-машинного интерфейса -> человеко-машинный интерфейс\n",
      "принципах взаимодействия нейронов -> принципы взаимодействия нейронов\n",
      "отладки приложений -> отладка приложений\n",
      "содержанием дисциплины -> содержание дисциплины\n",
      "Семантического Web -> \n",
      "содержанием дисциплины -> содержание\n"
     ]
    },
    {
     "name": "stderr",
     "output_type": "stream",
     "text": [
      "The attention mask and the pad token id were not set. As a consequence, you may observe unexpected behavior. Please pass your input's `attention_mask` to obtain reliable results.\n",
      "Setting `pad_token_id` to `eos_token_id`:50256 for open-end generation.\n"
     ]
    },
    {
     "name": "stdout",
     "output_type": "stream",
     "text": [
      "магазины приложений -> магазин приложений\n",
      "человеко-машинного интерфейса -> человеко-машинный интерфейс\n",
      "принципах взаимодействия нейронов -> принципы взаимодействия нейронов\n",
      "отладки приложений -> отладка приложений\n",
      "содержанием дисциплины -> содержание дисциплины\n",
      "Семантического Web -> \n",
      "содержанием дисциплины -> содержание дисциплины\n",
      "\n"
     ]
    },
    {
     "name": "stderr",
     "output_type": "stream",
     "text": [
      "The attention mask and the pad token id were not set. As a consequence, you may observe unexpected behavior. Please pass your input's `attention_mask` to obtain reliable results.\n",
      "Setting `pad_token_id` to `eos_token_id`:50256 for open-end generation.\n",
      "The attention mask and the pad token id were not set. As a consequence, you may observe unexpected behavior. Please pass your input's `attention_mask` to obtain reliable results.\n",
      "Setting `pad_token_id` to `eos_token_id`:50256 for open-end generation.\n"
     ]
    },
    {
     "name": "stdout",
     "output_type": "stream",
     "text": [
      "магазины приложений -> магазин приложений\n",
      "человеко-машинного интерфейса -> человеко-машинный интерфейс\n",
      "принципах взаимодействия нейронов -> принципы взаимодействия нейронов\n",
      "отладки приложений -> отладка приложений\n",
      "содержанием дисциплины -> содержание дисциплины\n",
      "Logtalk -> \n",
      "Logt\n"
     ]
    },
    {
     "name": "stderr",
     "output_type": "stream",
     "text": [
      "The attention mask and the pad token id were not set. As a consequence, you may observe unexpected behavior. Please pass your input's `attention_mask` to obtain reliable results.\n",
      "Setting `pad_token_id` to `eos_token_id`:50256 for open-end generation.\n"
     ]
    },
    {
     "name": "stdout",
     "output_type": "stream",
     "text": [
      "магазины приложений -> магазин приложений\n",
      "человеко-машинного интерфейса -> человеко-машинный интерфейс\n",
      "принципах взаимодействия нейронов -> принципы взаимодействия нейронов\n",
      "отладки приложений -> отладка приложений\n",
      "содержанием дисциплины -> содержание дисциплины\n",
      "Logtalk -> \n",
      "Logtalk -\n"
     ]
    },
    {
     "name": "stderr",
     "output_type": "stream",
     "text": [
      "The attention mask and the pad token id were not set. As a consequence, you may observe unexpected behavior. Please pass your input's `attention_mask` to obtain reliable results.\n",
      "Setting `pad_token_id` to `eos_token_id`:50256 for open-end generation.\n"
     ]
    },
    {
     "name": "stdout",
     "output_type": "stream",
     "text": [
      "магазины приложений -> магазин приложений\n",
      "человеко-машинного интерфейса -> человеко-машинный интерфейс\n",
      "принципах взаимодействия нейронов -> принципы взаимодействия нейронов\n",
      "отладки приложений -> отладка приложений\n",
      "содержанием дисциплины -> содержание дисциплины\n",
      "Logtalk -> \n",
      "Logtalk -> \n"
     ]
    },
    {
     "name": "stderr",
     "output_type": "stream",
     "text": [
      "The attention mask and the pad token id were not set. As a consequence, you may observe unexpected behavior. Please pass your input's `attention_mask` to obtain reliable results.\n",
      "Setting `pad_token_id` to `eos_token_id`:50256 for open-end generation.\n"
     ]
    },
    {
     "name": "stdout",
     "output_type": "stream",
     "text": [
      "магазины приложений -> магазин приложений\n",
      "человеко-машинного интерфейса -> человеко-машинный интерфейс\n",
      "принципах взаимодействия нейронов -> принципы взаимодействия нейронов\n",
      "отладки приложений -> отладка приложений\n",
      "содержанием дисциплины -> содержание дисциплины\n",
      "Logtalk -> \n",
      "Logtalk -> \n",
      "L\n"
     ]
    },
    {
     "name": "stderr",
     "output_type": "stream",
     "text": [
      "The attention mask and the pad token id were not set. As a consequence, you may observe unexpected behavior. Please pass your input's `attention_mask` to obtain reliable results.\n",
      "Setting `pad_token_id` to `eos_token_id`:50256 for open-end generation.\n",
      "The attention mask and the pad token id were not set. As a consequence, you may observe unexpected behavior. Please pass your input's `attention_mask` to obtain reliable results.\n",
      "Setting `pad_token_id` to `eos_token_id`:50256 for open-end generation.\n"
     ]
    },
    {
     "name": "stdout",
     "output_type": "stream",
     "text": [
      "магазины приложений -> магазин приложений\n",
      "человеко-машинного интерфейса -> человеко-машинный интерфейс\n",
      "принципах взаимодействия нейронов -> принципы взаимодействия нейронов\n",
      "отладки приложений -> отладка приложений\n",
      "содержанием дисциплины -> содержание дисциплины\n",
      "ASP -> \n",
      "ASP -\n"
     ]
    },
    {
     "name": "stderr",
     "output_type": "stream",
     "text": [
      "The attention mask and the pad token id were not set. As a consequence, you may observe unexpected behavior. Please pass your input's `attention_mask` to obtain reliable results.\n",
      "Setting `pad_token_id` to `eos_token_id`:50256 for open-end generation.\n"
     ]
    },
    {
     "name": "stdout",
     "output_type": "stream",
     "text": [
      "магазины приложений -> магазин приложений\n",
      "человеко-машинного интерфейса -> человеко-машинный интерфейс\n",
      "принципах взаимодействия нейронов -> принципы взаимодействия нейронов\n",
      "отладки приложений -> отладка приложений\n",
      "содержанием дисциплины -> содержание дисциплины\n",
      "ASP -> \n",
      "ASP -> \n"
     ]
    },
    {
     "name": "stderr",
     "output_type": "stream",
     "text": [
      "The attention mask and the pad token id were not set. As a consequence, you may observe unexpected behavior. Please pass your input's `attention_mask` to obtain reliable results.\n",
      "Setting `pad_token_id` to `eos_token_id`:50256 for open-end generation.\n"
     ]
    },
    {
     "name": "stdout",
     "output_type": "stream",
     "text": [
      "магазины приложений -> магазин приложений\n",
      "человеко-машинного интерфейса -> человеко-машинный интерфейс\n",
      "принципах взаимодействия нейронов -> принципы взаимодействия нейронов\n",
      "отладки приложений -> отладка приложений\n",
      "содержанием дисциплины -> содержание дисциплины\n",
      "ASP -> \n",
      "ASP -> \n",
      "AS\n"
     ]
    },
    {
     "name": "stderr",
     "output_type": "stream",
     "text": [
      "The attention mask and the pad token id were not set. As a consequence, you may observe unexpected behavior. Please pass your input's `attention_mask` to obtain reliable results.\n",
      "Setting `pad_token_id` to `eos_token_id`:50256 for open-end generation.\n",
      "The attention mask and the pad token id were not set. As a consequence, you may observe unexpected behavior. Please pass your input's `attention_mask` to obtain reliable results.\n",
      "Setting `pad_token_id` to `eos_token_id`:50256 for open-end generation.\n"
     ]
    },
    {
     "name": "stdout",
     "output_type": "stream",
     "text": [
      "магазины приложений -> магазин приложений\n",
      "человеко-машинного интерфейса -> человеко-машинный интерфейс\n",
      "принципах взаимодействия нейронов -> принципы взаимодействия нейронов\n",
      "отладки приложений -> отладка приложений\n",
      "содержанием дисциплины -> содержание дисциплины\n",
      "Visual Prolog -> \n",
      "Visual\n"
     ]
    },
    {
     "name": "stderr",
     "output_type": "stream",
     "text": [
      "The attention mask and the pad token id were not set. As a consequence, you may observe unexpected behavior. Please pass your input's `attention_mask` to obtain reliable results.\n",
      "Setting `pad_token_id` to `eos_token_id`:50256 for open-end generation.\n"
     ]
    },
    {
     "name": "stdout",
     "output_type": "stream",
     "text": [
      "магазины приложений -> магазин приложений\n",
      "человеко-машинного интерфейса -> человеко-машинный интерфейс\n",
      "принципах взаимодействия нейронов -> принципы взаимодействия нейронов\n",
      "отладки приложений -> отладка приложений\n",
      "содержанием дисциплины -> содержание дисциплины\n",
      "Visual Prolog -> \n",
      "Visual Prol\n"
     ]
    },
    {
     "name": "stderr",
     "output_type": "stream",
     "text": [
      "The attention mask and the pad token id were not set. As a consequence, you may observe unexpected behavior. Please pass your input's `attention_mask` to obtain reliable results.\n",
      "Setting `pad_token_id` to `eos_token_id`:50256 for open-end generation.\n"
     ]
    },
    {
     "name": "stdout",
     "output_type": "stream",
     "text": [
      "магазины приложений -> магазин приложений\n",
      "человеко-машинного интерфейса -> человеко-машинный интерфейс\n",
      "принципах взаимодействия нейронов -> принципы взаимодействия нейронов\n",
      "отладки приложений -> отладка приложений\n",
      "содержанием дисциплины -> содержание дисциплины\n",
      "Visual Prolog -> \n",
      "Visual Prolog\n",
      "\n"
     ]
    },
    {
     "name": "stderr",
     "output_type": "stream",
     "text": [
      "The attention mask and the pad token id were not set. As a consequence, you may observe unexpected behavior. Please pass your input's `attention_mask` to obtain reliable results.\n",
      "Setting `pad_token_id` to `eos_token_id`:50256 for open-end generation.\n",
      "The attention mask and the pad token id were not set. As a consequence, you may observe unexpected behavior. Please pass your input's `attention_mask` to obtain reliable results.\n",
      "Setting `pad_token_id` to `eos_token_id`:50256 for open-end generation.\n"
     ]
    },
    {
     "name": "stdout",
     "output_type": "stream",
     "text": [
      "магазины приложений -> магазин приложений\n",
      "человеко-машинного интерфейса -> человеко-машинный интерфейс\n",
      "принципах взаимодействия нейронов -> принципы взаимодействия нейронов\n",
      "отладки приложений -> отладка приложений\n",
      "содержанием дисциплины -> содержание дисциплины\n",
      "NoSQL -> qt\n",
      "No\n"
     ]
    },
    {
     "name": "stderr",
     "output_type": "stream",
     "text": [
      "The attention mask and the pad token id were not set. As a consequence, you may observe unexpected behavior. Please pass your input's `attention_mask` to obtain reliable results.\n",
      "Setting `pad_token_id` to `eos_token_id`:50256 for open-end generation.\n"
     ]
    },
    {
     "name": "stdout",
     "output_type": "stream",
     "text": [
      "магазины приложений -> магазин приложений\n",
      "человеко-машинного интерфейса -> человеко-машинный интерфейс\n",
      "принципах взаимодействия нейронов -> принципы взаимодействия нейронов\n",
      "отладки приложений -> отладка приложений\n",
      "содержанием дисциплины -> содержание дисциплины\n",
      "NoSQL -> qt\n",
      "NoSQ\n"
     ]
    },
    {
     "name": "stderr",
     "output_type": "stream",
     "text": [
      "The attention mask and the pad token id were not set. As a consequence, you may observe unexpected behavior. Please pass your input's `attention_mask` to obtain reliable results.\n",
      "Setting `pad_token_id` to `eos_token_id`:50256 for open-end generation.\n"
     ]
    },
    {
     "name": "stdout",
     "output_type": "stream",
     "text": [
      "магазины приложений -> магазин приложений\n",
      "человеко-машинного интерфейса -> человеко-машинный интерфейс\n",
      "принципах взаимодействия нейронов -> принципы взаимодействия нейронов\n",
      "отладки приложений -> отладка приложений\n",
      "содержанием дисциплины -> содержание дисциплины\n",
      "NoSQL -> qt\n",
      "NoSQL -\n"
     ]
    },
    {
     "name": "stderr",
     "output_type": "stream",
     "text": [
      "The attention mask and the pad token id were not set. As a consequence, you may observe unexpected behavior. Please pass your input's `attention_mask` to obtain reliable results.\n",
      "Setting `pad_token_id` to `eos_token_id`:50256 for open-end generation.\n"
     ]
    },
    {
     "name": "stdout",
     "output_type": "stream",
     "text": [
      "магазины приложений -> магазин приложений\n",
      "человеко-машинного интерфейса -> человеко-машинный интерфейс\n",
      "принципах взаимодействия нейронов -> принципы взаимодействия нейронов\n",
      "отладки приложений -> отладка приложений\n",
      "содержанием дисциплины -> содержание дисциплины\n",
      "NoSQL -> qt\n",
      "NoSQL -> \n"
     ]
    },
    {
     "name": "stderr",
     "output_type": "stream",
     "text": [
      "The attention mask and the pad token id were not set. As a consequence, you may observe unexpected behavior. Please pass your input's `attention_mask` to obtain reliable results.\n",
      "Setting `pad_token_id` to `eos_token_id`:50256 for open-end generation.\n"
     ]
    },
    {
     "name": "stdout",
     "output_type": "stream",
     "text": [
      "магазины приложений -> магазин приложений\n",
      "человеко-машинного интерфейса -> человеко-машинный интерфейс\n",
      "принципах взаимодействия нейронов -> принципы взаимодействия нейронов\n",
      "отладки приложений -> отладка приложений\n",
      "содержанием дисциплины -> содержание дисциплины\n",
      "NoSQL -> qt\n",
      "NoSQL -> qt\n"
     ]
    },
    {
     "name": "stderr",
     "output_type": "stream",
     "text": [
      "The attention mask and the pad token id were not set. As a consequence, you may observe unexpected behavior. Please pass your input's `attention_mask` to obtain reliable results.\n",
      "Setting `pad_token_id` to `eos_token_id`:50256 for open-end generation.\n"
     ]
    },
    {
     "name": "stdout",
     "output_type": "stream",
     "text": [
      "магазины приложений -> магазин приложений\n",
      "человеко-машинного интерфейса -> человеко-машинный интерфейс\n",
      "принципах взаимодействия нейронов -> принципы взаимодействия нейронов\n",
      "отладки приложений -> отладка приложений\n",
      "содержанием дисциплины -> содержание дисциплины\n",
      "NoSQL -> qt\n",
      "NoSQL -> qt\n",
      "\n",
      "\n"
     ]
    },
    {
     "name": "stderr",
     "output_type": "stream",
     "text": [
      "The attention mask and the pad token id were not set. As a consequence, you may observe unexpected behavior. Please pass your input's `attention_mask` to obtain reliable results.\n",
      "Setting `pad_token_id` to `eos_token_id`:50256 for open-end generation.\n",
      "The attention mask and the pad token id were not set. As a consequence, you may observe unexpected behavior. Please pass your input's `attention_mask` to obtain reliable results.\n",
      "Setting `pad_token_id` to `eos_token_id`:50256 for open-end generation.\n"
     ]
    },
    {
     "name": "stdout",
     "output_type": "stream",
     "text": [
      "магазины приложений -> магазин приложений\n",
      "человеко-машинного интерфейса -> человеко-машинный интерфейс\n",
      "принципах взаимодействия нейронов -> принципы взаимодействия нейронов\n",
      "отладки приложений -> отладка приложений\n",
      "содержанием дисциплины -> содержание дисциплины\n",
      "SOL -> \n",
      "SOL -\n"
     ]
    },
    {
     "name": "stderr",
     "output_type": "stream",
     "text": [
      "The attention mask and the pad token id were not set. As a consequence, you may observe unexpected behavior. Please pass your input's `attention_mask` to obtain reliable results.\n",
      "Setting `pad_token_id` to `eos_token_id`:50256 for open-end generation.\n"
     ]
    },
    {
     "name": "stdout",
     "output_type": "stream",
     "text": [
      "магазины приложений -> магазин приложений\n",
      "человеко-машинного интерфейса -> человеко-машинный интерфейс\n",
      "принципах взаимодействия нейронов -> принципы взаимодействия нейронов\n",
      "отладки приложений -> отладка приложений\n",
      "содержанием дисциплины -> содержание дисциплины\n",
      "SOL -> \n",
      "SOL -> \n"
     ]
    },
    {
     "name": "stderr",
     "output_type": "stream",
     "text": [
      "The attention mask and the pad token id were not set. As a consequence, you may observe unexpected behavior. Please pass your input's `attention_mask` to obtain reliable results.\n",
      "Setting `pad_token_id` to `eos_token_id`:50256 for open-end generation.\n"
     ]
    },
    {
     "name": "stdout",
     "output_type": "stream",
     "text": [
      "магазины приложений -> магазин приложений\n",
      "человеко-машинного интерфейса -> человеко-машинный интерфейс\n",
      "принципах взаимодействия нейронов -> принципы взаимодействия нейронов\n",
      "отладки приложений -> отладка приложений\n",
      "содержанием дисциплины -> содержание дисциплины\n",
      "SOL -> \n",
      "SOL -> \n",
      "S\n"
     ]
    },
    {
     "name": "stderr",
     "output_type": "stream",
     "text": [
      "The attention mask and the pad token id were not set. As a consequence, you may observe unexpected behavior. Please pass your input's `attention_mask` to obtain reliable results.\n",
      "Setting `pad_token_id` to `eos_token_id`:50256 for open-end generation.\n",
      "The attention mask and the pad token id were not set. As a consequence, you may observe unexpected behavior. Please pass your input's `attention_mask` to obtain reliable results.\n",
      "Setting `pad_token_id` to `eos_token_id`:50256 for open-end generation.\n"
     ]
    },
    {
     "name": "stdout",
     "output_type": "stream",
     "text": [
      "магазины приложений -> магазин приложений\n",
      "человеко-машинного интерфейса -> человеко-машинный интерфейс\n",
      "принципах взаимодействия нейронов -> принципы взаимодействия нейронов\n",
      "отладки приложений -> отладка приложений\n",
      "содержанием дисциплины -> содержание дисциплины\n",
      "NewSQL -> qt\n",
      "New\n"
     ]
    },
    {
     "name": "stderr",
     "output_type": "stream",
     "text": [
      "The attention mask and the pad token id were not set. As a consequence, you may observe unexpected behavior. Please pass your input's `attention_mask` to obtain reliable results.\n",
      "Setting `pad_token_id` to `eos_token_id`:50256 for open-end generation.\n"
     ]
    },
    {
     "name": "stdout",
     "output_type": "stream",
     "text": [
      "магазины приложений -> магазин приложений\n",
      "человеко-машинного интерфейса -> человеко-машинный интерфейс\n",
      "принципах взаимодействия нейронов -> принципы взаимодействия нейронов\n",
      "отладки приложений -> отладка приложений\n",
      "содержанием дисциплины -> содержание дисциплины\n",
      "NewSQL -> qt\n",
      "NewSQ\n"
     ]
    },
    {
     "name": "stderr",
     "output_type": "stream",
     "text": [
      "The attention mask and the pad token id were not set. As a consequence, you may observe unexpected behavior. Please pass your input's `attention_mask` to obtain reliable results.\n",
      "Setting `pad_token_id` to `eos_token_id`:50256 for open-end generation.\n"
     ]
    },
    {
     "name": "stdout",
     "output_type": "stream",
     "text": [
      "магазины приложений -> магазин приложений\n",
      "человеко-машинного интерфейса -> человеко-машинный интерфейс\n",
      "принципах взаимодействия нейронов -> принципы взаимодействия нейронов\n",
      "отладки приложений -> отладка приложений\n",
      "содержанием дисциплины -> содержание дисциплины\n",
      "NewSQL -> qt\n",
      "NewSQL -\n"
     ]
    },
    {
     "name": "stderr",
     "output_type": "stream",
     "text": [
      "The attention mask and the pad token id were not set. As a consequence, you may observe unexpected behavior. Please pass your input's `attention_mask` to obtain reliable results.\n",
      "Setting `pad_token_id` to `eos_token_id`:50256 for open-end generation.\n"
     ]
    },
    {
     "name": "stdout",
     "output_type": "stream",
     "text": [
      "магазины приложений -> магазин приложений\n",
      "человеко-машинного интерфейса -> человеко-машинный интерфейс\n",
      "принципах взаимодействия нейронов -> принципы взаимодействия нейронов\n",
      "отладки приложений -> отладка приложений\n",
      "содержанием дисциплины -> содержание дисциплины\n",
      "NewSQL -> qt\n",
      "NewSQL -> \n"
     ]
    },
    {
     "name": "stderr",
     "output_type": "stream",
     "text": [
      "The attention mask and the pad token id were not set. As a consequence, you may observe unexpected behavior. Please pass your input's `attention_mask` to obtain reliable results.\n",
      "Setting `pad_token_id` to `eos_token_id`:50256 for open-end generation.\n"
     ]
    },
    {
     "name": "stdout",
     "output_type": "stream",
     "text": [
      "магазины приложений -> магазин приложений\n",
      "человеко-машинного интерфейса -> человеко-машинный интерфейс\n",
      "принципах взаимодействия нейронов -> принципы взаимодействия нейронов\n",
      "отладки приложений -> отладка приложений\n",
      "содержанием дисциплины -> содержание дисциплины\n",
      "NewSQL -> qt\n",
      "NewSQL -> qt\n"
     ]
    },
    {
     "name": "stderr",
     "output_type": "stream",
     "text": [
      "The attention mask and the pad token id were not set. As a consequence, you may observe unexpected behavior. Please pass your input's `attention_mask` to obtain reliable results.\n",
      "Setting `pad_token_id` to `eos_token_id`:50256 for open-end generation.\n"
     ]
    },
    {
     "name": "stdout",
     "output_type": "stream",
     "text": [
      "магазины приложений -> магазин приложений\n",
      "человеко-машинного интерфейса -> человеко-машинный интерфейс\n",
      "принципах взаимодействия нейронов -> принципы взаимодействия нейронов\n",
      "отладки приложений -> отладка приложений\n",
      "содержанием дисциплины -> содержание дисциплины\n",
      "NewSQL -> qt\n",
      "NewSQL -> qt\n",
      "\n",
      "\n"
     ]
    },
    {
     "name": "stderr",
     "output_type": "stream",
     "text": [
      "The attention mask and the pad token id were not set. As a consequence, you may observe unexpected behavior. Please pass your input's `attention_mask` to obtain reliable results.\n",
      "Setting `pad_token_id` to `eos_token_id`:50256 for open-end generation.\n",
      "The attention mask and the pad token id were not set. As a consequence, you may observe unexpected behavior. Please pass your input's `attention_mask` to obtain reliable results.\n",
      "Setting `pad_token_id` to `eos_token_id`:50256 for open-end generation.\n"
     ]
    },
    {
     "name": "stdout",
     "output_type": "stream",
     "text": [
      "магазины приложений -> магазин приложений\n",
      "человеко-машинного интерфейса -> человеко-машинный интерфейс\n",
      "принципах взаимодействия нейронов -> принципы взаимодействия нейронов\n",
      "отладки приложений -> отладка приложений\n",
      "содержанием дисциплины -> содержание дисциплины\n",
      "Интернета Вещей -> \n",
      "Интернета Ве\n"
     ]
    },
    {
     "name": "stderr",
     "output_type": "stream",
     "text": [
      "The attention mask and the pad token id were not set. As a consequence, you may observe unexpected behavior. Please pass your input's `attention_mask` to obtain reliable results.\n",
      "Setting `pad_token_id` to `eos_token_id`:50256 for open-end generation.\n"
     ]
    },
    {
     "name": "stdout",
     "output_type": "stream",
     "text": [
      "магазины приложений -> магазин приложений\n",
      "человеко-машинного интерфейса -> человеко-машинный интерфейс\n",
      "принципах взаимодействия нейронов -> принципы взаимодействия нейронов\n",
      "отладки приложений -> отладка приложений\n",
      "содержанием дисциплины -> содержание дисциплины\n",
      "Интернета Вещей -> \n",
      "Интернета Вещей -\n"
     ]
    },
    {
     "name": "stderr",
     "output_type": "stream",
     "text": [
      "The attention mask and the pad token id were not set. As a consequence, you may observe unexpected behavior. Please pass your input's `attention_mask` to obtain reliable results.\n",
      "Setting `pad_token_id` to `eos_token_id`:50256 for open-end generation.\n"
     ]
    },
    {
     "name": "stdout",
     "output_type": "stream",
     "text": [
      "магазины приложений -> магазин приложений\n",
      "человеко-машинного интерфейса -> человеко-машинный интерфейс\n",
      "принципах взаимодействия нейронов -> принципы взаимодействия нейронов\n",
      "отладки приложений -> отладка приложений\n",
      "содержанием дисциплины -> содержание дисциплины\n",
      "Интернета Вещей -> \n",
      "Интернета Вещей -> \n"
     ]
    },
    {
     "name": "stderr",
     "output_type": "stream",
     "text": [
      "The attention mask and the pad token id were not set. As a consequence, you may observe unexpected behavior. Please pass your input's `attention_mask` to obtain reliable results.\n",
      "Setting `pad_token_id` to `eos_token_id`:50256 for open-end generation.\n"
     ]
    },
    {
     "name": "stdout",
     "output_type": "stream",
     "text": [
      "магазины приложений -> магазин приложений\n",
      "человеко-машинного интерфейса -> человеко-машинный интерфейс\n",
      "принципах взаимодействия нейронов -> принципы взаимодействия нейронов\n",
      "отладки приложений -> отладка приложений\n",
      "содержанием дисциплины -> содержание дисциплины\n",
      "Интернета Вещей -> \n",
      "Интернета Вещей -> \n",
      "Интер\n"
     ]
    },
    {
     "name": "stderr",
     "output_type": "stream",
     "text": [
      "The attention mask and the pad token id were not set. As a consequence, you may observe unexpected behavior. Please pass your input's `attention_mask` to obtain reliable results.\n",
      "Setting `pad_token_id` to `eos_token_id`:50256 for open-end generation.\n",
      "The attention mask and the pad token id were not set. As a consequence, you may observe unexpected behavior. Please pass your input's `attention_mask` to obtain reliable results.\n",
      "Setting `pad_token_id` to `eos_token_id`:50256 for open-end generation.\n"
     ]
    },
    {
     "name": "stdout",
     "output_type": "stream",
     "text": [
      "магазины приложений -> магазин приложений\n",
      "человеко-машинного интерфейса -> человеко-машинный интерфейс\n",
      "принципах взаимодействия нейронов -> принципы взаимодействия нейронов\n",
      "отладки приложений -> отладка приложений\n",
      "содержанием дисциплины -> содержание дисциплины\n",
      "IoT -> ioT ->\n"
     ]
    },
    {
     "ename": "KeyboardInterrupt",
     "evalue": "",
     "output_type": "error",
     "traceback": [
      "\u001b[0;31m---------------------------------------------------------------------------\u001b[0m",
      "\u001b[0;31mKeyboardInterrupt\u001b[0m                         Traceback (most recent call last)",
      "Cell \u001b[0;32mIn [22], line 20\u001b[0m\n\u001b[1;32m     18\u001b[0m counter \u001b[38;5;241m+\u001b[39m\u001b[38;5;241m=\u001b[39m \u001b[38;5;241m1\u001b[39m\n\u001b[1;32m     19\u001b[0m input_ids \u001b[38;5;241m=\u001b[39m tokenizer\u001b[38;5;241m.\u001b[39mencode(generated_text_old, return_tensors\u001b[38;5;241m=\u001b[39m\u001b[38;5;124m\"\u001b[39m\u001b[38;5;124mpt\u001b[39m\u001b[38;5;124m\"\u001b[39m)\n\u001b[0;32m---> 20\u001b[0m out \u001b[38;5;241m=\u001b[39m \u001b[43mmodel\u001b[49m\u001b[38;5;241;43m.\u001b[39;49m\u001b[43mgenerate\u001b[49m\u001b[43m(\u001b[49m\u001b[43minput_ids\u001b[49m\u001b[43m,\u001b[49m\u001b[43m \u001b[49m\u001b[43mmax_new_tokens\u001b[49m\u001b[38;5;241;43m=\u001b[39;49m\u001b[38;5;241;43m2\u001b[39;49m\u001b[43m)\u001b[49m\n\u001b[1;32m     21\u001b[0m generated_text \u001b[38;5;241m=\u001b[39m \u001b[38;5;28mlist\u001b[39m(\u001b[38;5;28mmap\u001b[39m(tokenizer\u001b[38;5;241m.\u001b[39mdecode, out))[\u001b[38;5;241m0\u001b[39m]\n\u001b[1;32m     22\u001b[0m \u001b[38;5;28mprint\u001b[39m(generated_text)\n",
      "File \u001b[0;32m~/Desktop/jupN/jupN/lib/python3.10/site-packages/torch/autograd/grad_mode.py:27\u001b[0m, in \u001b[0;36m_DecoratorContextManager.__call__.<locals>.decorate_context\u001b[0;34m(*args, **kwargs)\u001b[0m\n\u001b[1;32m     24\u001b[0m \u001b[38;5;129m@functools\u001b[39m\u001b[38;5;241m.\u001b[39mwraps(func)\n\u001b[1;32m     25\u001b[0m \u001b[38;5;28;01mdef\u001b[39;00m \u001b[38;5;21mdecorate_context\u001b[39m(\u001b[38;5;241m*\u001b[39margs, \u001b[38;5;241m*\u001b[39m\u001b[38;5;241m*\u001b[39mkwargs):\n\u001b[1;32m     26\u001b[0m     \u001b[38;5;28;01mwith\u001b[39;00m \u001b[38;5;28mself\u001b[39m\u001b[38;5;241m.\u001b[39mclone():\n\u001b[0;32m---> 27\u001b[0m         \u001b[38;5;28;01mreturn\u001b[39;00m \u001b[43mfunc\u001b[49m\u001b[43m(\u001b[49m\u001b[38;5;241;43m*\u001b[39;49m\u001b[43margs\u001b[49m\u001b[43m,\u001b[49m\u001b[43m \u001b[49m\u001b[38;5;241;43m*\u001b[39;49m\u001b[38;5;241;43m*\u001b[39;49m\u001b[43mkwargs\u001b[49m\u001b[43m)\u001b[49m\n",
      "File \u001b[0;32m~/Desktop/jupN/jupN/lib/python3.10/site-packages/transformers/generation_utils.py:1490\u001b[0m, in \u001b[0;36mGenerationMixin.generate\u001b[0;34m(self, inputs, max_length, min_length, do_sample, early_stopping, num_beams, temperature, penalty_alpha, top_k, top_p, typical_p, repetition_penalty, bad_words_ids, force_words_ids, bos_token_id, pad_token_id, eos_token_id, length_penalty, no_repeat_ngram_size, encoder_no_repeat_ngram_size, num_return_sequences, max_time, max_new_tokens, decoder_start_token_id, use_cache, num_beam_groups, diversity_penalty, prefix_allowed_tokens_fn, logits_processor, renormalize_logits, stopping_criteria, constraints, output_attentions, output_hidden_states, output_scores, return_dict_in_generate, forced_bos_token_id, forced_eos_token_id, remove_invalid_values, synced_gpus, exponential_decay_length_penalty, suppress_tokens, begin_suppress_tokens, forced_decoder_ids, **model_kwargs)\u001b[0m\n\u001b[1;32m   1485\u001b[0m         \u001b[38;5;28;01mraise\u001b[39;00m \u001b[38;5;167;01mValueError\u001b[39;00m(\n\u001b[1;32m   1486\u001b[0m             \u001b[38;5;124mf\u001b[39m\u001b[38;5;124m\"\u001b[39m\u001b[38;5;124mnum_return_sequences has to be 1, but is \u001b[39m\u001b[38;5;132;01m{\u001b[39;00mnum_return_sequences\u001b[38;5;132;01m}\u001b[39;00m\u001b[38;5;124m when doing greedy search.\u001b[39m\u001b[38;5;124m\"\u001b[39m\n\u001b[1;32m   1487\u001b[0m         )\n\u001b[1;32m   1489\u001b[0m     \u001b[38;5;66;03m# 10. run greedy search\u001b[39;00m\n\u001b[0;32m-> 1490\u001b[0m     \u001b[38;5;28;01mreturn\u001b[39;00m \u001b[38;5;28;43mself\u001b[39;49m\u001b[38;5;241;43m.\u001b[39;49m\u001b[43mgreedy_search\u001b[49m\u001b[43m(\u001b[49m\n\u001b[1;32m   1491\u001b[0m \u001b[43m        \u001b[49m\u001b[43minput_ids\u001b[49m\u001b[43m,\u001b[49m\n\u001b[1;32m   1492\u001b[0m \u001b[43m        \u001b[49m\u001b[43mlogits_processor\u001b[49m\u001b[38;5;241;43m=\u001b[39;49m\u001b[43mlogits_processor\u001b[49m\u001b[43m,\u001b[49m\n\u001b[1;32m   1493\u001b[0m \u001b[43m        \u001b[49m\u001b[43mstopping_criteria\u001b[49m\u001b[38;5;241;43m=\u001b[39;49m\u001b[43mstopping_criteria\u001b[49m\u001b[43m,\u001b[49m\n\u001b[1;32m   1494\u001b[0m \u001b[43m        \u001b[49m\u001b[43mpad_token_id\u001b[49m\u001b[38;5;241;43m=\u001b[39;49m\u001b[43mpad_token_id\u001b[49m\u001b[43m,\u001b[49m\n\u001b[1;32m   1495\u001b[0m \u001b[43m        \u001b[49m\u001b[43meos_token_id\u001b[49m\u001b[38;5;241;43m=\u001b[39;49m\u001b[43meos_token_id\u001b[49m\u001b[43m,\u001b[49m\n\u001b[1;32m   1496\u001b[0m \u001b[43m        \u001b[49m\u001b[43moutput_scores\u001b[49m\u001b[38;5;241;43m=\u001b[39;49m\u001b[43moutput_scores\u001b[49m\u001b[43m,\u001b[49m\n\u001b[1;32m   1497\u001b[0m \u001b[43m        \u001b[49m\u001b[43mreturn_dict_in_generate\u001b[49m\u001b[38;5;241;43m=\u001b[39;49m\u001b[43mreturn_dict_in_generate\u001b[49m\u001b[43m,\u001b[49m\n\u001b[1;32m   1498\u001b[0m \u001b[43m        \u001b[49m\u001b[43msynced_gpus\u001b[49m\u001b[38;5;241;43m=\u001b[39;49m\u001b[43msynced_gpus\u001b[49m\u001b[43m,\u001b[49m\n\u001b[1;32m   1499\u001b[0m \u001b[43m        \u001b[49m\u001b[38;5;241;43m*\u001b[39;49m\u001b[38;5;241;43m*\u001b[39;49m\u001b[43mmodel_kwargs\u001b[49m\u001b[43m,\u001b[49m\n\u001b[1;32m   1500\u001b[0m \u001b[43m    \u001b[49m\u001b[43m)\u001b[49m\n\u001b[1;32m   1502\u001b[0m \u001b[38;5;28;01melif\u001b[39;00m is_contrastive_search_gen_mode:\n\u001b[1;32m   1504\u001b[0m     \u001b[38;5;28;01mif\u001b[39;00m num_return_sequences \u001b[38;5;241m>\u001b[39m \u001b[38;5;241m1\u001b[39m:\n",
      "File \u001b[0;32m~/Desktop/jupN/jupN/lib/python3.10/site-packages/transformers/generation_utils.py:2233\u001b[0m, in \u001b[0;36mGenerationMixin.greedy_search\u001b[0;34m(self, input_ids, logits_processor, stopping_criteria, max_length, pad_token_id, eos_token_id, output_attentions, output_hidden_states, output_scores, return_dict_in_generate, synced_gpus, **model_kwargs)\u001b[0m\n\u001b[1;32m   2230\u001b[0m model_inputs \u001b[38;5;241m=\u001b[39m \u001b[38;5;28mself\u001b[39m\u001b[38;5;241m.\u001b[39mprepare_inputs_for_generation(input_ids, \u001b[38;5;241m*\u001b[39m\u001b[38;5;241m*\u001b[39mmodel_kwargs)\n\u001b[1;32m   2232\u001b[0m \u001b[38;5;66;03m# forward pass to get next token\u001b[39;00m\n\u001b[0;32m-> 2233\u001b[0m outputs \u001b[38;5;241m=\u001b[39m \u001b[38;5;28;43mself\u001b[39;49m\u001b[43m(\u001b[49m\n\u001b[1;32m   2234\u001b[0m \u001b[43m    \u001b[49m\u001b[38;5;241;43m*\u001b[39;49m\u001b[38;5;241;43m*\u001b[39;49m\u001b[43mmodel_inputs\u001b[49m\u001b[43m,\u001b[49m\n\u001b[1;32m   2235\u001b[0m \u001b[43m    \u001b[49m\u001b[43mreturn_dict\u001b[49m\u001b[38;5;241;43m=\u001b[39;49m\u001b[38;5;28;43;01mTrue\u001b[39;49;00m\u001b[43m,\u001b[49m\n\u001b[1;32m   2236\u001b[0m \u001b[43m    \u001b[49m\u001b[43moutput_attentions\u001b[49m\u001b[38;5;241;43m=\u001b[39;49m\u001b[43moutput_attentions\u001b[49m\u001b[43m,\u001b[49m\n\u001b[1;32m   2237\u001b[0m \u001b[43m    \u001b[49m\u001b[43moutput_hidden_states\u001b[49m\u001b[38;5;241;43m=\u001b[39;49m\u001b[43moutput_hidden_states\u001b[49m\u001b[43m,\u001b[49m\n\u001b[1;32m   2238\u001b[0m \u001b[43m\u001b[49m\u001b[43m)\u001b[49m\n\u001b[1;32m   2240\u001b[0m \u001b[38;5;28;01mif\u001b[39;00m synced_gpus \u001b[38;5;129;01mand\u001b[39;00m this_peer_finished:\n\u001b[1;32m   2241\u001b[0m     \u001b[38;5;28;01mcontinue\u001b[39;00m  \u001b[38;5;66;03m# don't waste resources running the code we don't need\u001b[39;00m\n",
      "File \u001b[0;32m~/Desktop/jupN/jupN/lib/python3.10/site-packages/torch/nn/modules/module.py:1194\u001b[0m, in \u001b[0;36mModule._call_impl\u001b[0;34m(self, *input, **kwargs)\u001b[0m\n\u001b[1;32m   1190\u001b[0m \u001b[38;5;66;03m# If we don't have any hooks, we want to skip the rest of the logic in\u001b[39;00m\n\u001b[1;32m   1191\u001b[0m \u001b[38;5;66;03m# this function, and just call forward.\u001b[39;00m\n\u001b[1;32m   1192\u001b[0m \u001b[38;5;28;01mif\u001b[39;00m \u001b[38;5;129;01mnot\u001b[39;00m (\u001b[38;5;28mself\u001b[39m\u001b[38;5;241m.\u001b[39m_backward_hooks \u001b[38;5;129;01mor\u001b[39;00m \u001b[38;5;28mself\u001b[39m\u001b[38;5;241m.\u001b[39m_forward_hooks \u001b[38;5;129;01mor\u001b[39;00m \u001b[38;5;28mself\u001b[39m\u001b[38;5;241m.\u001b[39m_forward_pre_hooks \u001b[38;5;129;01mor\u001b[39;00m _global_backward_hooks\n\u001b[1;32m   1193\u001b[0m         \u001b[38;5;129;01mor\u001b[39;00m _global_forward_hooks \u001b[38;5;129;01mor\u001b[39;00m _global_forward_pre_hooks):\n\u001b[0;32m-> 1194\u001b[0m     \u001b[38;5;28;01mreturn\u001b[39;00m \u001b[43mforward_call\u001b[49m\u001b[43m(\u001b[49m\u001b[38;5;241;43m*\u001b[39;49m\u001b[38;5;28;43minput\u001b[39;49m\u001b[43m,\u001b[49m\u001b[43m \u001b[49m\u001b[38;5;241;43m*\u001b[39;49m\u001b[38;5;241;43m*\u001b[39;49m\u001b[43mkwargs\u001b[49m\u001b[43m)\u001b[49m\n\u001b[1;32m   1195\u001b[0m \u001b[38;5;66;03m# Do not call functions when jit is used\u001b[39;00m\n\u001b[1;32m   1196\u001b[0m full_backward_hooks, non_full_backward_hooks \u001b[38;5;241m=\u001b[39m [], []\n",
      "File \u001b[0;32m~/Desktop/jupN/jupN/lib/python3.10/site-packages/transformers/models/gpt2/modeling_gpt2.py:1046\u001b[0m, in \u001b[0;36mGPT2LMHeadModel.forward\u001b[0;34m(self, input_ids, past_key_values, attention_mask, token_type_ids, position_ids, head_mask, inputs_embeds, encoder_hidden_states, encoder_attention_mask, labels, use_cache, output_attentions, output_hidden_states, return_dict)\u001b[0m\n\u001b[1;32m   1038\u001b[0m \u001b[38;5;124mr\u001b[39m\u001b[38;5;124;03m\"\"\"\u001b[39;00m\n\u001b[1;32m   1039\u001b[0m \u001b[38;5;124;03mlabels (`torch.LongTensor` of shape `(batch_size, sequence_length)`, *optional*):\u001b[39;00m\n\u001b[1;32m   1040\u001b[0m \u001b[38;5;124;03m    Labels for language modeling. Note that the labels **are shifted** inside the model, i.e. you can set\u001b[39;00m\n\u001b[1;32m   1041\u001b[0m \u001b[38;5;124;03m    `labels = input_ids` Indices are selected in `[-100, 0, ..., config.vocab_size]` All labels set to `-100`\u001b[39;00m\n\u001b[1;32m   1042\u001b[0m \u001b[38;5;124;03m    are ignored (masked), the loss is only computed for labels in `[0, ..., config.vocab_size]`\u001b[39;00m\n\u001b[1;32m   1043\u001b[0m \u001b[38;5;124;03m\"\"\"\u001b[39;00m\n\u001b[1;32m   1044\u001b[0m return_dict \u001b[38;5;241m=\u001b[39m return_dict \u001b[38;5;28;01mif\u001b[39;00m return_dict \u001b[38;5;129;01mis\u001b[39;00m \u001b[38;5;129;01mnot\u001b[39;00m \u001b[38;5;28;01mNone\u001b[39;00m \u001b[38;5;28;01melse\u001b[39;00m \u001b[38;5;28mself\u001b[39m\u001b[38;5;241m.\u001b[39mconfig\u001b[38;5;241m.\u001b[39muse_return_dict\n\u001b[0;32m-> 1046\u001b[0m transformer_outputs \u001b[38;5;241m=\u001b[39m \u001b[38;5;28;43mself\u001b[39;49m\u001b[38;5;241;43m.\u001b[39;49m\u001b[43mtransformer\u001b[49m\u001b[43m(\u001b[49m\n\u001b[1;32m   1047\u001b[0m \u001b[43m    \u001b[49m\u001b[43minput_ids\u001b[49m\u001b[43m,\u001b[49m\n\u001b[1;32m   1048\u001b[0m \u001b[43m    \u001b[49m\u001b[43mpast_key_values\u001b[49m\u001b[38;5;241;43m=\u001b[39;49m\u001b[43mpast_key_values\u001b[49m\u001b[43m,\u001b[49m\n\u001b[1;32m   1049\u001b[0m \u001b[43m    \u001b[49m\u001b[43mattention_mask\u001b[49m\u001b[38;5;241;43m=\u001b[39;49m\u001b[43mattention_mask\u001b[49m\u001b[43m,\u001b[49m\n\u001b[1;32m   1050\u001b[0m \u001b[43m    \u001b[49m\u001b[43mtoken_type_ids\u001b[49m\u001b[38;5;241;43m=\u001b[39;49m\u001b[43mtoken_type_ids\u001b[49m\u001b[43m,\u001b[49m\n\u001b[1;32m   1051\u001b[0m \u001b[43m    \u001b[49m\u001b[43mposition_ids\u001b[49m\u001b[38;5;241;43m=\u001b[39;49m\u001b[43mposition_ids\u001b[49m\u001b[43m,\u001b[49m\n\u001b[1;32m   1052\u001b[0m \u001b[43m    \u001b[49m\u001b[43mhead_mask\u001b[49m\u001b[38;5;241;43m=\u001b[39;49m\u001b[43mhead_mask\u001b[49m\u001b[43m,\u001b[49m\n\u001b[1;32m   1053\u001b[0m \u001b[43m    \u001b[49m\u001b[43minputs_embeds\u001b[49m\u001b[38;5;241;43m=\u001b[39;49m\u001b[43minputs_embeds\u001b[49m\u001b[43m,\u001b[49m\n\u001b[1;32m   1054\u001b[0m \u001b[43m    \u001b[49m\u001b[43mencoder_hidden_states\u001b[49m\u001b[38;5;241;43m=\u001b[39;49m\u001b[43mencoder_hidden_states\u001b[49m\u001b[43m,\u001b[49m\n\u001b[1;32m   1055\u001b[0m \u001b[43m    \u001b[49m\u001b[43mencoder_attention_mask\u001b[49m\u001b[38;5;241;43m=\u001b[39;49m\u001b[43mencoder_attention_mask\u001b[49m\u001b[43m,\u001b[49m\n\u001b[1;32m   1056\u001b[0m \u001b[43m    \u001b[49m\u001b[43muse_cache\u001b[49m\u001b[38;5;241;43m=\u001b[39;49m\u001b[43muse_cache\u001b[49m\u001b[43m,\u001b[49m\n\u001b[1;32m   1057\u001b[0m \u001b[43m    \u001b[49m\u001b[43moutput_attentions\u001b[49m\u001b[38;5;241;43m=\u001b[39;49m\u001b[43moutput_attentions\u001b[49m\u001b[43m,\u001b[49m\n\u001b[1;32m   1058\u001b[0m \u001b[43m    \u001b[49m\u001b[43moutput_hidden_states\u001b[49m\u001b[38;5;241;43m=\u001b[39;49m\u001b[43moutput_hidden_states\u001b[49m\u001b[43m,\u001b[49m\n\u001b[1;32m   1059\u001b[0m \u001b[43m    \u001b[49m\u001b[43mreturn_dict\u001b[49m\u001b[38;5;241;43m=\u001b[39;49m\u001b[43mreturn_dict\u001b[49m\u001b[43m,\u001b[49m\n\u001b[1;32m   1060\u001b[0m \u001b[43m\u001b[49m\u001b[43m)\u001b[49m\n\u001b[1;32m   1061\u001b[0m hidden_states \u001b[38;5;241m=\u001b[39m transformer_outputs[\u001b[38;5;241m0\u001b[39m]\n\u001b[1;32m   1063\u001b[0m \u001b[38;5;66;03m# Set device for model parallelism\u001b[39;00m\n",
      "File \u001b[0;32m~/Desktop/jupN/jupN/lib/python3.10/site-packages/torch/nn/modules/module.py:1194\u001b[0m, in \u001b[0;36mModule._call_impl\u001b[0;34m(self, *input, **kwargs)\u001b[0m\n\u001b[1;32m   1190\u001b[0m \u001b[38;5;66;03m# If we don't have any hooks, we want to skip the rest of the logic in\u001b[39;00m\n\u001b[1;32m   1191\u001b[0m \u001b[38;5;66;03m# this function, and just call forward.\u001b[39;00m\n\u001b[1;32m   1192\u001b[0m \u001b[38;5;28;01mif\u001b[39;00m \u001b[38;5;129;01mnot\u001b[39;00m (\u001b[38;5;28mself\u001b[39m\u001b[38;5;241m.\u001b[39m_backward_hooks \u001b[38;5;129;01mor\u001b[39;00m \u001b[38;5;28mself\u001b[39m\u001b[38;5;241m.\u001b[39m_forward_hooks \u001b[38;5;129;01mor\u001b[39;00m \u001b[38;5;28mself\u001b[39m\u001b[38;5;241m.\u001b[39m_forward_pre_hooks \u001b[38;5;129;01mor\u001b[39;00m _global_backward_hooks\n\u001b[1;32m   1193\u001b[0m         \u001b[38;5;129;01mor\u001b[39;00m _global_forward_hooks \u001b[38;5;129;01mor\u001b[39;00m _global_forward_pre_hooks):\n\u001b[0;32m-> 1194\u001b[0m     \u001b[38;5;28;01mreturn\u001b[39;00m \u001b[43mforward_call\u001b[49m\u001b[43m(\u001b[49m\u001b[38;5;241;43m*\u001b[39;49m\u001b[38;5;28;43minput\u001b[39;49m\u001b[43m,\u001b[49m\u001b[43m \u001b[49m\u001b[38;5;241;43m*\u001b[39;49m\u001b[38;5;241;43m*\u001b[39;49m\u001b[43mkwargs\u001b[49m\u001b[43m)\u001b[49m\n\u001b[1;32m   1195\u001b[0m \u001b[38;5;66;03m# Do not call functions when jit is used\u001b[39;00m\n\u001b[1;32m   1196\u001b[0m full_backward_hooks, non_full_backward_hooks \u001b[38;5;241m=\u001b[39m [], []\n",
      "File \u001b[0;32m~/Desktop/jupN/jupN/lib/python3.10/site-packages/transformers/models/gpt2/modeling_gpt2.py:889\u001b[0m, in \u001b[0;36mGPT2Model.forward\u001b[0;34m(self, input_ids, past_key_values, attention_mask, token_type_ids, position_ids, head_mask, inputs_embeds, encoder_hidden_states, encoder_attention_mask, use_cache, output_attentions, output_hidden_states, return_dict)\u001b[0m\n\u001b[1;32m    879\u001b[0m     outputs \u001b[38;5;241m=\u001b[39m torch\u001b[38;5;241m.\u001b[39mutils\u001b[38;5;241m.\u001b[39mcheckpoint\u001b[38;5;241m.\u001b[39mcheckpoint(\n\u001b[1;32m    880\u001b[0m         create_custom_forward(block),\n\u001b[1;32m    881\u001b[0m         hidden_states,\n\u001b[0;32m   (...)\u001b[0m\n\u001b[1;32m    886\u001b[0m         encoder_attention_mask,\n\u001b[1;32m    887\u001b[0m     )\n\u001b[1;32m    888\u001b[0m \u001b[38;5;28;01melse\u001b[39;00m:\n\u001b[0;32m--> 889\u001b[0m     outputs \u001b[38;5;241m=\u001b[39m \u001b[43mblock\u001b[49m\u001b[43m(\u001b[49m\n\u001b[1;32m    890\u001b[0m \u001b[43m        \u001b[49m\u001b[43mhidden_states\u001b[49m\u001b[43m,\u001b[49m\n\u001b[1;32m    891\u001b[0m \u001b[43m        \u001b[49m\u001b[43mlayer_past\u001b[49m\u001b[38;5;241;43m=\u001b[39;49m\u001b[43mlayer_past\u001b[49m\u001b[43m,\u001b[49m\n\u001b[1;32m    892\u001b[0m \u001b[43m        \u001b[49m\u001b[43mattention_mask\u001b[49m\u001b[38;5;241;43m=\u001b[39;49m\u001b[43mattention_mask\u001b[49m\u001b[43m,\u001b[49m\n\u001b[1;32m    893\u001b[0m \u001b[43m        \u001b[49m\u001b[43mhead_mask\u001b[49m\u001b[38;5;241;43m=\u001b[39;49m\u001b[43mhead_mask\u001b[49m\u001b[43m[\u001b[49m\u001b[43mi\u001b[49m\u001b[43m]\u001b[49m\u001b[43m,\u001b[49m\n\u001b[1;32m    894\u001b[0m \u001b[43m        \u001b[49m\u001b[43mencoder_hidden_states\u001b[49m\u001b[38;5;241;43m=\u001b[39;49m\u001b[43mencoder_hidden_states\u001b[49m\u001b[43m,\u001b[49m\n\u001b[1;32m    895\u001b[0m \u001b[43m        \u001b[49m\u001b[43mencoder_attention_mask\u001b[49m\u001b[38;5;241;43m=\u001b[39;49m\u001b[43mencoder_attention_mask\u001b[49m\u001b[43m,\u001b[49m\n\u001b[1;32m    896\u001b[0m \u001b[43m        \u001b[49m\u001b[43muse_cache\u001b[49m\u001b[38;5;241;43m=\u001b[39;49m\u001b[43muse_cache\u001b[49m\u001b[43m,\u001b[49m\n\u001b[1;32m    897\u001b[0m \u001b[43m        \u001b[49m\u001b[43moutput_attentions\u001b[49m\u001b[38;5;241;43m=\u001b[39;49m\u001b[43moutput_attentions\u001b[49m\u001b[43m,\u001b[49m\n\u001b[1;32m    898\u001b[0m \u001b[43m    \u001b[49m\u001b[43m)\u001b[49m\n\u001b[1;32m    900\u001b[0m hidden_states \u001b[38;5;241m=\u001b[39m outputs[\u001b[38;5;241m0\u001b[39m]\n\u001b[1;32m    901\u001b[0m \u001b[38;5;28;01mif\u001b[39;00m use_cache \u001b[38;5;129;01mis\u001b[39;00m \u001b[38;5;28;01mTrue\u001b[39;00m:\n",
      "File \u001b[0;32m~/Desktop/jupN/jupN/lib/python3.10/site-packages/torch/nn/modules/module.py:1194\u001b[0m, in \u001b[0;36mModule._call_impl\u001b[0;34m(self, *input, **kwargs)\u001b[0m\n\u001b[1;32m   1190\u001b[0m \u001b[38;5;66;03m# If we don't have any hooks, we want to skip the rest of the logic in\u001b[39;00m\n\u001b[1;32m   1191\u001b[0m \u001b[38;5;66;03m# this function, and just call forward.\u001b[39;00m\n\u001b[1;32m   1192\u001b[0m \u001b[38;5;28;01mif\u001b[39;00m \u001b[38;5;129;01mnot\u001b[39;00m (\u001b[38;5;28mself\u001b[39m\u001b[38;5;241m.\u001b[39m_backward_hooks \u001b[38;5;129;01mor\u001b[39;00m \u001b[38;5;28mself\u001b[39m\u001b[38;5;241m.\u001b[39m_forward_hooks \u001b[38;5;129;01mor\u001b[39;00m \u001b[38;5;28mself\u001b[39m\u001b[38;5;241m.\u001b[39m_forward_pre_hooks \u001b[38;5;129;01mor\u001b[39;00m _global_backward_hooks\n\u001b[1;32m   1193\u001b[0m         \u001b[38;5;129;01mor\u001b[39;00m _global_forward_hooks \u001b[38;5;129;01mor\u001b[39;00m _global_forward_pre_hooks):\n\u001b[0;32m-> 1194\u001b[0m     \u001b[38;5;28;01mreturn\u001b[39;00m \u001b[43mforward_call\u001b[49m\u001b[43m(\u001b[49m\u001b[38;5;241;43m*\u001b[39;49m\u001b[38;5;28;43minput\u001b[39;49m\u001b[43m,\u001b[49m\u001b[43m \u001b[49m\u001b[38;5;241;43m*\u001b[39;49m\u001b[38;5;241;43m*\u001b[39;49m\u001b[43mkwargs\u001b[49m\u001b[43m)\u001b[49m\n\u001b[1;32m   1195\u001b[0m \u001b[38;5;66;03m# Do not call functions when jit is used\u001b[39;00m\n\u001b[1;32m   1196\u001b[0m full_backward_hooks, non_full_backward_hooks \u001b[38;5;241m=\u001b[39m [], []\n",
      "File \u001b[0;32m~/Desktop/jupN/jupN/lib/python3.10/site-packages/transformers/models/gpt2/modeling_gpt2.py:426\u001b[0m, in \u001b[0;36mGPT2Block.forward\u001b[0;34m(self, hidden_states, layer_past, attention_mask, head_mask, encoder_hidden_states, encoder_attention_mask, use_cache, output_attentions)\u001b[0m\n\u001b[1;32m    424\u001b[0m residual \u001b[38;5;241m=\u001b[39m hidden_states\n\u001b[1;32m    425\u001b[0m hidden_states \u001b[38;5;241m=\u001b[39m \u001b[38;5;28mself\u001b[39m\u001b[38;5;241m.\u001b[39mln_2(hidden_states)\n\u001b[0;32m--> 426\u001b[0m feed_forward_hidden_states \u001b[38;5;241m=\u001b[39m \u001b[38;5;28;43mself\u001b[39;49m\u001b[38;5;241;43m.\u001b[39;49m\u001b[43mmlp\u001b[49m\u001b[43m(\u001b[49m\u001b[43mhidden_states\u001b[49m\u001b[43m)\u001b[49m\n\u001b[1;32m    427\u001b[0m \u001b[38;5;66;03m# residual connection\u001b[39;00m\n\u001b[1;32m    428\u001b[0m hidden_states \u001b[38;5;241m=\u001b[39m residual \u001b[38;5;241m+\u001b[39m feed_forward_hidden_states\n",
      "File \u001b[0;32m~/Desktop/jupN/jupN/lib/python3.10/site-packages/torch/nn/modules/module.py:1194\u001b[0m, in \u001b[0;36mModule._call_impl\u001b[0;34m(self, *input, **kwargs)\u001b[0m\n\u001b[1;32m   1190\u001b[0m \u001b[38;5;66;03m# If we don't have any hooks, we want to skip the rest of the logic in\u001b[39;00m\n\u001b[1;32m   1191\u001b[0m \u001b[38;5;66;03m# this function, and just call forward.\u001b[39;00m\n\u001b[1;32m   1192\u001b[0m \u001b[38;5;28;01mif\u001b[39;00m \u001b[38;5;129;01mnot\u001b[39;00m (\u001b[38;5;28mself\u001b[39m\u001b[38;5;241m.\u001b[39m_backward_hooks \u001b[38;5;129;01mor\u001b[39;00m \u001b[38;5;28mself\u001b[39m\u001b[38;5;241m.\u001b[39m_forward_hooks \u001b[38;5;129;01mor\u001b[39;00m \u001b[38;5;28mself\u001b[39m\u001b[38;5;241m.\u001b[39m_forward_pre_hooks \u001b[38;5;129;01mor\u001b[39;00m _global_backward_hooks\n\u001b[1;32m   1193\u001b[0m         \u001b[38;5;129;01mor\u001b[39;00m _global_forward_hooks \u001b[38;5;129;01mor\u001b[39;00m _global_forward_pre_hooks):\n\u001b[0;32m-> 1194\u001b[0m     \u001b[38;5;28;01mreturn\u001b[39;00m \u001b[43mforward_call\u001b[49m\u001b[43m(\u001b[49m\u001b[38;5;241;43m*\u001b[39;49m\u001b[38;5;28;43minput\u001b[39;49m\u001b[43m,\u001b[49m\u001b[43m \u001b[49m\u001b[38;5;241;43m*\u001b[39;49m\u001b[38;5;241;43m*\u001b[39;49m\u001b[43mkwargs\u001b[49m\u001b[43m)\u001b[49m\n\u001b[1;32m   1195\u001b[0m \u001b[38;5;66;03m# Do not call functions when jit is used\u001b[39;00m\n\u001b[1;32m   1196\u001b[0m full_backward_hooks, non_full_backward_hooks \u001b[38;5;241m=\u001b[39m [], []\n",
      "File \u001b[0;32m~/Desktop/jupN/jupN/lib/python3.10/site-packages/transformers/models/gpt2/modeling_gpt2.py:355\u001b[0m, in \u001b[0;36mGPT2MLP.forward\u001b[0;34m(self, hidden_states)\u001b[0m\n\u001b[1;32m    353\u001b[0m hidden_states \u001b[38;5;241m=\u001b[39m \u001b[38;5;28mself\u001b[39m\u001b[38;5;241m.\u001b[39mc_fc(hidden_states)\n\u001b[1;32m    354\u001b[0m hidden_states \u001b[38;5;241m=\u001b[39m \u001b[38;5;28mself\u001b[39m\u001b[38;5;241m.\u001b[39mact(hidden_states)\n\u001b[0;32m--> 355\u001b[0m hidden_states \u001b[38;5;241m=\u001b[39m \u001b[38;5;28;43mself\u001b[39;49m\u001b[38;5;241;43m.\u001b[39;49m\u001b[43mc_proj\u001b[49m\u001b[43m(\u001b[49m\u001b[43mhidden_states\u001b[49m\u001b[43m)\u001b[49m\n\u001b[1;32m    356\u001b[0m hidden_states \u001b[38;5;241m=\u001b[39m \u001b[38;5;28mself\u001b[39m\u001b[38;5;241m.\u001b[39mdropout(hidden_states)\n\u001b[1;32m    357\u001b[0m \u001b[38;5;28;01mreturn\u001b[39;00m hidden_states\n",
      "File \u001b[0;32m~/Desktop/jupN/jupN/lib/python3.10/site-packages/torch/nn/modules/module.py:1194\u001b[0m, in \u001b[0;36mModule._call_impl\u001b[0;34m(self, *input, **kwargs)\u001b[0m\n\u001b[1;32m   1190\u001b[0m \u001b[38;5;66;03m# If we don't have any hooks, we want to skip the rest of the logic in\u001b[39;00m\n\u001b[1;32m   1191\u001b[0m \u001b[38;5;66;03m# this function, and just call forward.\u001b[39;00m\n\u001b[1;32m   1192\u001b[0m \u001b[38;5;28;01mif\u001b[39;00m \u001b[38;5;129;01mnot\u001b[39;00m (\u001b[38;5;28mself\u001b[39m\u001b[38;5;241m.\u001b[39m_backward_hooks \u001b[38;5;129;01mor\u001b[39;00m \u001b[38;5;28mself\u001b[39m\u001b[38;5;241m.\u001b[39m_forward_hooks \u001b[38;5;129;01mor\u001b[39;00m \u001b[38;5;28mself\u001b[39m\u001b[38;5;241m.\u001b[39m_forward_pre_hooks \u001b[38;5;129;01mor\u001b[39;00m _global_backward_hooks\n\u001b[1;32m   1193\u001b[0m         \u001b[38;5;129;01mor\u001b[39;00m _global_forward_hooks \u001b[38;5;129;01mor\u001b[39;00m _global_forward_pre_hooks):\n\u001b[0;32m-> 1194\u001b[0m     \u001b[38;5;28;01mreturn\u001b[39;00m \u001b[43mforward_call\u001b[49m\u001b[43m(\u001b[49m\u001b[38;5;241;43m*\u001b[39;49m\u001b[38;5;28;43minput\u001b[39;49m\u001b[43m,\u001b[49m\u001b[43m \u001b[49m\u001b[38;5;241;43m*\u001b[39;49m\u001b[38;5;241;43m*\u001b[39;49m\u001b[43mkwargs\u001b[49m\u001b[43m)\u001b[49m\n\u001b[1;32m   1195\u001b[0m \u001b[38;5;66;03m# Do not call functions when jit is used\u001b[39;00m\n\u001b[1;32m   1196\u001b[0m full_backward_hooks, non_full_backward_hooks \u001b[38;5;241m=\u001b[39m [], []\n",
      "File \u001b[0;32m~/Desktop/jupN/jupN/lib/python3.10/site-packages/transformers/pytorch_utils.py:112\u001b[0m, in \u001b[0;36mConv1D.forward\u001b[0;34m(self, x)\u001b[0m\n\u001b[1;32m    110\u001b[0m \u001b[38;5;28;01mdef\u001b[39;00m \u001b[38;5;21mforward\u001b[39m(\u001b[38;5;28mself\u001b[39m, x):\n\u001b[1;32m    111\u001b[0m     size_out \u001b[38;5;241m=\u001b[39m x\u001b[38;5;241m.\u001b[39msize()[:\u001b[38;5;241m-\u001b[39m\u001b[38;5;241m1\u001b[39m] \u001b[38;5;241m+\u001b[39m (\u001b[38;5;28mself\u001b[39m\u001b[38;5;241m.\u001b[39mnf,)\n\u001b[0;32m--> 112\u001b[0m     x \u001b[38;5;241m=\u001b[39m \u001b[43mtorch\u001b[49m\u001b[38;5;241;43m.\u001b[39;49m\u001b[43maddmm\u001b[49m\u001b[43m(\u001b[49m\u001b[38;5;28;43mself\u001b[39;49m\u001b[38;5;241;43m.\u001b[39;49m\u001b[43mbias\u001b[49m\u001b[43m,\u001b[49m\u001b[43m \u001b[49m\u001b[43mx\u001b[49m\u001b[38;5;241;43m.\u001b[39;49m\u001b[43mview\u001b[49m\u001b[43m(\u001b[49m\u001b[38;5;241;43m-\u001b[39;49m\u001b[38;5;241;43m1\u001b[39;49m\u001b[43m,\u001b[49m\u001b[43m \u001b[49m\u001b[43mx\u001b[49m\u001b[38;5;241;43m.\u001b[39;49m\u001b[43msize\u001b[49m\u001b[43m(\u001b[49m\u001b[38;5;241;43m-\u001b[39;49m\u001b[38;5;241;43m1\u001b[39;49m\u001b[43m)\u001b[49m\u001b[43m)\u001b[49m\u001b[43m,\u001b[49m\u001b[43m \u001b[49m\u001b[38;5;28;43mself\u001b[39;49m\u001b[38;5;241;43m.\u001b[39;49m\u001b[43mweight\u001b[49m\u001b[43m)\u001b[49m\n\u001b[1;32m    113\u001b[0m     x \u001b[38;5;241m=\u001b[39m x\u001b[38;5;241m.\u001b[39mview(size_out)\n\u001b[1;32m    114\u001b[0m     \u001b[38;5;28;01mreturn\u001b[39;00m x\n",
      "\u001b[0;31mKeyboardInterrupt\u001b[0m: "
     ]
    }
   ],
   "source": [
    "import difflib\n",
    "norm = []\n",
    "\n",
    "#добавить прокерку на \\n\n",
    "\n",
    "for i in words_no_repeat:\n",
    "    arr = []\n",
    "    for word in i:\n",
    "        #print(word)\n",
    "        arr.append(word)\n",
    "        text = template + word + ''' -> '''\n",
    "        input_ids = tokenizer.encode(text, return_tensors=\"pt\")\n",
    "        out = model.generate(input_ids, max_new_tokens=2)\n",
    "        generated_text_old = list(map(tokenizer.decode, out))[0]\n",
    "        flag = 1\n",
    "        counter = 0\n",
    "        while(flag and counter < 10):\n",
    "            counter += 1\n",
    "            input_ids = tokenizer.encode(generated_text_old, return_tensors=\"pt\")\n",
    "            out = model.generate(input_ids, max_new_tokens=2)\n",
    "            generated_text = list(map(tokenizer.decode, out))[0]\n",
    "            print(generated_text)\n",
    "            differences = []\n",
    "            for i,s in enumerate(difflib.ndiff(generated_text_old, generated_text)):\n",
    "                if s[0] != ' ':\n",
    "                    differences.append(s[-1])\n",
    "            newl = generated_text.count('\\n')\n",
    "            if len(differences) < 2 or newl > new_lines_count + 1:\n",
    "                arr.append(generated_text.replace(text, '')) #записывать отличия от шаблона\n",
    "                flag = 0\n",
    "            generated_text_old = \"\" + generated_text\n",
    "\n",
    "\n",
    "        \n",
    "    norm.append(arr)"
   ]
  },
  {
   "cell_type": "code",
   "execution_count": 23,
   "id": "b03c318a",
   "metadata": {},
   "outputs": [
    {
     "data": {
      "text/plain": [
       "[[],\n",
       " [],\n",
       " ['Ляпунову', '\\nЛ', 'Ляпунова', '\\nЛ', 'Михайлова', '\\nМ'],\n",
       " ['Коши', '\\nКо', 'Нелдера-Мида', '\\nН', 'MATLAB', '\\nM'],\n",
       " ['Дисциплина', '\\nД'],\n",
       " ['Коши', '\\nКо', 'Нелдера-Мида', '\\nН', 'MATLAB', '\\nM'],\n",
       " ['Производственная', ' \\n'],\n",
       " ['компьютером', '\\nпрограм'],\n",
       " [],\n",
       " ['Data Science',\n",
       "  ' \\n',\n",
       "  'R',\n",
       "  'MATLAB',\n",
       "  '\\nM',\n",
       "  'CUDA',\n",
       "  ' \\n',\n",
       "  'SoC',\n",
       "  ' \\n',\n",
       "  'GPU',\n",
       "  ' \\n',\n",
       "  'FPGA',\n",
       "  ' \\n',\n",
       "  'Python',\n",
       "  ' \\n'],\n",
       " [],\n",
       " [],\n",
       " [],\n",
       " ['Robot Operating System', ' System\\n', 'ROS', '\\n\\n'],\n",
       " [],\n",
       " [],\n",
       " ['Java', '\\nJ'],\n",
       " ['ROS',\n",
       "  '\\n\\n',\n",
       "  'publisher\\\\xadsubscriber',\n",
       "  ' \\n',\n",
       "  'RTI Connext DDS',\n",
       "  '\\nR',\n",
       "  'ROS2',\n",
       "  ' \\n',\n",
       "  'OpenSplice',\n",
       "  ' \\n'],\n",
       " [],\n",
       " ['Scrum Master',\n",
       "  ' \\n',\n",
       "  'Бэклог',\n",
       "  ' \\n',\n",
       "  'Sprint',\n",
       "  ' \\n',\n",
       "  'Команда',\n",
       "  '\\nКом',\n",
       "  'Estimate Activity Resources',\n",
       "  '\\n\\n',\n",
       "  'Agile',\n",
       "  ' \\n',\n",
       "  'Backlog',\n",
       "  '\\nB',\n",
       "  'Sprint Burndown Chart',\n",
       "  '\\nS',\n",
       "  'Спринт',\n",
       "  ' \\n',\n",
       "  'SCRUM',\n",
       "  '\\nS',\n",
       "  'Задачи',\n",
       "  '\\nЗа',\n",
       "  'Product Owner',\n",
       "  ' \\n',\n",
       "  'Team',\n",
       "  ' \\n',\n",
       "  'Tasks',\n",
       "  ' \\n',\n",
       "  'Estimate Activity Durations',\n",
       "  'ations\\n',\n",
       "  'User Story'],\n",
       " ['интеллектуальных',\n",
       "  '\\n\\n',\n",
       "  'Семантическом Web',\n",
       "  ' дисциплины\\n',\n",
       "  'Семантического Web',\n",
       "  ' дисциплины\\n'],\n",
       " [],\n",
       " ['Logtalk', '\\nL'],\n",
       " [],\n",
       " ['ASP', '\\nAS'],\n",
       " ['Visual Prolog', 'og\\n'],\n",
       " [],\n",
       " [],\n",
       " [],\n",
       " ['NoSQL', '\\n\\n', 'SOL', '\\nS', 'NewSQL', '\\n\\n']]"
      ]
     },
     "execution_count": 23,
     "metadata": {},
     "output_type": "execute_result"
    }
   ],
   "source": [
    "norm"
   ]
  },
  {
   "cell_type": "code",
   "execution_count": null,
   "id": "c6085124",
   "metadata": {},
   "outputs": [],
   "source": []
  },
  {
   "cell_type": "code",
   "execution_count": null,
   "id": "a0a924dc",
   "metadata": {},
   "outputs": [],
   "source": []
  },
  {
   "cell_type": "code",
   "execution_count": 65,
   "id": "a1ffae8a",
   "metadata": {},
   "outputs": [
    {
     "ename": "TabError",
     "evalue": "inconsistent use of tabs and spaces in indentation (core.py, line 80)",
     "output_type": "error",
     "traceback": [
      "Traceback \u001b[0;36m(most recent call last)\u001b[0m:\n",
      "\u001b[0m  File \u001b[1;32m~/Desktop/jupN/jupN/lib/python3.10/site-packages/IPython/core/interactiveshell.py:3378\u001b[0m in \u001b[1;35mrun_code\u001b[0m\n    exec(code_obj, self.user_global_ns, self.user_ns)\u001b[0m\n",
      "\u001b[0m  Cell \u001b[1;32mIn [65], line 1\u001b[0m\n    from normalizer import Normalizer\u001b[0m\n",
      "\u001b[0;36m  File \u001b[0;32m~/Desktop/jupN/jupN/lib/python3.10/site-packages/normalizer/__init__.py:2\u001b[0;36m\n\u001b[0;31m    from  normalizer.core import Normalizer,getInstance\u001b[0;36m\n",
      "\u001b[0;36m  File \u001b[0;32m~/Desktop/jupN/jupN/lib/python3.10/site-packages/normalizer/core.py:80\u001b[0;36m\u001b[0m\n\u001b[0;31m    if(len(rhs)>0):\u001b[0m\n\u001b[0m    ^\u001b[0m\n\u001b[0;31mTabError\u001b[0m\u001b[0;31m:\u001b[0m inconsistent use of tabs and spaces in indentation\n"
     ]
    }
   ],
   "source": [
    "from normalizer import Normalizer\n",
    "\n",
    "text = 'С 12.01.1943 г. площадь сельсовета — 1785,5 га.'\n",
    "\n",
    "norm = Normalizer()\n",
    "result = norm.norm_text(text)\n",
    "print(result)"
   ]
  },
  {
   "cell_type": "code",
   "execution_count": null,
   "id": "60b246ad",
   "metadata": {},
   "outputs": [],
   "source": []
  },
  {
   "cell_type": "code",
   "execution_count": 41,
   "id": "94b2ced0",
   "metadata": {},
   "outputs": [],
   "source": [
    "from natasha import MorphVocab\n",
    "\n",
    "morph_vocab = MorphVocab()"
   ]
  },
  {
   "cell_type": "code",
   "execution_count": 49,
   "id": "c95f61ba",
   "metadata": {},
   "outputs": [],
   "source": [
    "from natasha import (\n",
    "    Segmenter,\n",
    "    \n",
    "    NewsEmbedding,\n",
    "    NewsMorphTagger,\n",
    "    NewsSyntaxParser,\n",
    "    \n",
    "    Doc\n",
    ")\n",
    "\n",
    "segmenter = Segmenter()\n",
    "emb = NewsEmbedding()\n",
    "morph_tagger = NewsMorphTagger(emb)\n",
    "syntax_parser = NewsSyntaxParser(emb)\n",
    "\n",
    "\n",
    "doc = Doc(text)\n",
    "\n",
    "doc.segment(segmenter)\n",
    "doc.tag_morph(morph_tagger)\n",
    "doc.parse_syntax(syntax_parser)"
   ]
  },
  {
   "cell_type": "code",
   "execution_count": 56,
   "id": "a411599f",
   "metadata": {},
   "outputs": [
    {
     "data": {
      "text/plain": [
       "[DocToken(stop=8, text='магазины', id='1_1', head_id='1_11', rel='nsubj', pos='NOUN', feats=<Inan,Acc,Masc,Plur>),\n",
       " DocToken(start=9, stop=19, text='приложений', id='1_2', head_id='1_1', rel='nmod', pos='NOUN', feats=<Inan,Gen,Neut,Plur>),\n",
       " DocToken(start=20, stop=21, text='-', id='1_3', head_id='1_25', rel='punct', pos='PUNCT'),\n",
       " DocToken(start=21, stop=22, text='>', id='1_4', head_id='1_18', rel='punct', pos='PUNCT'),\n",
       " DocToken(start=23, stop=30, text='магазин', id='1_5', head_id='1_33', rel='parataxis', pos='NOUN', feats=<Inan,Nom,Masc,Sing>),\n",
       " DocToken(start=31, stop=41, text='приложений', id='1_6', head_id='1_18', rel='nmod', pos='NOUN', feats=<Inan,Gen,Neut,Plur>),\n",
       " DocToken(start=42, stop=60, text='человеко-машинного', id='1_7', head_id='1_8', rel='amod', pos='ADJ', feats=<Gen,Pos,Masc,Sing>),\n",
       " DocToken(start=61, stop=71, text='интерфейса', id='1_8', head_id='1_20', rel='nmod', pos='NOUN', feats=<Inan,Gen,Masc,Sing>),\n",
       " DocToken(start=72, stop=73, text='-', id='1_9', head_id='1_11', rel='punct', pos='PUNCT'),\n",
       " DocToken(start=73, stop=74, text='>', id='1_10', head_id='1_18', rel='punct', pos='PUNCT'),\n",
       " DocToken(start=75, stop=92, text='человеко-машинный', id='1_11', head_id='1_33', rel='parataxis', pos='ADJ', feats=<Nom,Pos,Masc,Sing>),\n",
       " DocToken(start=93, stop=102, text='интерфейс', id='1_12', head_id='1_31', rel='conj', pos='NOUN', feats=<Inan,Acc,Masc,Sing>),\n",
       " DocToken(start=103, stop=112, text='принципах', id='1_13', head_id='1_25', rel='nmod', pos='NOUN', feats=<Inan,Loc,Masc,Plur>),\n",
       " DocToken(start=113, stop=127, text='взаимодействия', id='1_14', head_id='1_13', rel='nmod', pos='NOUN', feats=<Inan,Gen,Neut,Sing>),\n",
       " DocToken(start=128, stop=136, text='нейронов', id='1_15', head_id='1_21', rel='nmod', pos='NOUN', feats=<Inan,Gen,Masc,Plur>),\n",
       " DocToken(start=137, stop=138, text='-', id='1_16', head_id='1_25', rel='punct', pos='PUNCT'),\n",
       " DocToken(start=138, stop=139, text='>', id='1_17', head_id='1_18', rel='punct', pos='PUNCT'),\n",
       " DocToken(start=140, stop=148, text='принципы', id='1_18', head_id='1_33', rel='parataxis', pos='NOUN', feats=<Inan,Nom,Masc,Plur>),\n",
       " DocToken(start=149, stop=163, text='взаимодействия', id='1_19', head_id='1_18', rel='nmod', pos='NOUN', feats=<Inan,Gen,Neut,Sing>),\n",
       " DocToken(start=164, stop=172, text='нейронов', id='1_20', head_id='1_19', rel='nmod', pos='NOUN', feats=<Inan,Gen,Masc,Plur>),\n",
       " DocToken(start=173, stop=180, text='отладки', id='1_21', head_id='1_20', rel='nmod', pos='NOUN', feats=<Inan,Gen,Fem,Sing>),\n",
       " DocToken(start=181, stop=191, text='приложений', id='1_22', head_id='1_21', rel='nmod', pos='NOUN', feats=<Inan,Gen,Neut,Plur>),\n",
       " DocToken(start=192, stop=193, text='-', id='1_23', head_id='1_25', rel='punct', pos='PUNCT'),\n",
       " DocToken(start=193, stop=194, text='>', id='1_24', head_id='1_18', rel='punct', pos='PUNCT'),\n",
       " DocToken(start=195, stop=202, text='отладка', id='1_25', head_id='1_33', rel='parataxis', pos='NOUN', feats=<Inan,Nom,Fem,Sing>),\n",
       " DocToken(start=203, stop=213, text='приложений', id='1_26', head_id='1_31', rel='nmod', pos='NOUN', feats=<Inan,Gen,Neut,Plur>),\n",
       " DocToken(start=214, stop=225, text='содержанием', id='1_27', head_id='1_26', rel='nmod', pos='NOUN', feats=<Inan,Ins,Neut,Sing>),\n",
       " DocToken(start=226, stop=236, text='дисциплины', id='1_28', head_id='1_21', rel='nmod', pos='NOUN', feats=<Inan,Gen,Fem,Sing>),\n",
       " DocToken(start=237, stop=238, text='-', id='1_29', head_id='1_25', rel='punct', pos='PUNCT'),\n",
       " DocToken(start=238, stop=239, text='>', id='1_30', head_id='1_25', rel='punct', pos='PUNCT'),\n",
       " DocToken(start=240, stop=250, text='содержание', id='1_31', head_id='1_33', rel='parataxis', pos='NOUN', feats=<Inan,Nom,Neut,Sing>),\n",
       " DocToken(start=251, stop=261, text='дисциплины', id='1_32', head_id='1_33', rel='amod', pos='NOUN', feats=<Inan,Gen,Fem,Sing>),\n",
       " DocToken(start=262, stop=270, text='смелости', id='1_33', head_id='1_31', rel='nmod', pos='NOUN', feats=<Inan,Gen,Fem,Sing>),\n",
       " DocToken(start=271, stop=272, text='-', id='1_34', head_id='1_25', rel='punct', pos='PUNCT'),\n",
       " DocToken(start=272, stop=273, text='>', id='1_35', head_id='1_25', rel='punct', pos='PUNCT')]"
      ]
     },
     "execution_count": 56,
     "metadata": {},
     "output_type": "execute_result"
    }
   ],
   "source": [
    "doc.tokens"
   ]
  },
  {
   "cell_type": "code",
   "execution_count": 63,
   "id": "87e7def3",
   "metadata": {},
   "outputs": [
    {
     "ename": "AttributeError",
     "evalue": "'DocToken' object has no attribute 'normalize'",
     "output_type": "error",
     "traceback": [
      "\u001b[0;31m---------------------------------------------------------------------------\u001b[0m",
      "\u001b[0;31mAttributeError\u001b[0m                            Traceback (most recent call last)",
      "Cell \u001b[0;32mIn [63], line 2\u001b[0m\n\u001b[1;32m      1\u001b[0m \u001b[38;5;28;01mfor\u001b[39;00m span \u001b[38;5;129;01min\u001b[39;00m doc\u001b[38;5;241m.\u001b[39mtokens:\n\u001b[0;32m----> 2\u001b[0m     \u001b[43mspan\u001b[49m\u001b[38;5;241;43m.\u001b[39;49m\u001b[43mnormalize\u001b[49m(morph_vocab)\n\u001b[1;32m      4\u001b[0m {_\u001b[38;5;241m.\u001b[39mtext: _\u001b[38;5;241m.\u001b[39mnormal \u001b[38;5;28;01mfor\u001b[39;00m _ \u001b[38;5;129;01min\u001b[39;00m doc\u001b[38;5;241m.\u001b[39mspans}\n",
      "\u001b[0;31mAttributeError\u001b[0m: 'DocToken' object has no attribute 'normalize'"
     ]
    }
   ],
   "source": [
    "for span in doc.tokens:\n",
    "    span.normalize(morph_vocab)\n",
    "    \n",
    "{_.text: _.normal for _ in doc.spans}"
   ]
  },
  {
   "cell_type": "code",
   "execution_count": null,
   "id": "a731f11d",
   "metadata": {},
   "outputs": [],
   "source": []
  },
  {
   "cell_type": "code",
   "execution_count": 58,
   "id": "373e416a",
   "metadata": {},
   "outputs": [],
   "source": [
    "import json\n",
    "\n",
    "f = open('rpd_data.json')\n",
    "rpd_data = json.load(f)\n",
    "\n",
    "f.close()"
   ]
  },
  {
   "cell_type": "code",
   "execution_count": 66,
   "id": "c51fb6c9",
   "metadata": {},
   "outputs": [],
   "source": [
    "doc1 = Doc(rpd_data[1]['text'])\n",
    "\n",
    "doc1.segment(segmenter)\n",
    "doc1.tag_morph(morph_tagger)\n",
    "doc1.parse_syntax(syntax_parser)"
   ]
  },
  {
   "cell_type": "code",
   "execution_count": 67,
   "id": "0eb23c92",
   "metadata": {
    "scrolled": true
   },
   "outputs": [
    {
     "name": "stdout",
     "output_type": "stream",
     "text": [
      "В рамках дисциплины рассматриваются методы, средства и технологии \n",
      "автоматизированного проектирования сложных мехатронных модулей и \n",
      "роботов, стадии и этапы жизненного цикла продукции, разработки и \n",
      "проектирования, роль и место систем автоматизированного проектирования\n",
      " (САПР). Дисциплина знакомит с основными методами и средствами \n",
      "создания схемной и текстовой документации электротехнического проекта \n",
      "с использованием специализированных САПР. Она затрагивает вопросы \n",
      "обмена информацией при автоматизированном проектировании с \n",
      "использованием различных САПР. В рамках дисциплины рассматривается \n",
      "типовой состав и создается проектная документация примеров мехатронных\n",
      " модулей и роботов, выполняемая согласно стандарту. Практические \n",
      "занятия и лабораторные работы направлены на освоение инструментальных \n",
      "средств специализированных САПР электротехнического проектирования с \n",
      "использованием примеров мехатронных модулей и роботов.. Знание базовых\n",
      " понятий САПР проектирования деталей мехатронных модулей и роботов как\n",
      " инструмента описания продукции на этапах ее жизненного цикла. \n",
      "Формирование навыков автоматизированного геометрического моделирования\n",
      " в САПР, представления об основных принципах построения проектно-\n",
      "   ORG─                                                          \n",
      "рабоче-конструкторской документации деталей мехатронных модулей и \n",
      "роботов. Знании об основных понятий о схемотехнической части процесса \n",
      "проектирования и разработки деталей мехатронных модулей и роботов, \n",
      "получение навыков размещения элементов схемы на монтажных панелях \n",
      "электротехнических сборок (шкафов).. Цель задания: самостоятельное \n",
      "углубленное использование функциональных возможностей \n",
      "электротехнической САПР при проектировании электротехнических \n",
      "устройств на основе навыков, полученных при выполнении лабораторных \n",
      "работ и практических заданий. Содержание задания: исходными данными \n",
      "являются: краткое описание проектируемых устройств, их исходные \n",
      "принципиальные схемы (имиджи), информация компаний-производителей \n",
      "аппаратуры и конструкций (шкафов, пультов). Результатом является \n",
      "проектная документация: схемы электрические принципиальные, \n",
      "соединений, перечни элементов, таблицы соединений. В отчете необходимо\n",
      " привести также основные этапы создания проектной документации \n",
      "средствами САПР. Тема индивидуального задания: «Проектирование \n",
      "элемента системы управления электропривода в САПР AutoCAD Electrical».\n",
      " The theme of individual task: \"Design of element management system of\n",
      " the actuator in CAD AutoCAD Electrical\". Порядок выдачи, выполнения и\n",
      " оценки индивидуального домашнего задания определяется методикой \n",
      "текущего контроля.. Примерные вопросы к дифференцированному зачету  \n",
      "Технология геометрического моделирования в САПР AutoCAD. Системы \n",
      "координат и способы ввода координат точек. Плоскости построений. \n",
      "Накладываемые зависимости, образмеривание, контрольные размеры. \n",
      "Слоистая архитектура, типы линий, масштабы, системные свойства \n",
      "геометрических объектов. Способы создания и редактирования плоских \n",
      "объемных моделей. Примитивы, составные объекты, блоки и группы. \n",
      "Способы создания и использования библиотек. Внешние ссылки, составные \n",
      "документы и технология OLE в моделировании объектов. Общие \n",
      "характеристики САПР AutoCAD Electrical. Стадии проектирования и состав\n",
      " проектов автоматизации. Типы и виды схем, общие правила выполнения \n",
      "электротехнических документов. Понятие о стандартах ЕСКД. Структурные \n",
      "и функциональные схемы измерения и автоматизации. Назначение \n",
      "функциональных схем, методика и общие принципы их выполнения. \n",
      "Изображение технологического оборудования и коммуникаций. Изображение \n",
      "средств измерения и автоматизации. Позиционные обозначения приборов и \n",
      "средств автоматизации. Требования к оформлению и примеры выполнения \n",
      "функциональных схем. Принципиальные электрические схемы. Общие \n",
      "требования. Правила выполнения схем. Условные графические обозначения \n",
      "элементов схем. Обозначения цепей и проводов. Условные буквенно-\n",
      "цифровые обозначения элементов схем и их расшифровка. Выбор аппаратов \n",
      "защиты и коммутации. Назначение и общие требования. Выбор напряжения и\n",
      " требования к источникам питания. Выбор схемы электропитания, \n",
      "резервирование и автоматическое включение резерва. Аппаратура \n",
      "управления и защиты схем электропитания. Выбор аппаратов управления и \n",
      "защиты. Места установки аппаратов управления и защиты. Выбор сечений \n",
      "проводов и жил кабелей. Схемы внешних соединений и подключений. Общие \n",
      "положения. Схемы внешних соединений. Схемы подключения внешних \n",
      "проводок. Таблицы соединений внешних проводок. Таблицы подключения \n",
      "внешних проводок. Интерфейс AutoCAD Electrical. Документы проекта. \n",
      "Свойства документов и проектов. Шаблоны документов. Мастер \n",
      "графического меню. Соглашение об именах блоков графических образов. \n",
      "Атрибуты блоков графических образов. Добавление атрибута. \n",
      "Редактирование атрибута, свойства его отображения. Переназначение \n",
      "атрибута. Настройка библиотеки графических образов. Редактор \n",
      "графических образов. Процедура создания и редактирования УГО в \n",
      "                                                         ORG   \n",
      "соответствии с ЕСКД. Атрибуты УГО. Родительские и дочерние компоненты.\n",
      " Создание и настройка пользовательской библиотеки графических образов.\n",
      " Синтаксис библиотечного файла *.DAT. Имена таблиц базы данных \n",
      "каталога. Поля таблиц каталога. Вставка компонента схемы из каталога. \n",
      "Обновление компонентов из базы каталога. Редактирование базы данных \n",
      "каталога. Понятие провода, цепи, кабеля, перемычки. Использование \n",
      "цепей. Конструктор цепей. Инструменты для работы с проводами. \n",
      "Нумерация проводов. Проверки проводов. Слоистая архитектура проводов. \n",
      "Создание клемм, их редактирование. Вставка клемм и соединителей. \n",
      "Свойства клемм. Редактор клеммных колодок. Точки подключения, \n",
      "перемычки, многоуровневые клеммы. Понятие ПЛК. Обзор файла базы данных\n",
      " ПЛК. Формирование и вставка модулей ПЛК. Точки ввода/вывода. \n",
      "Добавление модуля ПЛК в базу данных. Заполнение основной надписи. \n",
      "Вставка компонентов электрической схемы из графического меню. \n",
      "Построение линий связи (проводов). Создание слоев проводов. \n",
      "Организация документов AutoCAD Electrical. Перекрестные ссылки. \n",
      "                       ORG───────────────                       \n",
      "Инструменты в рамках проекта (обновление-переназначение компонентов, \n",
      "проводов, отслеживание изменений). Общие сведения о компоновках. \n",
      "Взаимосвязь между чертежом схемы и компоновкой панели. Создание \n",
      "компоновочного образа, его редактирование. Позиции и номера позиций. \n",
      "Точки подключения компоновочного образа. Инструменты работы с коробами\n",
      " и DIN-рейками. Примерные вопросы к коллоквиуму 1 Какие геометрические\n",
      " модели используются при проектировании? Дайте понятие «Геометрические\n",
      " модели». Основные понятия и терминология САПР двумерного \n",
      "проектирования. Системы автоматизации электротехнического \n",
      "проектирования. Приведите классификацию систем автоматизации \n",
      "электротехнического проектирования. Структурные и функциональные \n",
      "электрические схемы. Дайте определение Структурные электрические \n",
      "схемы. Дайте определение Функциональные электрические схемы. \n",
      "Принципиальные электрические схемы. Правила оформления принципиальных \n",
      "электрических схем.   Примерные вопросы к коллоквиуму 2 Спецификация к\n",
      " принципиальной электрической схеме. Принципиальные электрические \n",
      "схемы питания Схемы внешних соединений и подключений Создание \n",
      "электротехнического проекта в среде в AutoCAD Electrical Создание \n",
      "графических образов (компонентов) в AutoCAD Electrical Адаптация \n",
      "библиотеки графических образов AutoCAD Electrical. Каталоги AutoCAD \n",
      "Electrical Цепи и провода в AutoCAD Electrical Клеммы в AutoCAD \n",
      "Electrical ПЛК в AutoCAD Electrical Электрические принципиальные схемы\n",
      " и схемы соединений AutoCAD Electrical, документы AutoCAD Electrical \n",
      "Компоновка монтажной панели в AutoCAD Electrical Схемные отчеты в \n",
      "AutoCAD Electrical Примерные вопросы для проверки остаточных знаний  \n",
      "Технология геометрического моделирования в САПР AutoCAD. Системы \n",
      "координат и способы ввода координат точек. Плоскости построений. \n",
      "Способы создания и редактирования плоских объемных моделей.  Способы \n",
      "создания и использования библиотек. Внешние ссылки, составные \n",
      "документы и технология OLE в моделировании объектов. Общие \n",
      "характеристики САПР AutoCAD Electrical. Стадии проектирования и состав\n",
      " проектов автоматизации. Типы и виды схем, общие правила выполнения \n",
      "электротехнических документов. Понятие о стандартах ЕСКД. Структурные \n",
      "и функциональные схемы измерения и автоматизации.  Изображение \n",
      "технологического оборудования и коммуникаций. Изображение средств \n",
      "измерения и автоматизации. Позиционные обозначения приборов и средств \n",
      "автоматизации. Требования к оформлению и примеры выполнения \n",
      "функциональных схем. Принципиальные электрические схемы. Правила \n",
      "выполнения схем.  Выбор аппаратов защиты и коммутации. Назначение и \n",
      "общие требования. Выбор напряжения и требования к источникам питания. \n",
      "Выбор схемы электропитания, резервирование и автоматическое включение \n",
      "резерва. Схемы внешних соединений и подключений. Общие положения.  \n",
      "Интерфейс AutoCAD Electrical. Документы проекта. Свойства документов и\n",
      " проектов. Шаблоны документов. Мастер графического меню. Соглашение об\n",
      " именах блоков графических образов. Атрибуты блоков графических \n",
      "образов.  Настройка библиотеки графических образов. Редактор \n",
      "графических образов. Процедура создания и редактирования УГО в \n",
      "                                                         ORG   \n",
      "соответствии с ЕСКД. Атрибуты УГО.  Понятие провода, цепи, кабеля, \n",
      "перемычки.  Создание клемм, их редактирование.  Понятие ПЛК. Обзор \n",
      "файла базы данных ПЛК. Формирование и вставка модулей ПЛК.  Заполнение\n",
      " основной надписи. Вставка компонентов электрической схемы из \n",
      "графического меню.  Организация документов AutoCAD Electrical. \n",
      "                                           ORG───────────────  \n",
      "Перекрестные ссылки. Инструменты в рамках проекта (обновление-\n",
      "переназначение компонентов, проводов, отслеживание изменений). . \n",
      "Введение. Предмет дисциплины, ее задачи и связь с другими курсами \n",
      "направлений подготовки бакалавров по направлению 15.03.06. Жизненный \n",
      "цикл продукции, стадии, этапы и методы проектирования. Демонстрация \n",
      "современных тенденций в автоматизированном проектировании. Тема 1. \n",
      "Геометрические модели. Технология геометрического моделирования в САПР\n",
      " AutoCAD. Системы координат и способы ввода координат точек. Плоскости\n",
      " построений. Тема 2. Основные понятия и терминология САПР двумерного \n",
      "проектирования. Накладываемые зависимости, образмеривание, контрольные\n",
      " размеры. Слоистая архитектура, типы линий, масштабы, системные \n",
      "свойства геометрических объектов. Способы создания и редактирования \n",
      "плоских объемных моделей. Примитивы, составные объекты, блоки и \n",
      "группы. Способы создания и использования библиотек. Внешние ссылки, \n",
      "составные документы и технология OLE в моделировании объектов. Тема 3.\n",
      " Системы автоматизации электротехнического проектирования. Общие \n",
      "характеристики САПР AutoCAD Electrical. Стадии проектирования и состав\n",
      " проектов автоматизации. Типы и виды схем, общие правила выполнения \n",
      "электротехнических документов. Понятие о стандартах ЕСКД. Тема 4. \n",
      "Структурные и функциональные электрические схемы. Структурные и \n",
      "функциональные схемы измерения и автоматизации. Назначение \n",
      "функциональных схем, методика и общие принципы их выполнения. \n",
      "Изображение технологического оборудования и коммуникаций. Изображение \n",
      "средств измерения и автоматизации. Позиционные обозначения приборов и \n",
      "средств автоматизации. Требования к оформлению и примеры выполнения \n",
      "функциональных схем. Тема 5. Принципиальные электрические схемы. Общие\n",
      " требования. Правила выполнения схем. Условные графические обозначения\n",
      " элементов схем. Обозначения цепей и проводов. Условные буквенно-\n",
      "цифровые обозначения элементов схем и их расшифровка. Тема 6. \n",
      "Принципиальные электрические схемы питания. Выбор аппаратов защиты и \n",
      "коммутации. Назначение и общие требования. Выбор напряжения и \n",
      "требования к источникам питания. Выбор схемы электропитания, \n",
      "резервирование и автоматическое включение резерва. Аппаратура \n",
      "управления и защиты схем электропитания. Выбор аппаратов управления и \n",
      "защиты. Места установки аппаратов управления и защиты. Выбор сечений \n",
      "проводов и жил кабелей. Тема 7. Схемы внешних соединений и \n",
      "подключений. Общие положения. Схемы внешних соединений. Схемы \n",
      "подключения внешних проводок. Таблицы соединений внешних проводок. \n",
      "Таблицы подключения внешних проводок. Тема 8. Создание \n",
      "электротехнического проекта в среде в AutoCAD Electrical. Интерфейс \n",
      "AutoCAD Electrical. Документы проекта. Свойства документов и проектов.\n",
      " Шаблоны документов. Тема 9. Создание графических образов \n",
      "(компонентов) в AutoCAD Electrical. Мастер графического меню. \n",
      "Соглашение об именах блоков графических образов. Атрибуты блоков \n",
      "графических образов. Добавление атрибута. Редактирование атрибута, \n",
      "свойства его отображения. Переназначение атрибута. Настройка \n",
      "библиотеки графических образов. Редактор графических образов. \n",
      "Процедура создания и редактирования УГО в соответствии с ЕСКД. \n",
      "                                    ORG                        \n",
      "Атрибуты УГО. Родительские и дочерние компоненты. Тема 10. Адаптация \n",
      "библиотеки графических образов AutoCAD Electrical. Каталоги AutoCAD \n",
      "Electrical. Создание и настройка пользовательской библиотеки \n",
      "графических образов. Синтаксис библиотечного файла *.DAT. Имена таблиц\n",
      " базы данных каталога. Поля таблиц каталога. Вставка компонента схемы \n",
      "из каталога. Обновление компонентов из базы каталога. Редактирование \n",
      "базы данных каталога. Тема 11. Цепи и провода в AutoCAD Electrical. \n",
      "Понятие провода, цепи, кабеля, перемычки. Использование цепей. \n",
      "Конструктор цепей. Инструменты для работы с проводами. Нумерация \n",
      "проводов. Проверки проводов. Слоистая архитектура проводов. Тема 12. \n",
      "Клеммы в AutoCAD Electrical. Создание клемм, их редактирование. \n",
      "         ORG───────────────                                     \n",
      "Вставка клемм и соединителей. Свойства клемм. Редактор клеммных \n",
      "колодок. Точки подключения, перемычки, многоуровневые клеммы. Тема 13.\n",
      " ПЛК в AutoCAD Electrical. Понятие ПЛК. Обзор файла базы данных ПЛК. \n",
      "Формирование и вставка модулей ПЛК. Точки ввода/вывода. Добавление \n",
      "модуля ПЛК в базу данных. Тема 14. Электрические принципиальные схемы \n",
      "и схемы соединений AutoCAD Electrical, документы AutoCAD Electrical. \n",
      "                                                 ORG───────────────  \n",
      "Заполнение основной надписи. Вставка компонентов электрической схемы \n",
      "из графического меню. Построение линий связи (проводов). Создание \n",
      "слоев проводов. Организация документов AutoCAD Electrical. \n",
      "                                       ORG───────────────  \n",
      "Перекрестные ссылки. Инструменты в рамках проекта (обновление-\n",
      "переназначение компонентов, проводов, отслеживание изменений). Тема \n",
      "15. Компоновка монтажной панели в AutoCAD Electrical. Общие сведения о\n",
      " компоновках. Взаимосвязь между чертежом схемы и компоновкой панели. \n",
      "Создание компоновочного образа, его редактирование. Позиции и номера \n",
      "позиций. Точки подключения компоновочного образа. Инструменты работы с\n",
      " коробами и DIN-рейками. Заключение. Схемные отчеты в AutoCAD \n",
      "                                                      ORG─────\n",
      "Electrical. Понятие об отчетах AutoCAD Electrical. Формирование \n",
      "──────────                     ORG───────────────               \n",
      "отчетов по схемам и монтажным панелям. Импорт и экспорт данных \n",
      "электронной таблицы. Добавление пользовательских полей отчетов. \n",
      "Тенденции и перспективы автоматизации проектирования. Роль и место \n",
      "информационных технологий в автоматизации\n"
     ]
    }
   ],
   "source": [
    "from natasha import NewsNERTagger\n",
    "\n",
    "ner_tagger = NewsNERTagger(emb)\n",
    "doc1.tag_ner(ner_tagger)\n",
    "doc1.ner.print()"
   ]
  },
  {
   "cell_type": "code",
   "execution_count": 68,
   "id": "5bb6def9",
   "metadata": {},
   "outputs": [
    {
     "data": {
      "text/plain": [
       "{}"
      ]
     },
     "execution_count": 68,
     "metadata": {},
     "output_type": "execute_result"
    }
   ],
   "source": [
    "for span in doc1.spans:\n",
    "    span.normalize(morph_vocab)\n",
    "    \n",
    "{_.text: _.normal for _ in doc.spans}"
   ]
  },
  {
   "cell_type": "code",
   "execution_count": null,
   "id": "0cf6723b",
   "metadata": {},
   "outputs": [],
   "source": []
  },
  {
   "cell_type": "code",
   "execution_count": 71,
   "id": "53c708a8",
   "metadata": {},
   "outputs": [
    {
     "ename": "TabError",
     "evalue": "inconsistent use of tabs and spaces in indentation (core.py, line 80)",
     "output_type": "error",
     "traceback": [
      "Traceback \u001b[0;36m(most recent call last)\u001b[0m:\n",
      "\u001b[0m  File \u001b[1;32m~/Desktop/jupN/jupN/lib/python3.10/site-packages/IPython/core/interactiveshell.py:3378\u001b[0m in \u001b[1;35mrun_code\u001b[0m\n    exec(code_obj, self.user_global_ns, self.user_ns)\u001b[0m\n",
      "\u001b[0m  Cell \u001b[1;32mIn [71], line 1\u001b[0m\n    from normalizer import normalize\u001b[0m\n",
      "\u001b[0;36m  File \u001b[0;32m~/Desktop/jupN/jupN/lib/python3.10/site-packages/normalizer/__init__.py:2\u001b[0;36m\n\u001b[0;31m    from  normalizer.core import Normalizer,getInstance\u001b[0;36m\n",
      "\u001b[0;36m  File \u001b[0;32m~/Desktop/jupN/jupN/lib/python3.10/site-packages/normalizer/core.py:80\u001b[0;36m\u001b[0m\n\u001b[0;31m    if(len(rhs)>0):\u001b[0m\n\u001b[0m    ^\u001b[0m\n\u001b[0;31mTabError\u001b[0m\u001b[0;31m:\u001b[0m inconsistent use of tabs and spaces in indentation\n"
     ]
    }
   ],
   "source": [
    "from normalizer import normalize\n",
    "input_text = '' + text\n",
    "normalized_text = normalize(\n",
    "    input_text,\n",
    "    unicode_norm=\"NFKC\",          # type of unicode normalization (default \"NFKC\")\n",
    "    punct_replacement=None,       # an optional string or callable for replacing the punctuations (default `None`, i.e. no replacement)\n",
    "    url_replacement=None,         # an optional string or callable for replacing the URLS (default `None`, i.e. no replacement)\n",
    "    emoji_replacement=None,       # an optional string or callable for replacing the emojis (default `None`, i.e. no replacement)\n",
    "    apply_unicode_norm_last=True  # whether to apply the unicode normalization before or after rule based replacements (default True)        \n",
    ")"
   ]
  },
  {
   "cell_type": "code",
   "execution_count": null,
   "id": "dd816c4b",
   "metadata": {},
   "outputs": [],
   "source": []
  }
 ],
 "metadata": {
  "kernelspec": {
   "display_name": "Python 3 (ipykernel)",
   "language": "python",
   "name": "python3"
  },
  "language_info": {
   "codemirror_mode": {
    "name": "ipython",
    "version": 3
   },
   "file_extension": ".py",
   "mimetype": "text/x-python",
   "name": "python",
   "nbconvert_exporter": "python",
   "pygments_lexer": "ipython3",
   "version": "3.10.6"
  }
 },
 "nbformat": 4,
 "nbformat_minor": 5
}
