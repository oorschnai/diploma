{
 "cells": [
  {
   "cell_type": "code",
   "execution_count": 1,
   "id": "f421cf8d",
   "metadata": {},
   "outputs": [],
   "source": [
    "import json\n",
    "import re\n",
    "from gensim.models import Word2Vec\n",
    "import csv\n",
    "import pandas as pd\n",
    "from sklearn.cluster import DBSCAN"
   ]
  },
  {
   "cell_type": "code",
   "execution_count": 2,
   "id": "9244aaa5",
   "metadata": {},
   "outputs": [],
   "source": [
    "import snowballstemmer"
   ]
  },
  {
   "cell_type": "code",
   "execution_count": 3,
   "id": "4d826c11",
   "metadata": {},
   "outputs": [],
   "source": [
    "f = open('digital_trajectoriesraject_public_keyword.json')\n",
    "digital_trajectoriesraject_public_keyword = json.load(f)\n",
    "\n",
    "f.close()"
   ]
  },
  {
   "cell_type": "code",
   "execution_count": 4,
   "id": "b4e14031",
   "metadata": {},
   "outputs": [],
   "source": [
    "f = open('documents1.json')\n",
    "documents = json.load(f)\n",
    "\n",
    "f.close()"
   ]
  },
  {
   "cell_type": "markdown",
   "id": "c96e36df",
   "metadata": {},
   "source": [
    "https://python-school.ru/blog/word2vec-with-examples-in-gensim/\n",
    "\n",
    "## digital_trajectoriesraject_public_keyword"
   ]
  },
  {
   "cell_type": "code",
   "execution_count": 5,
   "id": "abfd11b4",
   "metadata": {},
   "outputs": [],
   "source": [
    "text = \"\"\n",
    "for doc in documents: text += doc['text']"
   ]
  },
  {
   "cell_type": "code",
   "execution_count": 6,
   "id": "7eb26a20",
   "metadata": {},
   "outputs": [],
   "source": [
    "sentences = re.split(r'\\.+\\s', text.lower())\n"
   ]
  },
  {
   "cell_type": "code",
   "execution_count": 7,
   "id": "ffc6e1f7",
   "metadata": {},
   "outputs": [
    {
     "data": {
      "text/plain": [
       "['коммерциализация результатов научных исследований и разработок представляет собой процесс вовлечения их в экономический (коммерческий) оборот в различных сегментах национального и глобального рынков',\n",
       " 'актуальность данной дисциплины обусловлена становлением на путь модернизации экономики страны',\n",
       " 'в сложившейся ситуации резко возрастает необходимость оценки и обоснования экономической эффективности проектов, ориентированных на выпуск высокотехнологичной продукции и продвижение новых технологий']"
      ]
     },
     "execution_count": 7,
     "metadata": {},
     "output_type": "execute_result"
    }
   ],
   "source": [
    "sentences[:3]"
   ]
  },
  {
   "cell_type": "code",
   "execution_count": 8,
   "id": "a49ad45c",
   "metadata": {},
   "outputs": [],
   "source": [
    "sentences_word_by_word = []\n",
    "for i in sentences:\n",
    "    i = re.sub(r'[^а-яёa-z -+.\\/0-9]', '', i)\n",
    "    i = re.sub(r'\\xa0', ' ', i)\n",
    "    i = re.sub(r'\\s+', ' ', i)\n",
    "    sentences_word_by_word.append(i.split(' '))"
   ]
  },
  {
   "cell_type": "code",
   "execution_count": 10,
   "id": "e1af8d12",
   "metadata": {},
   "outputs": [
    {
     "data": {
      "text/plain": [
       "'w2v_model = Word2Vec(\\n    min_count=1,\\n    window=2,\\n    negative=10,\\n    alpha=0.03,\\n    min_alpha=0.0007,\\n    sample=6e-5,\\n    sg=1)\\n'"
      ]
     },
     "execution_count": 10,
     "metadata": {},
     "output_type": "execute_result"
    }
   ],
   "source": [
    "'''w2v_model = Word2Vec(\n",
    "    min_count=1,\n",
    "    window=2,\n",
    "    negative=10,\n",
    "    alpha=0.03,\n",
    "    min_alpha=0.0007,\n",
    "    sample=6e-5,\n",
    "    sg=1)\n",
    "'''"
   ]
  },
  {
   "cell_type": "code",
   "execution_count": 11,
   "id": "e0d449b5",
   "metadata": {},
   "outputs": [],
   "source": [
    "#w2v_model.build_vocab(sentences_word_by_word)"
   ]
  },
  {
   "cell_type": "code",
   "execution_count": 12,
   "id": "b3017e84",
   "metadata": {},
   "outputs": [],
   "source": [
    "#w2v_model.train(sentences_word_by_word, total_examples=w2v_model.corpus_count, epochs=30, report_delay=1)"
   ]
  },
  {
   "cell_type": "code",
   "execution_count": 13,
   "id": "eeb8a029",
   "metadata": {},
   "outputs": [],
   "source": [
    "#w2v_model.init_sims(replace=True)\n"
   ]
  },
  {
   "cell_type": "code",
   "execution_count": 14,
   "id": "7fd82f5c",
   "metadata": {},
   "outputs": [],
   "source": [
    "#w2v_model.wv.save_word2vec_format(fname='w2v.txt', fvocab='w2v_vocab.txt')"
   ]
  },
  {
   "cell_type": "code",
   "execution_count": 15,
   "id": "c13e9ce0",
   "metadata": {},
   "outputs": [],
   "source": [
    "#w2v_model.save('w2v_model.model')"
   ]
  },
  {
   "cell_type": "code",
   "execution_count": 16,
   "id": "d9485081",
   "metadata": {},
   "outputs": [],
   "source": [
    "w2v_model = Word2Vec.load('w2v_model.model')"
   ]
  },
  {
   "cell_type": "code",
   "execution_count": 17,
   "id": "c8a01823",
   "metadata": {},
   "outputs": [
    {
     "data": {
      "text/plain": [
       "(21727,\n",
       " ['биологических объектов',\n",
       "  'основы технологии обработки материалов',\n",
       "  'хх века',\n",
       "  'алгоритмов теории управления',\n",
       "  'изучение устройства'])"
      ]
     },
     "execution_count": 17,
     "metadata": {},
     "output_type": "execute_result"
    }
   ],
   "source": [
    "arr = []\n",
    "for i in digital_trajectoriesraject_public_keyword:\n",
    "    i = i['value']\n",
    "    i = re.sub('[^а-яёa-z -+.\\/0-9]', '', i.lower())\n",
    "    i = re.sub(r'\\xa0', ' ', i)\n",
    "    i = re.sub(r'\\s+', ' ', i)\n",
    "    arr.append(i)\n",
    "    \n",
    "digital_trajectoriesraject_public_keyword = list(set([] + arr))\n",
    "\n",
    "len(digital_trajectoriesraject_public_keyword), digital_trajectoriesraject_public_keyword[:5]"
   ]
  },
  {
   "cell_type": "code",
   "execution_count": 83,
   "id": "a1203805",
   "metadata": {},
   "outputs": [
    {
     "data": {
      "text/plain": [
       "array([ 0.11368366,  0.1534835 ,  0.28261477,  0.14253736, -0.03377892,\n",
       "       -0.1325148 ,  0.01215758,  0.16479501,  0.0185507 , -0.16854782,\n",
       "       -0.03401543, -0.04552145, -0.15744153,  0.02028718, -0.2915712 ,\n",
       "       -0.0037047 ,  0.16905883, -0.35075518,  0.07604432, -0.29700595,\n",
       "       -0.01102103,  0.32449514,  0.018736  ,  0.03866997, -0.02018026,\n",
       "       -0.19745213, -0.12796786,  0.1485452 ,  0.09864835,  0.1459948 ,\n",
       "        0.01216129,  0.11927241,  0.2285976 , -0.32617205, -0.00337032,\n",
       "        0.17040387, -0.25191242, -0.1643639 ,  0.04505595, -0.2966292 ,\n",
       "       -0.06749343,  0.12338302, -0.26707768, -0.14507507, -0.09573202,\n",
       "       -0.07334553, -0.11509916,  0.34034172,  0.19504982,  0.08144306,\n",
       "       -0.05076409,  0.04213373,  0.0400576 ,  0.05362323,  0.35313648,\n",
       "        0.22733079,  0.22153682, -0.02329143, -0.04966372, -0.17534766,\n",
       "       -0.04017783,  0.09120797, -0.29517448,  0.10454089,  0.06102083,\n",
       "       -0.05846421,  0.16219747, -0.1454515 , -0.13897488,  0.2636006 ,\n",
       "       -0.02161074,  0.0244557 ,  0.08051905,  0.08795194, -0.20381187,\n",
       "       -0.36550638, -0.20061266, -0.28204295, -0.02300749, -0.1813288 ,\n",
       "       -0.2322516 ,  0.08025633,  0.0073941 ,  0.13465896,  0.13185349,\n",
       "       -0.33304566, -0.03132197,  0.15536335, -0.01494499,  0.26597863,\n",
       "        0.15409338, -0.01037501, -0.14500833,  0.11129277,  0.44197315,\n",
       "       -0.03059632,  0.14726295, -0.16680765,  0.05412842, -0.04479536],\n",
       "      dtype=float32)"
      ]
     },
     "execution_count": 83,
     "metadata": {},
     "output_type": "execute_result"
    }
   ],
   "source": [
    "X = []\n",
    "dictionary = {}\n",
    "notInVocab = []\n",
    "\n",
    "for phrase in digital_trajectoriesraject_public_keyword:\n",
    "    vec = 0\n",
    "    flag = 0\n",
    "    #print(phrase)\n",
    "    for word in phrase.split(' '):\n",
    "        if not word in w2v_model.wv.key_to_index.keys():\n",
    "            flag = 1\n",
    "            notInVocab.append(word)\n",
    "            break\n",
    "        vec += w2v_model.wv[word]\n",
    "    if flag:\n",
    "        continue\n",
    "    string = \" \".join(str(v) for v in vec)\n",
    "    if string in dictionary.keys():\n",
    "        dictionary[string].append(phrase)\n",
    "    else:\n",
    "        dictionary[string] = [phrase]\n",
    "    X.append(vec)\n",
    "    \n",
    "X[0]"
   ]
  },
  {
   "cell_type": "code",
   "execution_count": 19,
   "id": "6cbbc808",
   "metadata": {},
   "outputs": [
    {
     "name": "stdout",
     "output_type": "stream",
     "text": [
      "0.11368366 0.1534835 0.28261477 0.14253736 -0.03377892 -0.1325148 0.012157582 0.16479501 0.018550698 -0.16854782 -0.03401543 -0.045521446 -0.15744153 0.020287178 -0.2915712 -0.0037047016 0.16905883 -0.35075518 0.07604432 -0.29700595 -0.0110210255 0.32449514 0.018736005 0.038669974 -0.02018026 -0.19745213 -0.12796786 0.1485452 0.098648354 0.1459948 0.012161292 0.11927241 0.2285976 -0.32617205 -0.0033703204 0.17040387 -0.25191242 -0.1643639 0.04505595 -0.2966292 -0.06749343 0.12338302 -0.26707768 -0.14507507 -0.09573202 -0.07334553 -0.11509916 0.34034172 0.19504982 0.08144306 -0.05076409 0.042133734 0.040057596 0.05362323 0.35313648 0.22733079 0.22153682 -0.023291431 -0.049663715 -0.17534766 -0.040177833 0.09120797 -0.29517448 0.10454089 0.06102083 -0.058464214 0.16219747 -0.1454515 -0.13897488 0.2636006 -0.021610744 0.024455696 0.08051905 0.08795194 -0.20381187 -0.36550638 -0.20061266 -0.28204295 -0.023007486 -0.1813288 -0.2322516 0.08025633 0.0073941033 0.13465896 0.13185349 -0.33304566 -0.031321965 0.15536335 -0.014944989 0.26597863 0.15409338 -0.010375012 -0.14500833 0.11129277 0.44197315 -0.030596316 0.14726295 -0.16680765 0.05412842 -0.044795364 ['биологических объектов'] \n",
      "\n",
      "\n"
     ]
    }
   ],
   "source": [
    "for i in list(dictionary.keys())[:1]:\n",
    "    print(i, dictionary[i], '\\n\\n')"
   ]
  },
  {
   "cell_type": "markdown",
   "id": "2ea002af",
   "metadata": {},
   "source": [
    "### DBSCAN"
   ]
  },
  {
   "cell_type": "code",
   "execution_count": 78,
   "id": "14c17180",
   "metadata": {},
   "outputs": [],
   "source": [
    "clustering = DBSCAN(eps=0.01, min_samples=2, algorithm='kd_tree').fit(X)\n"
   ]
  },
  {
   "cell_type": "code",
   "execution_count": 79,
   "id": "2b608b2d",
   "metadata": {},
   "outputs": [
    {
     "data": {
      "text/plain": [
       "array([-1, -1, -1, ..., -1, -1, -1])"
      ]
     },
     "execution_count": 79,
     "metadata": {},
     "output_type": "execute_result"
    }
   ],
   "source": [
    "clustering.labels_"
   ]
  },
  {
   "cell_type": "code",
   "execution_count": 80,
   "id": "e1ae61da",
   "metadata": {},
   "outputs": [
    {
     "name": "stdout",
     "output_type": "stream",
     "text": [
      "21557\n",
      "2\n",
      "2\n",
      "2\n",
      "2\n",
      "2\n",
      "2\n",
      "2\n",
      "2\n",
      "2\n",
      "2\n",
      "2\n",
      "2\n",
      "2\n",
      "2\n",
      "2\n",
      "2\n",
      "2\n",
      "2\n",
      "2\n",
      "2\n"
     ]
    }
   ],
   "source": [
    "for i in range(-1, 20):\n",
    "    print(list(clustering.labels_).count(i))"
   ]
  },
  {
   "cell_type": "code",
   "execution_count": 81,
   "id": "989d7d2b",
   "metadata": {},
   "outputs": [],
   "source": [
    "number_of_clusters = clustering.labels_.max()\n",
    "synonyms_array = []\n",
    "size = len(X)\n",
    "labels = list(clustering.labels_)\n",
    "\n",
    "for i in range(number_of_clusters):\n",
    "    arr = []\n",
    "    start_index = 0\n",
    "    while(1):\n",
    "        if (i not in labels[start_index:]):\n",
    "            break\n",
    "        next_index = labels[start_index:].index(i)\n",
    "        key = \" \".join(str(v) for v in X[next_index])\n",
    "        arr.extend(dictionary[key])\n",
    "        start_index += next_index + 1\n",
    "    synonyms_array.append(arr)\n",
    "            "
   ]
  },
  {
   "cell_type": "code",
   "execution_count": 82,
   "id": "4377ac5f",
   "metadata": {
    "scrolled": true
   },
   "outputs": [
    {
     "name": "stdout",
     "output_type": "stream",
     "text": [
      "0\n",
      "устройствах свч\n",
      "свч устройствах\n",
      "значение языка с++\n",
      "\n",
      "1\n",
      "tcad synopsys\n",
      "synopsys tcad\n",
      "современное развитие\n",
      "\n",
      "2\n",
      "систем автономных\n",
      "автономных систем\n",
      "биологических процессов\n",
      "\n",
      "3\n",
      "методов организации\n",
      "организации методов\n",
      "изучению основ технологии\n",
      "\n",
      "4\n",
      "работы получение навыков\n",
      "обеспечению защиты информации\n",
      "\n",
      "5\n",
      "систем поддержки\n",
      "поддержки систем\n",
      "основания типологии культур\n",
      "\n",
      "6\n",
      "основы формирования технологии\n",
      "принцип действия двигателя\n",
      "\n",
      "7\n",
      "напряжения источника\n",
      "источника напряжения\n",
      "электронные устройства\n",
      "\n",
      "8\n",
      "применения методов\n",
      "методов применения\n",
      "информатизации управления инновациями\n",
      "\n",
      "9\n",
      "систем информационных\n",
      "информационных систем\n",
      "содержание эссе\n",
      "\n",
      "10\n",
      "объектов проектирования\n",
      "проектирования объектов\n",
      "обработка\n",
      "\n",
      "11\n",
      "представления моделей\n",
      "моделей представления\n",
      "знания маршрутов проектирования\n",
      "\n",
      "12\n",
      "ответа варианты\n",
      "варианты ответа\n",
      "обработки результатов исследований\n",
      "\n",
      "13\n",
      "алгоритмов оптимизации\n",
      "оптимизации алгоритмов\n",
      "производства цс\n",
      "\n",
      "14\n",
      "работы навыков\n",
      "навыков работы\n",
      "сертификации систем\n",
      "\n",
      "15\n",
      "работы формирование навыков\n",
      "процессного управления\n",
      "\n",
      "16\n",
      "компонентов информационных\n",
      "информационных компонентов\n",
      "продукты проведения исследований\n",
      "\n",
      "17\n",
      "различных лазеров\n",
      "лазеров различных\n",
      "особенности этапа планирования\n",
      "\n",
      "18\n",
      "разработке топологии цепей свч\n",
      "учебной дисциплины\n",
      "\n",
      "19\n",
      "моделирование устройств свч\n",
      " германии \n",
      "\n",
      "20\n",
      "графовых slam алгоритмов\n",
      "классификация имиджа бренда\n",
      "\n",
      "21\n",
      "классификации систем\n",
      "систем классификации\n",
      "виды договоров\n",
      "\n",
      "22\n",
      "излучения рентгеновского\n",
      "рентгеновского излучения\n",
      "навыков проектирования систем управления\n",
      "\n",
      "23\n",
      "линиях передачи свч\n",
      "обзор проблематики структур данных\n",
      "\n",
      "24\n",
      "свч устройств\n",
      "устройств свч\n",
      "анализ бизнеспроцессов\n",
      "\n",
      "25\n",
      "случайных дискретных сигналов\n",
      "дискретных случайных сигналов\n",
      "международная бизнес\n",
      "\n",
      "26\n",
      "проектирование фильтров свч\n",
      "функции цепи\n",
      "\n",
      "27\n",
      "проектирования средств\n",
      "средств проектирования\n",
      "макросы транслятора ассемблера\n",
      "\n",
      "28\n",
      "систем моделирования\n",
      "моделирования систем\n",
      "проектных работ\n",
      "\n",
      "29\n",
      "управления процессами\n",
      "процессами управления\n",
      "приобретение умений применения алгоритмов операций\n",
      "\n",
      "30\n",
      "систем проектирования\n",
      "проектирования систем\n",
      "методология управления бизнесом\n",
      "\n",
      "31\n",
      "излучения оптического\n",
      "оптического излучения\n",
      "дефектных изделий\n",
      "\n",
      "32\n",
      "свч фильтры\n",
      "фильтры свч\n",
      "параметрам методов диагностики\n",
      "\n",
      "33\n",
      "проведения самостоятельного\n",
      "самостоятельного проведения\n",
      "оду\n",
      "\n"
     ]
    }
   ],
   "source": [
    "for i in range(len(synonyms_array)):\n",
    "    print(i)\n",
    "    for j in synonyms_array[i]:\n",
    "        print(j)\n",
    "    print()"
   ]
  },
  {
   "cell_type": "code",
   "execution_count": null,
   "id": "075a9ec5",
   "metadata": {},
   "outputs": [],
   "source": []
  },
  {
   "cell_type": "code",
   "execution_count": null,
   "id": "d2be35f1",
   "metadata": {},
   "outputs": [],
   "source": []
  },
  {
   "cell_type": "code",
   "execution_count": 75,
   "id": "5b0468e8",
   "metadata": {},
   "outputs": [
    {
     "name": "stdout",
     "output_type": "stream",
     "text": [
      "['устройствах свч', 'свч устройствах'] \n",
      "\n",
      "['tcad synopsys', 'synopsys tcad'] \n",
      "\n",
      "['систем автономных', 'автономных систем'] \n",
      "\n",
      "['методов организации', 'организации методов'] \n",
      "\n",
      "['систем поддержки', 'поддержки систем'] \n",
      "\n",
      "['напряжения источника', 'источника напряжения'] \n",
      "\n",
      "['применения методов', 'методов применения'] \n",
      "\n",
      "['систем информационных', 'информационных систем'] \n",
      "\n",
      "['объектов проектирования', 'проектирования объектов'] \n",
      "\n",
      "['представления моделей', 'моделей представления'] \n",
      "\n",
      "['ответа варианты', 'варианты ответа'] \n",
      "\n",
      "['алгоритмов оптимизации', 'оптимизации алгоритмов'] \n",
      "\n",
      "['работы навыков', 'навыков работы'] \n",
      "\n",
      "['компонентов информационных', 'информационных компонентов'] \n",
      "\n",
      "['различных лазеров', 'лазеров различных'] \n",
      "\n",
      "['классификации систем', 'систем классификации'] \n",
      "\n",
      "['излучения рентгеновского', 'рентгеновского излучения'] \n",
      "\n",
      "['свч устройств', 'устройств свч'] \n",
      "\n",
      "['случайных дискретных сигналов', 'дискретных случайных сигналов'] \n",
      "\n",
      "['проектирования средств', 'средств проектирования'] \n",
      "\n",
      "['систем моделирования', 'моделирования систем'] \n",
      "\n",
      "['управления процессами', 'процессами управления'] \n",
      "\n",
      "['систем проектирования', 'проектирования систем'] \n",
      "\n",
      "['излучения оптического', 'оптического излучения'] \n",
      "\n",
      "['свч фильтры', 'фильтры свч'] \n",
      "\n",
      "['проведения самостоятельного', 'самостоятельного проведения'] \n",
      "\n"
     ]
    }
   ],
   "source": [
    "for i in list(dictionary.keys()):\n",
    "    if len(dictionary[i]) > 1:\n",
    "        print(dictionary[i], '\\n')"
   ]
  },
  {
   "cell_type": "code",
   "execution_count": null,
   "id": "8ecbd757",
   "metadata": {},
   "outputs": [],
   "source": []
  },
  {
   "cell_type": "markdown",
   "id": "571cd1b8",
   "metadata": {},
   "source": [
    "### Мусор\n"
   ]
  },
  {
   "cell_type": "code",
   "execution_count": 18,
   "id": "79aafdcd",
   "metadata": {},
   "outputs": [
    {
     "data": {
      "text/plain": [
       "21627"
      ]
     },
     "execution_count": 18,
     "metadata": {},
     "output_type": "execute_result"
    }
   ],
   "source": [
    "len(X)"
   ]
  },
  {
   "cell_type": "code",
   "execution_count": 52,
   "id": "320b4628",
   "metadata": {},
   "outputs": [
    {
     "data": {
      "text/plain": [
       "(100,\n",
       " ['а.',\n",
       "  'а.',\n",
       "  'им.',\n",
       "  'expressg.',\n",
       "  'b.',\n",
       "  'б.',\n",
       "  'n.',\n",
       "  'а.',\n",
       "  'r.',\n",
       "  '3g.',\n",
       "  'м.д.с.',\n",
       "  'а.',\n",
       "  'вт.',\n",
       "  'microstructured',\n",
       "  'и.',\n",
       "  'p.',\n",
       "  'б.',\n",
       "  'а.',\n",
       "  'фишер',\n",
       "  'э.',\n",
       "  'lm.',\n",
       "  'ч.',\n",
       "  'ф.',\n",
       "  'в2с.',\n",
       "  'а.к.',\n",
       "  'а.',\n",
       "  'райт',\n",
       "  'а.',\n",
       "  'а.',\n",
       "  'processor',\n",
       "  'b.',\n",
       "  'т.',\n",
       "  'а.',\n",
       "  'в.и.',\n",
       "  'б.',\n",
       "  'б.',\n",
       "  'т.',\n",
       "  'м.д.с.',\n",
       "  'т.ч.',\n",
       "  'f1(x',\n",
       "  'а.',\n",
       "  '5s.',\n",
       "  'http(s',\n",
       "  'maec',\n",
       "  'ком.',\n",
       "  'f1(x',\n",
       "  'а.',\n",
       "  'б.',\n",
       "  '3d.',\n",
       "  'languages',\n",
       "  'а.',\n",
       "  'geometry',\n",
       "  'asi',\n",
       "  'им.',\n",
       "  'd.',\n",
       "  'д.и.',\n",
       "  'к.',\n",
       "  'м.ю.',\n",
       "  'а.',\n",
       "  'l.',\n",
       "  'ф.и.о.',\n",
       "  'тыс.',\n",
       "  'i.',\n",
       "  'д.и.',\n",
       "  'и.в.',\n",
       "  'д.и.',\n",
       "  'а.',\n",
       "  'а.',\n",
       "  'г.п.',\n",
       "  'криптопроколов',\n",
       "  'т.ч.',\n",
       "  'а.',\n",
       "  'прожект',\n",
       "  'pow',\n",
       "  '4d.',\n",
       "  'б.',\n",
       "  '#',\n",
       "  'у.',\n",
       "  'им.',\n",
       "  'б.',\n",
       "  'им.',\n",
       "  'вс.',\n",
       "  'c(x',\n",
       "  'в2b.',\n",
       "  'исон',\n",
       "  'mdd',\n",
       "  'f(x)x8+x6+x3',\n",
       "  'f.',\n",
       "  'а.',\n",
       "  'а.',\n",
       "  'а.',\n",
       "  'kellogg',\n",
       "  'e.',\n",
       "  'ленина',\n",
       "  'а.',\n",
       "  'б.',\n",
       "  'а.',\n",
       "  'а.',\n",
       "  'b.',\n",
       "  'вс.'])"
      ]
     },
     "execution_count": 52,
     "metadata": {},
     "output_type": "execute_result"
    }
   ],
   "source": [
    "len(notInVocab), notInVocab"
   ]
  },
  {
   "cell_type": "code",
   "execution_count": null,
   "id": "8f3de0e9",
   "metadata": {},
   "outputs": [],
   "source": []
  },
  {
   "cell_type": "code",
   "execution_count": null,
   "id": "85f94fe9",
   "metadata": {},
   "outputs": [],
   "source": []
  },
  {
   "cell_type": "code",
   "execution_count": null,
   "id": "fa66fb0e",
   "metadata": {},
   "outputs": [],
   "source": []
  }
 ],
 "metadata": {
  "kernelspec": {
   "display_name": "Python 3 (ipykernel)",
   "language": "python",
   "name": "python3"
  },
  "language_info": {
   "codemirror_mode": {
    "name": "ipython",
    "version": 3
   },
   "file_extension": ".py",
   "mimetype": "text/x-python",
   "name": "python",
   "nbconvert_exporter": "python",
   "pygments_lexer": "ipython3",
   "version": "3.10.6"
  }
 },
 "nbformat": 4,
 "nbformat_minor": 5
}
